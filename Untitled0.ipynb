{
  "nbformat": 4,
  "nbformat_minor": 0,
  "metadata": {
    "colab": {
      "name": "Untitled0.ipynb",
      "provenance": [],
      "mount_file_id": "1CZVRS-bbcHHjZQuy5kYNoEuO5obn548X",
      "authorship_tag": "ABX9TyNLF7ReG+EszzPsrejcZB5N",
      "include_colab_link": true
    },
    "kernelspec": {
      "name": "python3",
      "display_name": "Python 3"
    },
    "language_info": {
      "name": "python"
    }
  },
  "cells": [
    {
      "cell_type": "markdown",
      "metadata": {
        "id": "view-in-github",
        "colab_type": "text"
      },
      "source": [
        "<a href=\"https://colab.research.google.com/github/Fernweh-g/bin/blob/master/Untitled0.ipynb\" target=\"_parent\"><img src=\"https://colab.research.google.com/assets/colab-badge.svg\" alt=\"Open In Colab\"/></a>"
      ]
    },
    {
      "cell_type": "code",
      "metadata": {
        "colab": {
          "base_uri": "https://localhost:8080/"
        },
        "id": "HJLf89wF0eX_",
        "outputId": "739b3f08-35f5-4d8f-c703-0484c64d6195"
      },
      "source": [
        "from google.colab import drive\n",
        "drive.mount('/content/drive/')"
      ],
      "execution_count": null,
      "outputs": [
        {
          "output_type": "stream",
          "text": [
            "Mounted at /content/drive/\n"
          ],
          "name": "stdout"
        }
      ]
    },
    {
      "cell_type": "code",
      "metadata": {
        "colab": {
          "base_uri": "https://localhost:8080/"
        },
        "id": "bMPsnEbS3u7P",
        "outputId": "06cb2a95-147f-450b-dc1b-41a211bd9c61"
      },
      "source": [
        "!ls '/contet/drive/'"
      ],
      "execution_count": null,
      "outputs": [
        {
          "output_type": "stream",
          "text": [
            "ls: cannot access '/contet/drive/': No such file or directory\n"
          ],
          "name": "stdout"
        }
      ]
    },
    {
      "cell_type": "code",
      "metadata": {
        "colab": {
          "base_uri": "https://localhost:8080/"
        },
        "id": "25Olsh5Z32YW",
        "outputId": "e4456601-4480-4f4e-ba94-8aa9414e2cf3"
      },
      "source": [
        "!ls '/content/drive/'"
      ],
      "execution_count": null,
      "outputs": [
        {
          "output_type": "stream",
          "text": [
            "MyDrive\n"
          ],
          "name": "stdout"
        }
      ]
    },
    {
      "cell_type": "code",
      "metadata": {
        "id": "Sa0eLf1wQ8OL"
      },
      "source": [
        "!cd /"
      ],
      "execution_count": null,
      "outputs": []
    },
    {
      "cell_type": "code",
      "metadata": {
        "colab": {
          "base_uri": "https://localhost:8080/"
        },
        "id": "1rkVY5LTRTWG",
        "outputId": "d5f9e789-f6b1-4b7b-f978-acfe06c7e9e5"
      },
      "source": [
        "!ls"
      ],
      "execution_count": null,
      "outputs": [
        {
          "output_type": "stream",
          "text": [
            "sample_data\n"
          ],
          "name": "stdout"
        }
      ]
    },
    {
      "cell_type": "code",
      "metadata": {
        "colab": {
          "base_uri": "https://localhost:8080/"
        },
        "id": "lG2-7mM2j1nS",
        "outputId": "c64b45cf-2c50-436d-bfd2-a21fa09f2f03"
      },
      "source": [
        "!vi sample_data"
      ],
      "execution_count": null,
      "outputs": [
        {
          "output_type": "stream",
          "text": [
            "/bin/bash: vi: command not found\n"
          ],
          "name": "stdout"
        }
      ]
    },
    {
      "cell_type": "code",
      "metadata": {
        "id": "XLloklNSj5s2"
      },
      "source": [
        ""
      ],
      "execution_count": null,
      "outputs": []
    },
    {
      "cell_type": "code",
      "metadata": {
        "colab": {
          "base_uri": "https://localhost:8080/"
        },
        "id": "614-ZF3alT1f",
        "outputId": "5761c56e-1e57-4076-f337-a4de800a4872"
      },
      "source": [
        "\n",
        "from google.colab import drive\n",
        "drive.mount('/content/drive')"
      ],
      "execution_count": null,
      "outputs": [
        {
          "output_type": "stream",
          "text": [
            "Mounted at /content/drive\n"
          ],
          "name": "stdout"
        }
      ]
    },
    {
      "cell_type": "code",
      "metadata": {
        "colab": {
          "base_uri": "https://localhost:8080/"
        },
        "id": "FAsuMYFJlx9Q",
        "outputId": "b456840a-12be-4da7-d158-aa833635b2dd"
      },
      "source": [
        "!ls '/content/drive/My Drive'"
      ],
      "execution_count": null,
      "outputs": [
        {
          "output_type": "stream",
          "text": [
            "'ParallelsDesktop 11.2.0-32581.zip'   Untitled0.ipynb   个人简历.pdf   雅思\n"
          ],
          "name": "stdout"
        }
      ]
    },
    {
      "cell_type": "code",
      "metadata": {
        "colab": {
          "base_uri": "https://localhost:8080/"
        },
        "id": "9XV4SFe6mXtB",
        "outputId": "b47b5e82-6e16-4f7b-e965-43f45ab62bcf"
      },
      "source": [
        "!pip list"
      ],
      "execution_count": null,
      "outputs": [
        {
          "output_type": "stream",
          "text": [
            "Package                       Version            \n",
            "----------------------------- -------------------\n",
            "absl-py                       0.12.0             \n",
            "alabaster                     0.7.12             \n",
            "albumentations                0.1.12             \n",
            "altair                        4.1.0              \n",
            "appdirs                       1.4.4              \n",
            "argon2-cffi                   20.1.0             \n",
            "arviz                         0.11.2             \n",
            "astor                         0.8.1              \n",
            "astropy                       4.2.1              \n",
            "astunparse                    1.6.3              \n",
            "async-generator               1.10               \n",
            "atari-py                      0.2.9              \n",
            "atomicwrites                  1.4.0              \n",
            "attrs                         21.2.0             \n",
            "audioread                     2.1.9              \n",
            "autograd                      1.3                \n",
            "Babel                         2.9.1              \n",
            "backcall                      0.2.0              \n",
            "beautifulsoup4                4.6.3              \n",
            "bleach                        3.3.0              \n",
            "blis                          0.4.1              \n",
            "bokeh                         2.3.2              \n",
            "Bottleneck                    1.3.2              \n",
            "branca                        0.4.2              \n",
            "bs4                           0.0.1              \n",
            "CacheControl                  0.12.6             \n",
            "cached-property               1.5.2              \n",
            "cachetools                    4.2.2              \n",
            "catalogue                     1.0.0              \n",
            "certifi                       2020.12.5          \n",
            "cffi                          1.14.5             \n",
            "cftime                        1.5.0              \n",
            "chainer                       7.4.0              \n",
            "chardet                       3.0.4              \n",
            "click                         7.1.2              \n",
            "cloudpickle                   1.3.0              \n",
            "cmake                         3.12.0             \n",
            "cmdstanpy                     0.9.5              \n",
            "colorcet                      2.0.6              \n",
            "colorlover                    0.3.0              \n",
            "community                     1.0.0b1            \n",
            "contextlib2                   0.5.5              \n",
            "convertdate                   2.3.2              \n",
            "coverage                      3.7.1              \n",
            "coveralls                     0.5                \n",
            "crcmod                        1.7                \n",
            "cufflinks                     0.17.3             \n",
            "cupy-cuda101                  7.4.0              \n",
            "cvxopt                        1.2.6              \n",
            "cvxpy                         1.0.31             \n",
            "cycler                        0.10.0             \n",
            "cymem                         2.0.5              \n",
            "Cython                        0.29.23            \n",
            "daft                          0.0.4              \n",
            "dask                          2.12.0             \n",
            "datascience                   0.10.6             \n",
            "debugpy                       1.0.0              \n",
            "decorator                     4.4.2              \n",
            "defusedxml                    0.7.1              \n",
            "descartes                     1.1.0              \n",
            "dill                          0.3.3              \n",
            "distributed                   1.25.3             \n",
            "dlib                          19.18.0            \n",
            "dm-tree                       0.1.6              \n",
            "docopt                        0.6.2              \n",
            "docutils                      0.17.1             \n",
            "dopamine-rl                   1.0.5              \n",
            "earthengine-api               0.1.266            \n",
            "easydict                      1.9                \n",
            "ecos                          2.0.7.post1        \n",
            "editdistance                  0.5.3              \n",
            "en-core-web-sm                2.2.5              \n",
            "entrypoints                   0.3                \n",
            "ephem                         3.7.7.1            \n",
            "et-xmlfile                    1.1.0              \n",
            "fa2                           0.3.5              \n",
            "fastai                        1.0.61             \n",
            "fastdtw                       0.3.4              \n",
            "fastprogress                  1.0.0              \n",
            "fastrlock                     0.6                \n",
            "fbprophet                     0.7.1              \n",
            "feather-format                0.4.1              \n",
            "filelock                      3.0.12             \n",
            "firebase-admin                4.4.0              \n",
            "fix-yahoo-finance             0.0.22             \n",
            "Flask                         1.1.4              \n",
            "flatbuffers                   1.12               \n",
            "folium                        0.8.3              \n",
            "future                        0.16.0             \n",
            "gast                          0.4.0              \n",
            "GDAL                          2.2.2              \n",
            "gdown                         3.6.4              \n",
            "gensim                        3.6.0              \n",
            "geographiclib                 1.50               \n",
            "geopy                         1.17.0             \n",
            "gin-config                    0.4.0              \n",
            "glob2                         0.7                \n",
            "google                        2.0.3              \n",
            "google-api-core               1.26.3             \n",
            "google-api-python-client      1.12.8             \n",
            "google-auth                   1.30.0             \n",
            "google-auth-httplib2          0.0.4              \n",
            "google-auth-oauthlib          0.4.4              \n",
            "google-cloud-bigquery         1.21.0             \n",
            "google-cloud-bigquery-storage 1.1.0              \n",
            "google-cloud-core             1.0.3              \n",
            "google-cloud-datastore        1.8.0              \n",
            "google-cloud-firestore        1.7.0              \n",
            "google-cloud-language         1.2.0              \n",
            "google-cloud-storage          1.18.1             \n",
            "google-cloud-translate        1.5.0              \n",
            "google-colab                  1.0.0              \n",
            "google-pasta                  0.2.0              \n",
            "google-resumable-media        0.4.1              \n",
            "googleapis-common-protos      1.53.0             \n",
            "googledrivedownloader         0.4                \n",
            "graphviz                      0.10.1             \n",
            "greenlet                      1.1.0              \n",
            "grpcio                        1.34.1             \n",
            "gspread                       3.0.1              \n",
            "gspread-dataframe             3.0.8              \n",
            "gym                           0.17.3             \n",
            "h5py                          3.1.0              \n",
            "HeapDict                      1.0.1              \n",
            "hijri-converter               2.1.1              \n",
            "holidays                      0.10.5.2           \n",
            "holoviews                     1.14.3             \n",
            "html5lib                      1.0.1              \n",
            "httpimport                    0.5.18             \n",
            "httplib2                      0.17.4             \n",
            "httplib2shim                  0.0.3              \n",
            "humanize                      0.5.1              \n",
            "hyperopt                      0.1.2              \n",
            "ideep4py                      2.0.0.post3        \n",
            "idna                          2.10               \n",
            "imageio                       2.4.1              \n",
            "imagesize                     1.2.0              \n",
            "imbalanced-learn              0.4.3              \n",
            "imblearn                      0.0                \n",
            "imgaug                        0.2.9              \n",
            "importlib-metadata            4.0.1              \n",
            "importlib-resources           5.1.3              \n",
            "imutils                       0.5.4              \n",
            "inflect                       2.1.0              \n",
            "iniconfig                     1.1.1              \n",
            "install                       1.3.4              \n",
            "intel-openmp                  2021.2.0           \n",
            "intervaltree                  2.1.0              \n",
            "ipykernel                     4.10.1             \n",
            "ipython                       5.5.0              \n",
            "ipython-genutils              0.2.0              \n",
            "ipython-sql                   0.3.9              \n",
            "ipywidgets                    7.6.3              \n",
            "itsdangerous                  1.1.0              \n",
            "jax                           0.2.13             \n",
            "jaxlib                        0.1.66+cuda110     \n",
            "jdcal                         1.4.1              \n",
            "jedi                          0.18.0             \n",
            "jieba                         0.42.1             \n",
            "Jinja2                        2.11.3             \n",
            "joblib                        1.0.1              \n",
            "jpeg4py                       0.1.4              \n",
            "jsonschema                    2.6.0              \n",
            "jupyter                       1.0.0              \n",
            "jupyter-client                5.3.5              \n",
            "jupyter-console               5.2.0              \n",
            "jupyter-core                  4.7.1              \n",
            "jupyterlab-pygments           0.1.2              \n",
            "jupyterlab-widgets            1.0.0              \n",
            "kaggle                        1.5.12             \n",
            "kapre                         0.3.5              \n",
            "Keras                         2.4.3              \n",
            "keras-nightly                 2.5.0.dev2021032900\n",
            "Keras-Preprocessing           1.1.2              \n",
            "keras-vis                     0.4.1              \n",
            "kiwisolver                    1.3.1              \n",
            "korean-lunar-calendar         0.2.1              \n",
            "librosa                       0.8.0              \n",
            "lightgbm                      2.2.3              \n",
            "llvmlite                      0.34.0             \n",
            "lmdb                          0.99               \n",
            "LunarCalendar                 0.0.9              \n",
            "lxml                          4.2.6              \n",
            "Markdown                      3.3.4              \n",
            "MarkupSafe                    2.0.1              \n",
            "matplotlib                    3.2.2              \n",
            "matplotlib-inline             0.1.2              \n",
            "matplotlib-venn               0.11.6             \n",
            "missingno                     0.4.2              \n",
            "mistune                       0.8.4              \n",
            "mizani                        0.6.0              \n",
            "mkl                           2019.0             \n",
            "mlxtend                       0.14.0             \n",
            "more-itertools                8.7.0              \n",
            "moviepy                       0.2.3.5            \n",
            "mpmath                        1.2.1              \n",
            "msgpack                       1.0.2              \n",
            "multiprocess                  0.70.11.1          \n",
            "multitasking                  0.0.9              \n",
            "murmurhash                    1.0.5              \n",
            "music21                       5.5.0              \n",
            "natsort                       5.5.0              \n",
            "nbclient                      0.5.3              \n",
            "nbconvert                     5.6.1              \n",
            "nbformat                      5.1.3              \n",
            "nest-asyncio                  1.5.1              \n",
            "netCDF4                       1.5.6              \n",
            "networkx                      2.5.1              \n",
            "nibabel                       3.0.2              \n",
            "nltk                          3.2.5              \n",
            "notebook                      5.3.1              \n",
            "numba                         0.51.2             \n",
            "numexpr                       2.7.3              \n",
            "numpy                         1.19.5             \n",
            "nvidia-ml-py3                 7.352.0            \n",
            "oauth2client                  4.1.3              \n",
            "oauthlib                      3.1.0              \n",
            "okgrade                       0.4.3              \n",
            "opencv-contrib-python         4.1.2.30           \n",
            "opencv-python                 4.1.2.30           \n",
            "openpyxl                      2.5.9              \n",
            "opt-einsum                    3.3.0              \n",
            "osqp                          0.6.2.post0        \n",
            "packaging                     20.9               \n",
            "palettable                    3.3.0              \n",
            "pandas                        1.1.5              \n",
            "pandas-datareader             0.9.0              \n",
            "pandas-gbq                    0.13.3             \n",
            "pandas-profiling              1.4.1              \n",
            "pandocfilters                 1.4.3              \n",
            "panel                         0.11.3             \n",
            "param                         1.10.1             \n",
            "parso                         0.8.2              \n",
            "pathlib                       1.0.1              \n",
            "patsy                         0.5.1              \n",
            "pexpect                       4.8.0              \n",
            "pickleshare                   0.7.5              \n",
            "Pillow                        7.1.2              \n",
            "pip                           19.3.1             \n",
            "pip-tools                     4.5.1              \n",
            "plac                          1.1.3              \n",
            "plotly                        4.4.1              \n",
            "plotnine                      0.6.0              \n",
            "pluggy                        0.7.1              \n",
            "pooch                         1.3.0              \n",
            "portpicker                    1.3.9              \n",
            "prefetch-generator            1.0.1              \n",
            "preshed                       3.0.5              \n",
            "prettytable                   2.1.0              \n",
            "progressbar2                  3.38.0             \n",
            "prometheus-client             0.10.1             \n",
            "promise                       2.3                \n",
            "prompt-toolkit                1.0.18             \n",
            "protobuf                      3.12.4             \n",
            "psutil                        5.4.8              \n",
            "psycopg2                      2.7.6.1            \n",
            "ptyprocess                    0.7.0              \n",
            "py                            1.10.0             \n",
            "pyarrow                       3.0.0              \n",
            "pyasn1                        0.4.8              \n",
            "pyasn1-modules                0.2.8              \n",
            "pycocotools                   2.0.2              \n",
            "pycparser                     2.20               \n",
            "pyct                          0.4.8              \n",
            "pydata-google-auth            1.2.0              \n",
            "pydot                         1.3.0              \n",
            "pydot-ng                      2.0.0              \n",
            "pydotplus                     2.0.2              \n",
            "PyDrive                       1.3.1              \n",
            "pyemd                         0.5.1              \n",
            "pyerfa                        2.0.0              \n",
            "pyglet                        1.5.0              \n",
            "Pygments                      2.6.1              \n",
            "pygobject                     3.26.1             \n",
            "pymc3                         3.11.2             \n",
            "PyMeeus                       0.5.11             \n",
            "pymongo                       3.11.4             \n",
            "pymystem3                     0.2.0              \n",
            "PyOpenGL                      3.1.5              \n",
            "pyparsing                     2.4.7              \n",
            "pyrsistent                    0.17.3             \n",
            "pysndfile                     1.3.8              \n",
            "PySocks                       1.7.1              \n",
            "pystan                        2.19.1.1           \n",
            "pytest                        3.6.4              \n",
            "python-apt                    0.0.0              \n",
            "python-chess                  0.23.11            \n",
            "python-dateutil               2.8.1              \n",
            "python-louvain                0.15               \n",
            "python-slugify                5.0.2              \n",
            "python-utils                  2.5.6              \n",
            "pytz                          2018.9             \n",
            "pyviz-comms                   2.0.1              \n",
            "PyWavelets                    1.1.1              \n",
            "PyYAML                        3.13               \n",
            "pyzmq                         22.0.3             \n",
            "qdldl                         0.1.5.post0        \n",
            "qtconsole                     5.1.0              \n",
            "QtPy                          1.9.0              \n",
            "regex                         2019.12.20         \n",
            "requests                      2.23.0             \n",
            "requests-oauthlib             1.3.0              \n",
            "resampy                       0.2.2              \n",
            "retrying                      1.3.3              \n",
            "rpy2                          3.4.4              \n",
            "rsa                           4.7.2              \n",
            "scikit-image                  0.16.2             \n",
            "scikit-learn                  0.22.2.post1       \n",
            "scipy                         1.4.1              \n",
            "screen-resolution-extra       0.0.0              \n",
            "scs                           2.1.3              \n",
            "seaborn                       0.11.1             \n",
            "semver                        2.13.0             \n",
            "Send2Trash                    1.5.0              \n",
            "setuptools                    56.1.0             \n",
            "setuptools-git                1.2                \n",
            "Shapely                       1.7.1              \n",
            "simplegeneric                 0.8.1              \n",
            "six                           1.15.0             \n",
            "sklearn                       0.0                \n",
            "sklearn-pandas                1.8.0              \n",
            "smart-open                    5.0.0              \n",
            "snowballstemmer               2.1.0              \n",
            "sortedcontainers              2.4.0              \n",
            "SoundFile                     0.10.3.post1       \n",
            "spacy                         2.2.4              \n",
            "Sphinx                        1.8.5              \n",
            "sphinxcontrib-serializinghtml 1.1.4              \n",
            "sphinxcontrib-websupport      1.2.4              \n",
            "SQLAlchemy                    1.4.15             \n",
            "sqlparse                      0.4.1              \n",
            "srsly                         1.0.5              \n",
            "statsmodels                   0.10.2             \n",
            "sympy                         1.7.1              \n",
            "tables                        3.4.4              \n",
            "tabulate                      0.8.9              \n",
            "tblib                         1.7.0              \n",
            "tensorboard                   2.5.0              \n",
            "tensorboard-data-server       0.6.1              \n",
            "tensorboard-plugin-wit        1.8.0              \n",
            "tensorflow                    2.5.0              \n",
            "tensorflow-datasets           4.0.1              \n",
            "tensorflow-estimator          2.5.0              \n",
            "tensorflow-gcs-config         2.5.0              \n",
            "tensorflow-hub                0.12.0             \n",
            "tensorflow-metadata           1.0.0              \n",
            "tensorflow-probability        0.12.1             \n",
            "termcolor                     1.1.0              \n",
            "terminado                     0.10.0             \n",
            "testpath                      0.5.0              \n",
            "text-unidecode                1.3                \n",
            "textblob                      0.15.3             \n",
            "Theano-PyMC                   1.1.2              \n",
            "thinc                         7.4.0              \n",
            "tifffile                      2021.4.8           \n",
            "toml                          0.10.2             \n",
            "toolz                         0.11.1             \n",
            "torch                         1.8.1+cu101        \n",
            "torchsummary                  1.5.1              \n",
            "torchtext                     0.9.1              \n",
            "torchvision                   0.9.1+cu101        \n",
            "tornado                       5.1.1              \n",
            "tqdm                          4.41.1             \n",
            "traitlets                     5.0.5              \n",
            "tweepy                        3.10.0             \n",
            "typeguard                     2.7.1              \n",
            "typing-extensions             3.7.4.3            \n",
            "tzlocal                       1.5.1              \n",
            "uritemplate                   3.0.1              \n",
            "urllib3                       1.24.3             \n",
            "vega-datasets                 0.9.0              \n",
            "wasabi                        0.8.2              \n",
            "wcwidth                       0.2.5              \n",
            "webencodings                  0.5.1              \n",
            "Werkzeug                      1.0.1              \n",
            "wheel                         0.36.2             \n",
            "widgetsnbextension            3.5.1              \n",
            "wordcloud                     1.5.0              \n",
            "wrapt                         1.12.1             \n",
            "xarray                        0.18.2             \n",
            "xgboost                       0.90               \n",
            "xkit                          0.0.0              \n",
            "xlrd                          1.1.0              \n",
            "xlwt                          1.3.0              \n",
            "yellowbrick                   0.9.1              \n",
            "zict                          2.0.0              \n",
            "zipp                          3.4.1              \n"
          ],
          "name": "stdout"
        }
      ]
    },
    {
      "cell_type": "code",
      "metadata": {
        "colab": {
          "base_uri": "https://localhost:8080/"
        },
        "id": "upw40mbUvF7Q",
        "outputId": "560c1924-47b5-4dd1-d6e4-ee79ba609c2f"
      },
      "source": [
        "!wget https://zh.d2l.ai/d2l-zh.zip"
      ],
      "execution_count": null,
      "outputs": [
        {
          "output_type": "stream",
          "text": [
            "--2021-05-31 04:44:40--  https://zh.d2l.ai/d2l-zh.zip\n",
            "Resolving zh.d2l.ai (zh.d2l.ai)... 13.225.149.104, 13.225.149.124, 13.225.149.43, ...\n",
            "Connecting to zh.d2l.ai (zh.d2l.ai)|13.225.149.104|:443... connected.\n",
            "HTTP request sent, awaiting response... 200 OK\n",
            "Length: 36718503 (35M) [application/zip]\n",
            "Saving to: ‘d2l-zh.zip’\n",
            "\n",
            "d2l-zh.zip          100%[===================>]  35.02M  19.7MB/s    in 1.8s    \n",
            "\n",
            "2021-05-31 04:44:42 (19.7 MB/s) - ‘d2l-zh.zip’ saved [36718503/36718503]\n",
            "\n"
          ],
          "name": "stdout"
        }
      ]
    },
    {
      "cell_type": "code",
      "metadata": {
        "colab": {
          "base_uri": "https://localhost:8080/"
        },
        "id": "zb18E0RevSSQ",
        "outputId": "757447d7-dc0a-4840-991c-e55d32faeac0"
      },
      "source": [
        "!pip install d2l"
      ],
      "execution_count": null,
      "outputs": [
        {
          "output_type": "stream",
          "text": [
            "Collecting d2l\n",
            "\u001b[?25l  Downloading https://files.pythonhosted.org/packages/f4/e9/89f71389acf3cc4231d7e51839a9f093ea0078d93c44988f8ade9f6d44e5/d2l-0.16.4-py3-none-any.whl (77kB)\n",
            "\r\u001b[K     |████▎                           | 10kB 23.0MB/s eta 0:00:01\r\u001b[K     |████████▌                       | 20kB 28.8MB/s eta 0:00:01\r\u001b[K     |████████████▊                   | 30kB 22.9MB/s eta 0:00:01\r\u001b[K     |█████████████████               | 40kB 17.5MB/s eta 0:00:01\r\u001b[K     |█████████████████████▏          | 51kB 8.8MB/s eta 0:00:01\r\u001b[K     |█████████████████████████▍      | 61kB 7.9MB/s eta 0:00:01\r\u001b[K     |█████████████████████████████▋  | 71kB 9.0MB/s eta 0:00:01\r\u001b[K     |████████████████████████████████| 81kB 5.7MB/s \n",
            "\u001b[?25hRequirement already satisfied: pandas in /usr/local/lib/python3.7/dist-packages (from d2l) (1.1.5)\n",
            "Requirement already satisfied: numpy in /usr/local/lib/python3.7/dist-packages (from d2l) (1.19.5)\n",
            "Requirement already satisfied: jupyter in /usr/local/lib/python3.7/dist-packages (from d2l) (1.0.0)\n",
            "Requirement already satisfied: matplotlib in /usr/local/lib/python3.7/dist-packages (from d2l) (3.2.2)\n",
            "Requirement already satisfied: requests in /usr/local/lib/python3.7/dist-packages (from d2l) (2.23.0)\n",
            "Requirement already satisfied: pytz>=2017.2 in /usr/local/lib/python3.7/dist-packages (from pandas->d2l) (2018.9)\n",
            "Requirement already satisfied: python-dateutil>=2.7.3 in /usr/local/lib/python3.7/dist-packages (from pandas->d2l) (2.8.1)\n",
            "Requirement already satisfied: notebook in /usr/local/lib/python3.7/dist-packages (from jupyter->d2l) (5.3.1)\n",
            "Requirement already satisfied: qtconsole in /usr/local/lib/python3.7/dist-packages (from jupyter->d2l) (5.1.0)\n",
            "Requirement already satisfied: ipywidgets in /usr/local/lib/python3.7/dist-packages (from jupyter->d2l) (7.6.3)\n",
            "Requirement already satisfied: jupyter-console in /usr/local/lib/python3.7/dist-packages (from jupyter->d2l) (5.2.0)\n",
            "Requirement already satisfied: nbconvert in /usr/local/lib/python3.7/dist-packages (from jupyter->d2l) (5.6.1)\n",
            "Requirement already satisfied: ipykernel in /usr/local/lib/python3.7/dist-packages (from jupyter->d2l) (4.10.1)\n",
            "Requirement already satisfied: pyparsing!=2.0.4,!=2.1.2,!=2.1.6,>=2.0.1 in /usr/local/lib/python3.7/dist-packages (from matplotlib->d2l) (2.4.7)\n",
            "Requirement already satisfied: cycler>=0.10 in /usr/local/lib/python3.7/dist-packages (from matplotlib->d2l) (0.10.0)\n",
            "Requirement already satisfied: kiwisolver>=1.0.1 in /usr/local/lib/python3.7/dist-packages (from matplotlib->d2l) (1.3.1)\n",
            "Requirement already satisfied: urllib3!=1.25.0,!=1.25.1,<1.26,>=1.21.1 in /usr/local/lib/python3.7/dist-packages (from requests->d2l) (1.24.3)\n",
            "Requirement already satisfied: certifi>=2017.4.17 in /usr/local/lib/python3.7/dist-packages (from requests->d2l) (2020.12.5)\n",
            "Requirement already satisfied: chardet<4,>=3.0.2 in /usr/local/lib/python3.7/dist-packages (from requests->d2l) (3.0.4)\n",
            "Requirement already satisfied: idna<3,>=2.5 in /usr/local/lib/python3.7/dist-packages (from requests->d2l) (2.10)\n",
            "Requirement already satisfied: six>=1.5 in /usr/local/lib/python3.7/dist-packages (from python-dateutil>=2.7.3->pandas->d2l) (1.15.0)\n",
            "Requirement already satisfied: nbformat in /usr/local/lib/python3.7/dist-packages (from notebook->jupyter->d2l) (5.1.3)\n",
            "Requirement already satisfied: ipython-genutils in /usr/local/lib/python3.7/dist-packages (from notebook->jupyter->d2l) (0.2.0)\n",
            "Requirement already satisfied: jupyter-core>=4.4.0 in /usr/local/lib/python3.7/dist-packages (from notebook->jupyter->d2l) (4.7.1)\n",
            "Requirement already satisfied: tornado>=4 in /usr/local/lib/python3.7/dist-packages (from notebook->jupyter->d2l) (5.1.1)\n",
            "Requirement already satisfied: Send2Trash in /usr/local/lib/python3.7/dist-packages (from notebook->jupyter->d2l) (1.5.0)\n",
            "Requirement already satisfied: jinja2 in /usr/local/lib/python3.7/dist-packages (from notebook->jupyter->d2l) (2.11.3)\n",
            "Requirement already satisfied: jupyter-client>=5.2.0 in /usr/local/lib/python3.7/dist-packages (from notebook->jupyter->d2l) (5.3.5)\n",
            "Requirement already satisfied: terminado>=0.8.1 in /usr/local/lib/python3.7/dist-packages (from notebook->jupyter->d2l) (0.10.0)\n",
            "Requirement already satisfied: traitlets>=4.2.1 in /usr/local/lib/python3.7/dist-packages (from notebook->jupyter->d2l) (5.0.5)\n",
            "Requirement already satisfied: pygments in /usr/local/lib/python3.7/dist-packages (from qtconsole->jupyter->d2l) (2.6.1)\n",
            "Requirement already satisfied: pyzmq>=17.1 in /usr/local/lib/python3.7/dist-packages (from qtconsole->jupyter->d2l) (22.0.3)\n",
            "Requirement already satisfied: qtpy in /usr/local/lib/python3.7/dist-packages (from qtconsole->jupyter->d2l) (1.9.0)\n",
            "Requirement already satisfied: widgetsnbextension~=3.5.0 in /usr/local/lib/python3.7/dist-packages (from ipywidgets->jupyter->d2l) (3.5.1)\n",
            "Requirement already satisfied: ipython>=4.0.0; python_version >= \"3.3\" in /usr/local/lib/python3.7/dist-packages (from ipywidgets->jupyter->d2l) (5.5.0)\n",
            "Requirement already satisfied: jupyterlab-widgets>=1.0.0; python_version >= \"3.6\" in /usr/local/lib/python3.7/dist-packages (from ipywidgets->jupyter->d2l) (1.0.0)\n",
            "Requirement already satisfied: prompt-toolkit<2.0.0,>=1.0.0 in /usr/local/lib/python3.7/dist-packages (from jupyter-console->jupyter->d2l) (1.0.18)\n",
            "Requirement already satisfied: mistune<2,>=0.8.1 in /usr/local/lib/python3.7/dist-packages (from nbconvert->jupyter->d2l) (0.8.4)\n",
            "Requirement already satisfied: bleach in /usr/local/lib/python3.7/dist-packages (from nbconvert->jupyter->d2l) (3.3.0)\n",
            "Requirement already satisfied: pandocfilters>=1.4.1 in /usr/local/lib/python3.7/dist-packages (from nbconvert->jupyter->d2l) (1.4.3)\n",
            "Requirement already satisfied: testpath in /usr/local/lib/python3.7/dist-packages (from nbconvert->jupyter->d2l) (0.5.0)\n",
            "Requirement already satisfied: defusedxml in /usr/local/lib/python3.7/dist-packages (from nbconvert->jupyter->d2l) (0.7.1)\n",
            "Requirement already satisfied: entrypoints>=0.2.2 in /usr/local/lib/python3.7/dist-packages (from nbconvert->jupyter->d2l) (0.3)\n",
            "Requirement already satisfied: jsonschema!=2.5.0,>=2.4 in /usr/local/lib/python3.7/dist-packages (from nbformat->notebook->jupyter->d2l) (2.6.0)\n",
            "Requirement already satisfied: MarkupSafe>=0.23 in /usr/local/lib/python3.7/dist-packages (from jinja2->notebook->jupyter->d2l) (2.0.1)\n",
            "Requirement already satisfied: ptyprocess; os_name != \"nt\" in /usr/local/lib/python3.7/dist-packages (from terminado>=0.8.1->notebook->jupyter->d2l) (0.7.0)\n",
            "Requirement already satisfied: setuptools>=18.5 in /usr/local/lib/python3.7/dist-packages (from ipython>=4.0.0; python_version >= \"3.3\"->ipywidgets->jupyter->d2l) (56.1.0)\n",
            "Requirement already satisfied: decorator in /usr/local/lib/python3.7/dist-packages (from ipython>=4.0.0; python_version >= \"3.3\"->ipywidgets->jupyter->d2l) (4.4.2)\n",
            "Requirement already satisfied: simplegeneric>0.8 in /usr/local/lib/python3.7/dist-packages (from ipython>=4.0.0; python_version >= \"3.3\"->ipywidgets->jupyter->d2l) (0.8.1)\n",
            "Requirement already satisfied: pexpect; sys_platform != \"win32\" in /usr/local/lib/python3.7/dist-packages (from ipython>=4.0.0; python_version >= \"3.3\"->ipywidgets->jupyter->d2l) (4.8.0)\n",
            "Requirement already satisfied: pickleshare in /usr/local/lib/python3.7/dist-packages (from ipython>=4.0.0; python_version >= \"3.3\"->ipywidgets->jupyter->d2l) (0.7.5)\n",
            "Requirement already satisfied: wcwidth in /usr/local/lib/python3.7/dist-packages (from prompt-toolkit<2.0.0,>=1.0.0->jupyter-console->jupyter->d2l) (0.2.5)\n",
            "Requirement already satisfied: webencodings in /usr/local/lib/python3.7/dist-packages (from bleach->nbconvert->jupyter->d2l) (0.5.1)\n",
            "Requirement already satisfied: packaging in /usr/local/lib/python3.7/dist-packages (from bleach->nbconvert->jupyter->d2l) (20.9)\n",
            "Installing collected packages: d2l\n",
            "Successfully installed d2l-0.16.4\n"
          ],
          "name": "stdout"
        }
      ]
    },
    {
      "cell_type": "code",
      "metadata": {
        "colab": {
          "base_uri": "https://localhost:8080/"
        },
        "id": "OQRRyn2ivsfs",
        "outputId": "a8907ad4-3879-4bf5-bfbc-4b373d2976a6"
      },
      "source": [
        "!sudo apt install zip"
      ],
      "execution_count": null,
      "outputs": [
        {
          "output_type": "stream",
          "text": [
            "Reading package lists... Done\n",
            "Building dependency tree       \n",
            "Reading state information... Done\n",
            "zip is already the newest version (3.0-11build1).\n",
            "The following package was automatically installed and is no longer required:\n",
            "  libnvidia-common-460\n",
            "Use 'sudo apt autoremove' to remove it.\n",
            "0 upgraded, 0 newly installed, 0 to remove and 34 not upgraded.\n"
          ],
          "name": "stdout"
        }
      ]
    },
    {
      "cell_type": "code",
      "metadata": {
        "colab": {
          "base_uri": "https://localhost:8080/"
        },
        "id": "qz1Ipo-cwGWk",
        "outputId": "c5a98776-59b7-41d2-d38f-5be9795896b5"
      },
      "source": [
        "!ls"
      ],
      "execution_count": null,
      "outputs": [
        {
          "output_type": "stream",
          "text": [
            "d2l-zh.zip  drive  sample_data\n"
          ],
          "name": "stdout"
        }
      ]
    },
    {
      "cell_type": "code",
      "metadata": {
        "colab": {
          "base_uri": "https://localhost:8080/"
        },
        "id": "7I1hW4ymwPRE",
        "outputId": "8bdfd404-a9c3-45ff-f200-fdd35c401f4c"
      },
      "source": [
        "!unzip d2l-zh.zip"
      ],
      "execution_count": null,
      "outputs": [
        {
          "output_type": "stream",
          "text": [
            "Archive:  d2l-zh.zip\n",
            "  inflating: img/house_pricing.png   \n",
            "  inflating: img/jupyter06.png       \n",
            "  inflating: img/contrib04.png       \n",
            "  inflating: img/qr_ndarray.svg      \n",
            "  inflating: img/rnn-bptt.svg        \n",
            "  inflating: img/qr_lang-model-dataset.svg  \n",
            "  inflating: img/fast-rcnn.svg       \n",
            "  inflating: img/qr_softmax-regression-scratch.svg  \n",
            "  inflating: img/qr_deferred-init.svg  \n",
            "  inflating: img/qr_sentiment-analysis-cnn.svg  \n",
            "  inflating: img/iou.svg             \n",
            "  inflating: img/qr_batch-norm.svg   \n",
            "  inflating: img/contrib02.png       \n",
            "  inflating: img/qr_attention.svg    \n",
            "  inflating: img/qr_lang-model.svg   \n",
            "  inflating: img/qr_parameters.svg   \n",
            "  inflating: img/qr_how-to-contribute.svg  \n",
            "  inflating: img/qr_underfit-overfit.svg  \n",
            "  inflating: img/qr_sentiment-analysis.svg  \n",
            "  inflating: img/nin.svg             \n",
            "  inflating: img/ones_like.png       \n",
            "  inflating: img/lstm_2.svg          \n",
            "  inflating: img/qr_linear-regression-scratch.svg  \n",
            "  inflating: img/qr_multiple-gpus.svg  \n",
            "  inflating: img/qr_linear-regression-gluon.svg  \n",
            "  inflating: img/qr_glove.svg        \n",
            "  inflating: img/qr_word2vec-approx-train.svg  \n",
            "  inflating: img/linreg.svg          \n",
            "  inflating: img/lstm_0.svg          \n",
            "  inflating: img/ssd.svg             \n",
            "  inflating: img/attention.svg       \n",
            "  inflating: img/qr_anchor.svg       \n",
            "  inflating: img/qr_kaggle-gluon-dog.svg  \n",
            "  inflating: img/jupyter05.png       \n",
            "  inflating: img/qr_read-write.svg   \n",
            "  inflating: img/qr_channels.svg     \n",
            "  inflating: img/qr_adam.svg         \n",
            "  inflating: img/qr_rmsprop.svg      \n",
            "  inflating: img/qr_multiscale-object-detection.svg  \n",
            "  inflating: img/contrib03.png       \n",
            "  inflating: img/qr_autograd.svg     \n",
            "  inflating: img/s2s_prob2.svg       \n",
            "  inflating: img/qr_resnet.svg       \n",
            "  inflating: img/qr_image-augmentation.svg  \n",
            "  inflating: img/qr_adadelta.svg     \n",
            "  inflating: img/qr_minibatch-sgd.svg  \n",
            "  inflating: img/qr_kaggle-gluon-cifar10.svg  \n",
            "  inflating: img/qr_vgg.svg          \n",
            "  inflating: img/s2s_prob1.svg       \n",
            "  inflating: img/qr_bi-rnn.svg       \n",
            "  inflating: img/qr_kaggle-house-price.svg  \n",
            "  inflating: img/rnn-train.svg       \n",
            "  inflating: img/skip-gram.svg       \n",
            "  inflating: img/rnn.svg             \n",
            "  inflating: img/beam_search.svg     \n",
            "  inflating: img/kaggle_cifar10.png  \n",
            "  inflating: img/qr_fashion-mnist.svg  \n",
            "  inflating: img/jupyter04.png       \n",
            "  inflating: img/qr_fasttext.svg     \n",
            "  inflating: img/qr_softmax-regression.svg  \n",
            "  inflating: img/qr_bounding-box.svg  \n",
            "  inflating: img/softmaxreg.svg      \n",
            "  inflating: img/gru_3.svg           \n",
            "  inflating: img/conv_multi_in.svg   \n",
            "  inflating: img/launching.png       \n",
            "  inflating: img/qr_ssd.svg          \n",
            "  inflating: img/birnn.svg           \n",
            "  inflating: img/qr_numerical-stability-and-init.svg  \n",
            "  inflating: img/mask-rcnn.svg       \n",
            "  inflating: img/capacity_vs_error.svg  \n",
            "  inflating: img/rainier.jpg         \n",
            "  inflating: img/qr_momentum.svg     \n",
            "  inflating: img/qr_use-gpu.svg      \n",
            "  inflating: img/jupyter02.png       \n",
            "  inflating: img/segmentation.svg    \n",
            "  inflating: img/forward.svg         \n",
            "  inflating: img/404.jpg             \n",
            "  inflating: img/jupyter01.png       \n",
            "  inflating: img/qr_machine-translation.svg  \n",
            "  inflating: img/mxnet-website.png   \n",
            "  inflating: img/jupyter00.png       \n",
            "  inflating: img/qr_conv-layer.svg   \n",
            "  inflating: img/jupyter.png         \n",
            "  inflating: img/qr_rnn.svg          \n",
            "  inflating: img/fcn.svg             \n",
            "  inflating: img/qr_jupyter.svg      \n",
            "  inflating: img/koebel.jpg          \n",
            "  inflating: img/conv_pad.svg        \n",
            "  inflating: img/ec2.png             \n",
            "  inflating: img/conv1d-channel.svg  \n",
            "  inflating: img/qr_rcnn.svg         \n",
            "  inflating: img/qr_auto-parallelism.svg  \n",
            "  inflating: img/autumn_oak.jpg      \n",
            "  inflating: img/textcnn.svg         \n",
            "  inflating: img/qr_deep-rnn.svg     \n",
            "  inflating: img/comp-comm.svg       \n",
            "  inflating: img/seq2seq.svg         \n",
            "  inflating: img/qr_backprop.svg     \n",
            "  inflating: img/os.png              \n",
            "  inflating: img/lstm_1.svg          \n",
            "  inflating: img/qr_weight-decay.svg  \n",
            "  inflating: img/disk.png            \n",
            "  inflating: img/qr_pooling.svg      \n",
            "  inflating: img/qr_gru.svg          \n",
            "  inflating: img/qr_optimization-intro.svg  \n",
            "  inflating: img/style-transfer.svg  \n",
            "  inflating: img/qr_nin.svg          \n",
            "  inflating: img/qr_similarity-analogy.svg  \n",
            "  inflating: img/kaggle.png          \n",
            "  inflating: img/cifar10.png         \n",
            "  inflating: img/qr_custom-layer.svg  \n",
            "  inflating: img/faster-rcnn.svg     \n",
            "  inflating: img/inception.svg       \n",
            "  inflating: img/contrib01.png       \n",
            "  inflating: img/cat1.jpg            \n",
            "  inflating: img/qr_dropout.svg      \n",
            "  inflating: img/qr_word2vec-gluon.svg  \n",
            "  inflating: img/conv_stride.svg     \n",
            "  inflating: img/qr_buy-gpu.svg      \n",
            "  inflating: img/conv1d.svg          \n",
            "  inflating: img/roi.svg             \n",
            "  inflating: img/qr_install.svg      \n",
            "  inflating: img/qr_neural-style.svg  \n",
            "  inflating: img/catdog.jpg          \n",
            "  inflating: img/qr_fcn.svg          \n",
            "  inflating: img/qr_math.svg         \n",
            "  inflating: img/qr_lstm.svg         \n",
            "  inflating: img/finetune.svg        \n",
            "  inflating: img/qr_seq2seq.svg      \n",
            "  inflating: img/neural-style.svg    \n",
            "  inflating: img/pooling.svg         \n",
            "  inflating: img/qr_softmax-regression-gluon.svg  \n",
            "  inflating: img/kaggle-dog.png      \n",
            "  inflating: img/cbow.svg            \n",
            "  inflating: img/keypair.png         \n",
            "  inflating: img/qr_googlenet.svg    \n",
            "  inflating: img/deep-rnn.svg        \n",
            "  inflating: img/limits.png          \n",
            "  inflating: img/qr_padding-and-strides.svg  \n",
            "  inflating: img/qr_word2vec.svg     \n",
            "  inflating: img/qr_densenet.svg     \n",
            "  inflating: img/neural-style-2.png  \n",
            "  inflating: img/qr_object-detection-dataset.svg  \n",
            "  inflating: img/conv_1x1.svg        \n",
            "  inflating: img/neural-style-1.png  \n",
            "  inflating: img/qr_gd-sgd.svg       \n",
            "  inflating: img/data-parallel.svg   \n",
            "  inflating: img/contrib06.png       \n",
            "  inflating: img/qr_multiple-gpus-gluon.svg  \n",
            "  inflating: img/qr_lookup-api.svg   \n",
            "  inflating: img/lstm_3.svg          \n",
            "  inflating: img/qr_linear-regression.svg  \n",
            "  inflating: img/qr_mlp-gluon.svg    \n",
            "  inflating: img/qr_fine-tuning.svg  \n",
            "  inflating: img/residual-block.svg  \n",
            "  inflating: img/qr_rnn-scratch.svg  \n",
            "  inflating: img/qr_rnn-gluon.svg    \n",
            "  inflating: img/dropout.svg         \n",
            "  inflating: img/anchor-label.svg    \n",
            "  inflating: img/qr_aws.svg          \n",
            "  inflating: img/qr_deep-learning-intro.svg  \n",
            "  inflating: img/jupyter03.png       \n",
            "  inflating: img/kaggle_submit2.png  \n",
            "  inflating: img/qr_beam-search.svg  \n",
            "  inflating: img/hi-softmax.svg      \n",
            "  inflating: img/qr_semantic-segmentation-and-dataset.svg  \n",
            "  inflating: img/connect.png         \n",
            "  inflating: img/ssh.png             \n",
            "  inflating: img/qr_optimization-summary.svg  \n",
            "  inflating: img/r-cnn.svg           \n",
            "  inflating: img/qr_lenet.svg        \n",
            "  inflating: img/qr_model-construction.svg  \n",
            "  inflating: img/pikachu.jpg         \n",
            "  inflating: img/conv1d-2d.svg       \n",
            "  inflating: img/cuda.png            \n",
            "  inflating: img/qr_how-to-use.svg   \n",
            "  inflating: img/contrib05.png       \n",
            "  inflating: img/densenet.svg        \n",
            "  inflating: img/aws.png             \n",
            "  inflating: img/qr_mlp.svg          \n",
            "  inflating: img/qr_bptt.svg         \n",
            "  inflating: img/p2x.png             \n",
            "  inflating: img/gru_2.svg           \n",
            "  inflating: img/qr_alexnet.svg      \n",
            "  inflating: img/gtx.png             \n",
            "  inflating: img/qr_hybridize.svg    \n",
            "  inflating: img/correlation.svg     \n",
            "  inflating: img/book-org.svg        \n",
            "  inflating: img/gru_1.svg           \n",
            "  inflating: img/mlp.svg             \n",
            "  inflating: img/qr_adagrad.svg      \n",
            "  inflating: img/qr_async-computation.svg  \n",
            "  inflating: img/qr_mlp-scratch.svg  \n",
            " extracting: data/jaychou_lyrics.txt.zip  \n",
            " extracting: data/ptb.zip            \n",
            "  inflating: data/kaggle_house_pred_test.csv  \n",
            "  inflating: data/airfoil_self_noise.dat  \n",
            "  inflating: data/kaggle_house_pred_train.csv  \n",
            "  inflating: data/fr-en-small.txt    \n",
            "   creating: data/kaggle_dog/\n",
            " extracting: data/kaggle_dog/train_valid_test_tiny.zip  \n",
            "   creating: data/kaggle_cifar10/\n",
            " extracting: data/kaggle_cifar10/trainLabels.csv.zip  \n",
            " extracting: data/kaggle_cifar10/test_tiny.zip  \n",
            " extracting: data/kaggle_cifar10/train_tiny.zip  \n",
            "  inflating: d2lzh/utils.py          \n",
            " extracting: d2lzh/__init__.py       \n",
            "  inflating: environment.yml         \n",
            "  inflating: README.md               \n",
            "  inflating: chapter_appendix/index.md  \n",
            "  inflating: chapter_computational-performance/index.md  \n",
            "  inflating: chapter_computer-vision/index.md  \n",
            "  inflating: chapter_convolutional-neural-networks/index.md  \n",
            "  inflating: chapter_deep-learning-basics/index.md  \n",
            "  inflating: chapter_deep-learning-computation/index.md  \n",
            "  inflating: chapter_natural-language-processing/index.md  \n",
            "  inflating: chapter_optimization/index.md  \n",
            "  inflating: chapter_prerequisite/index.md  \n",
            "  inflating: chapter_recurrent-neural-networks/index.md  \n",
            "  inflating: chapter_appendix/aws.ipynb  \n",
            "  inflating: chapter_appendix/buy-gpu.ipynb  \n",
            "  inflating: chapter_appendix/d2lzh.ipynb  \n",
            "  inflating: chapter_appendix/how-to-contribute.ipynb  \n",
            "  inflating: chapter_appendix/jupyter.ipynb  \n",
            "  inflating: chapter_appendix/math.ipynb  \n",
            "  inflating: chapter_appendix/notation.ipynb  \n",
            "  inflating: chapter_computational-performance/async-computation.ipynb  \n",
            "  inflating: chapter_computational-performance/auto-parallelism.ipynb  \n",
            "  inflating: chapter_computational-performance/hybridize.ipynb  \n",
            "  inflating: chapter_computational-performance/multiple-gpus-gluon.ipynb  \n",
            "  inflating: chapter_computational-performance/multiple-gpus.ipynb  \n",
            "  inflating: chapter_computer-vision/anchor.ipynb  \n",
            "  inflating: chapter_computer-vision/bounding-box.ipynb  \n",
            "  inflating: chapter_computer-vision/fcn.ipynb  \n",
            "  inflating: chapter_computer-vision/fine-tuning.ipynb  \n",
            "  inflating: chapter_computer-vision/image-augmentation.ipynb  \n",
            "  inflating: chapter_computer-vision/kaggle-gluon-cifar10.ipynb  \n",
            "  inflating: chapter_computer-vision/kaggle-gluon-dog.ipynb  \n",
            "  inflating: chapter_computer-vision/multiscale-object-detection.ipynb  \n",
            "  inflating: chapter_computer-vision/neural-style.ipynb  \n",
            "  inflating: chapter_computer-vision/object-detection-dataset.ipynb  \n",
            "  inflating: chapter_computer-vision/rcnn.ipynb  \n",
            "  inflating: chapter_computer-vision/semantic-segmentation-and-dataset.ipynb  \n",
            "  inflating: chapter_computer-vision/ssd.ipynb  \n",
            "  inflating: chapter_convolutional-neural-networks/alexnet.ipynb  \n",
            "  inflating: chapter_convolutional-neural-networks/batch-norm.ipynb  \n",
            "  inflating: chapter_convolutional-neural-networks/channels.ipynb  \n",
            "  inflating: chapter_convolutional-neural-networks/conv-layer.ipynb  \n",
            "  inflating: chapter_convolutional-neural-networks/densenet.ipynb  \n",
            "  inflating: chapter_convolutional-neural-networks/googlenet.ipynb  \n",
            "  inflating: chapter_convolutional-neural-networks/lenet.ipynb  \n",
            "  inflating: chapter_convolutional-neural-networks/nin.ipynb  \n",
            "  inflating: chapter_convolutional-neural-networks/padding-and-strides.ipynb  \n",
            "  inflating: chapter_convolutional-neural-networks/pooling.ipynb  \n",
            "  inflating: chapter_convolutional-neural-networks/resnet.ipynb  \n",
            "  inflating: chapter_convolutional-neural-networks/vgg.ipynb  \n",
            "  inflating: chapter_deep-learning-basics/backprop.ipynb  \n",
            "  inflating: chapter_deep-learning-basics/dropout.ipynb  \n",
            "  inflating: chapter_deep-learning-basics/fashion-mnist.ipynb  \n",
            "  inflating: chapter_deep-learning-basics/kaggle-house-price.ipynb  \n",
            "  inflating: chapter_deep-learning-basics/linear-regression-gluon.ipynb  \n",
            "  inflating: chapter_deep-learning-basics/linear-regression-scratch.ipynb  \n",
            "  inflating: chapter_deep-learning-basics/linear-regression.ipynb  \n",
            "  inflating: chapter_deep-learning-basics/mlp-gluon.ipynb  \n",
            "  inflating: chapter_deep-learning-basics/mlp-scratch.ipynb  \n",
            "  inflating: chapter_deep-learning-basics/mlp.ipynb  \n",
            "  inflating: chapter_deep-learning-basics/numerical-stability-and-init.ipynb  \n",
            "  inflating: chapter_deep-learning-basics/softmax-regression-gluon.ipynb  \n",
            "  inflating: chapter_deep-learning-basics/softmax-regression-scratch.ipynb  \n",
            "  inflating: chapter_deep-learning-basics/softmax-regression.ipynb  \n",
            "  inflating: chapter_deep-learning-basics/underfit-overfit.ipynb  \n",
            "  inflating: chapter_deep-learning-basics/weight-decay.ipynb  \n",
            "  inflating: chapter_deep-learning-computation/custom-layer.ipynb  \n",
            "  inflating: chapter_deep-learning-computation/deferred-init.ipynb  \n",
            "  inflating: chapter_deep-learning-computation/model-construction.ipynb  \n",
            "  inflating: chapter_deep-learning-computation/parameters.ipynb  \n",
            "  inflating: chapter_deep-learning-computation/read-write.ipynb  \n",
            "  inflating: chapter_deep-learning-computation/use-gpu.ipynb  \n",
            "  inflating: chapter_how-to-use/how-to-use.ipynb  \n",
            "  inflating: chapter_introduction/deep-learning-intro.ipynb  \n",
            "  inflating: chapter_natural-language-processing/approx-training.ipynb  \n",
            "  inflating: chapter_natural-language-processing/attention.ipynb  \n",
            "  inflating: chapter_natural-language-processing/beam-search.ipynb  \n",
            "  inflating: chapter_natural-language-processing/fasttext.ipynb  \n",
            "  inflating: chapter_natural-language-processing/glove.ipynb  \n",
            "  inflating: chapter_natural-language-processing/machine-translation.ipynb  \n",
            "  inflating: chapter_natural-language-processing/sentiment-analysis-cnn.ipynb  \n",
            "  inflating: chapter_natural-language-processing/sentiment-analysis-rnn.ipynb  \n",
            "  inflating: chapter_natural-language-processing/seq2seq.ipynb  \n",
            "  inflating: chapter_natural-language-processing/similarity-analogy.ipynb  \n",
            "  inflating: chapter_natural-language-processing/word2vec-gluon.ipynb  \n",
            "  inflating: chapter_natural-language-processing/word2vec.ipynb  \n",
            "  inflating: chapter_optimization/adadelta.ipynb  \n",
            "  inflating: chapter_optimization/adagrad.ipynb  \n",
            "  inflating: chapter_optimization/adam.ipynb  \n",
            "  inflating: chapter_optimization/gd-sgd.ipynb  \n",
            "  inflating: chapter_optimization/minibatch-sgd.ipynb  \n",
            "  inflating: chapter_optimization/momentum.ipynb  \n",
            "  inflating: chapter_optimization/optimization-intro.ipynb  \n",
            "  inflating: chapter_optimization/rmsprop.ipynb  \n",
            "  inflating: chapter_preface/preface.ipynb  \n",
            "  inflating: chapter_prerequisite/autograd.ipynb  \n",
            "  inflating: chapter_prerequisite/install.ipynb  \n",
            "  inflating: chapter_prerequisite/lookup-api.ipynb  \n",
            "  inflating: chapter_prerequisite/ndarray.ipynb  \n",
            "  inflating: chapter_recurrent-neural-networks/bi-rnn.ipynb  \n",
            "  inflating: chapter_recurrent-neural-networks/bptt.ipynb  \n",
            "  inflating: chapter_recurrent-neural-networks/deep-rnn.ipynb  \n",
            "  inflating: chapter_recurrent-neural-networks/gru.ipynb  \n",
            "  inflating: chapter_recurrent-neural-networks/lang-model-dataset.ipynb  \n",
            "  inflating: chapter_recurrent-neural-networks/lang-model.ipynb  \n",
            "  inflating: chapter_recurrent-neural-networks/lstm.ipynb  \n",
            "  inflating: chapter_recurrent-neural-networks/rnn-gluon.ipynb  \n",
            "  inflating: chapter_recurrent-neural-networks/rnn-scratch.ipynb  \n",
            "  inflating: chapter_recurrent-neural-networks/rnn.ipynb  \n"
          ],
          "name": "stdout"
        }
      ]
    },
    {
      "cell_type": "code",
      "metadata": {
        "colab": {
          "base_uri": "https://localhost:8080/"
        },
        "id": "Y3vC41UcwVBX",
        "outputId": "1a851354-24b2-4efa-aa0f-2c60d6fe7434"
      },
      "source": [
        "!ls"
      ],
      "execution_count": null,
      "outputs": [
        {
          "output_type": "stream",
          "text": [
            "chapter_appendix\t\t       chapter_prerequisite\n",
            "chapter_computational-performance      chapter_recurrent-neural-networks\n",
            "chapter_computer-vision\t\t       d2lzh\n",
            "chapter_convolutional-neural-networks  d2l-zh.zip\n",
            "chapter_deep-learning-basics\t       data\n",
            "chapter_deep-learning-computation      drive\n",
            "chapter_how-to-use\t\t       environment.yml\n",
            "chapter_introduction\t\t       img\n",
            "chapter_natural-language-processing    README.md\n",
            "chapter_optimization\t\t       sample_data\n",
            "chapter_preface\n"
          ],
          "name": "stdout"
        }
      ]
    },
    {
      "cell_type": "code",
      "metadata": {
        "colab": {
          "base_uri": "https://localhost:8080/"
        },
        "id": "qdRjpdb2wnNW",
        "outputId": "a375d237-bb45-4f57-9b26-d1f7d06f836b"
      },
      "source": [
        "!pip list"
      ],
      "execution_count": null,
      "outputs": [
        {
          "output_type": "stream",
          "text": [
            "Package                       Version            \n",
            "----------------------------- -------------------\n",
            "absl-py                       0.12.0             \n",
            "alabaster                     0.7.12             \n",
            "albumentations                0.1.12             \n",
            "altair                        4.1.0              \n",
            "appdirs                       1.4.4              \n",
            "argon2-cffi                   20.1.0             \n",
            "arviz                         0.11.2             \n",
            "astor                         0.8.1              \n",
            "astropy                       4.2.1              \n",
            "astunparse                    1.6.3              \n",
            "async-generator               1.10               \n",
            "atari-py                      0.2.9              \n",
            "atomicwrites                  1.4.0              \n",
            "attrs                         21.2.0             \n",
            "audioread                     2.1.9              \n",
            "autograd                      1.3                \n",
            "Babel                         2.9.1              \n",
            "backcall                      0.2.0              \n",
            "beautifulsoup4                4.6.3              \n",
            "bleach                        3.3.0              \n",
            "blis                          0.4.1              \n",
            "bokeh                         2.3.2              \n",
            "Bottleneck                    1.3.2              \n",
            "branca                        0.4.2              \n",
            "bs4                           0.0.1              \n",
            "CacheControl                  0.12.6             \n",
            "cached-property               1.5.2              \n",
            "cachetools                    4.2.2              \n",
            "catalogue                     1.0.0              \n",
            "certifi                       2020.12.5          \n",
            "cffi                          1.14.5             \n",
            "cftime                        1.5.0              \n",
            "chainer                       7.4.0              \n",
            "chardet                       3.0.4              \n",
            "click                         7.1.2              \n",
            "cloudpickle                   1.3.0              \n",
            "cmake                         3.12.0             \n",
            "cmdstanpy                     0.9.5              \n",
            "colorcet                      2.0.6              \n",
            "colorlover                    0.3.0              \n",
            "community                     1.0.0b1            \n",
            "contextlib2                   0.5.5              \n",
            "convertdate                   2.3.2              \n",
            "coverage                      3.7.1              \n",
            "coveralls                     0.5                \n",
            "crcmod                        1.7                \n",
            "cufflinks                     0.17.3             \n",
            "cupy-cuda101                  7.4.0              \n",
            "cvxopt                        1.2.6              \n",
            "cvxpy                         1.0.31             \n",
            "cycler                        0.10.0             \n",
            "cymem                         2.0.5              \n",
            "Cython                        0.29.23            \n",
            "d2l                           0.16.4             \n",
            "daft                          0.0.4              \n",
            "dask                          2.12.0             \n",
            "datascience                   0.10.6             \n",
            "debugpy                       1.0.0              \n",
            "decorator                     4.4.2              \n",
            "defusedxml                    0.7.1              \n",
            "descartes                     1.1.0              \n",
            "dill                          0.3.3              \n",
            "distributed                   1.25.3             \n",
            "dlib                          19.18.0            \n",
            "dm-tree                       0.1.6              \n",
            "docopt                        0.6.2              \n",
            "docutils                      0.17.1             \n",
            "dopamine-rl                   1.0.5              \n",
            "earthengine-api               0.1.266            \n",
            "easydict                      1.9                \n",
            "ecos                          2.0.7.post1        \n",
            "editdistance                  0.5.3              \n",
            "en-core-web-sm                2.2.5              \n",
            "entrypoints                   0.3                \n",
            "ephem                         3.7.7.1            \n",
            "et-xmlfile                    1.1.0              \n",
            "fa2                           0.3.5              \n",
            "fastai                        1.0.61             \n",
            "fastdtw                       0.3.4              \n",
            "fastprogress                  1.0.0              \n",
            "fastrlock                     0.6                \n",
            "fbprophet                     0.7.1              \n",
            "feather-format                0.4.1              \n",
            "filelock                      3.0.12             \n",
            "firebase-admin                4.4.0              \n",
            "fix-yahoo-finance             0.0.22             \n",
            "Flask                         1.1.4              \n",
            "flatbuffers                   1.12               \n",
            "folium                        0.8.3              \n",
            "future                        0.16.0             \n",
            "gast                          0.4.0              \n",
            "GDAL                          2.2.2              \n",
            "gdown                         3.6.4              \n",
            "gensim                        3.6.0              \n",
            "geographiclib                 1.50               \n",
            "geopy                         1.17.0             \n",
            "gin-config                    0.4.0              \n",
            "glob2                         0.7                \n",
            "google                        2.0.3              \n",
            "google-api-core               1.26.3             \n",
            "google-api-python-client      1.12.8             \n",
            "google-auth                   1.30.0             \n",
            "google-auth-httplib2          0.0.4              \n",
            "google-auth-oauthlib          0.4.4              \n",
            "google-cloud-bigquery         1.21.0             \n",
            "google-cloud-bigquery-storage 1.1.0              \n",
            "google-cloud-core             1.0.3              \n",
            "google-cloud-datastore        1.8.0              \n",
            "google-cloud-firestore        1.7.0              \n",
            "google-cloud-language         1.2.0              \n",
            "google-cloud-storage          1.18.1             \n",
            "google-cloud-translate        1.5.0              \n",
            "google-colab                  1.0.0              \n",
            "google-pasta                  0.2.0              \n",
            "google-resumable-media        0.4.1              \n",
            "googleapis-common-protos      1.53.0             \n",
            "googledrivedownloader         0.4                \n",
            "graphviz                      0.10.1             \n",
            "greenlet                      1.1.0              \n",
            "grpcio                        1.34.1             \n",
            "gspread                       3.0.1              \n",
            "gspread-dataframe             3.0.8              \n",
            "gym                           0.17.3             \n",
            "h5py                          3.1.0              \n",
            "HeapDict                      1.0.1              \n",
            "hijri-converter               2.1.1              \n",
            "holidays                      0.10.5.2           \n",
            "holoviews                     1.14.3             \n",
            "html5lib                      1.0.1              \n",
            "httpimport                    0.5.18             \n",
            "httplib2                      0.17.4             \n",
            "httplib2shim                  0.0.3              \n",
            "humanize                      0.5.1              \n",
            "hyperopt                      0.1.2              \n",
            "ideep4py                      2.0.0.post3        \n",
            "idna                          2.10               \n",
            "imageio                       2.4.1              \n",
            "imagesize                     1.2.0              \n",
            "imbalanced-learn              0.4.3              \n",
            "imblearn                      0.0                \n",
            "imgaug                        0.2.9              \n",
            "importlib-metadata            4.0.1              \n",
            "importlib-resources           5.1.3              \n",
            "imutils                       0.5.4              \n",
            "inflect                       2.1.0              \n",
            "iniconfig                     1.1.1              \n",
            "install                       1.3.4              \n",
            "intel-openmp                  2021.2.0           \n",
            "intervaltree                  2.1.0              \n",
            "ipykernel                     4.10.1             \n",
            "ipython                       5.5.0              \n",
            "ipython-genutils              0.2.0              \n",
            "ipython-sql                   0.3.9              \n",
            "ipywidgets                    7.6.3              \n",
            "itsdangerous                  1.1.0              \n",
            "jax                           0.2.13             \n",
            "jaxlib                        0.1.66+cuda110     \n",
            "jdcal                         1.4.1              \n",
            "jedi                          0.18.0             \n",
            "jieba                         0.42.1             \n",
            "Jinja2                        2.11.3             \n",
            "joblib                        1.0.1              \n",
            "jpeg4py                       0.1.4              \n",
            "jsonschema                    2.6.0              \n",
            "jupyter                       1.0.0              \n",
            "jupyter-client                5.3.5              \n",
            "jupyter-console               5.2.0              \n",
            "jupyter-core                  4.7.1              \n",
            "jupyterlab-pygments           0.1.2              \n",
            "jupyterlab-widgets            1.0.0              \n",
            "kaggle                        1.5.12             \n",
            "kapre                         0.3.5              \n",
            "Keras                         2.4.3              \n",
            "keras-nightly                 2.5.0.dev2021032900\n",
            "Keras-Preprocessing           1.1.2              \n",
            "keras-vis                     0.4.1              \n",
            "kiwisolver                    1.3.1              \n",
            "korean-lunar-calendar         0.2.1              \n",
            "librosa                       0.8.0              \n",
            "lightgbm                      2.2.3              \n",
            "llvmlite                      0.34.0             \n",
            "lmdb                          0.99               \n",
            "LunarCalendar                 0.0.9              \n",
            "lxml                          4.2.6              \n",
            "Markdown                      3.3.4              \n",
            "MarkupSafe                    2.0.1              \n",
            "matplotlib                    3.2.2              \n",
            "matplotlib-inline             0.1.2              \n",
            "matplotlib-venn               0.11.6             \n",
            "missingno                     0.4.2              \n",
            "mistune                       0.8.4              \n",
            "mizani                        0.6.0              \n",
            "mkl                           2019.0             \n",
            "mlxtend                       0.14.0             \n",
            "more-itertools                8.7.0              \n",
            "moviepy                       0.2.3.5            \n",
            "mpmath                        1.2.1              \n",
            "msgpack                       1.0.2              \n",
            "multiprocess                  0.70.11.1          \n",
            "multitasking                  0.0.9              \n",
            "murmurhash                    1.0.5              \n",
            "music21                       5.5.0              \n",
            "natsort                       5.5.0              \n",
            "nbclient                      0.5.3              \n",
            "nbconvert                     5.6.1              \n",
            "nbformat                      5.1.3              \n",
            "nest-asyncio                  1.5.1              \n",
            "netCDF4                       1.5.6              \n",
            "networkx                      2.5.1              \n",
            "nibabel                       3.0.2              \n",
            "nltk                          3.2.5              \n",
            "notebook                      5.3.1              \n",
            "numba                         0.51.2             \n",
            "numexpr                       2.7.3              \n",
            "numpy                         1.19.5             \n",
            "nvidia-ml-py3                 7.352.0            \n",
            "oauth2client                  4.1.3              \n",
            "oauthlib                      3.1.0              \n",
            "okgrade                       0.4.3              \n",
            "opencv-contrib-python         4.1.2.30           \n",
            "opencv-python                 4.1.2.30           \n",
            "openpyxl                      2.5.9              \n",
            "opt-einsum                    3.3.0              \n",
            "osqp                          0.6.2.post0        \n",
            "packaging                     20.9               \n",
            "palettable                    3.3.0              \n",
            "pandas                        1.1.5              \n",
            "pandas-datareader             0.9.0              \n",
            "pandas-gbq                    0.13.3             \n",
            "pandas-profiling              1.4.1              \n",
            "pandocfilters                 1.4.3              \n",
            "panel                         0.11.3             \n",
            "param                         1.10.1             \n",
            "parso                         0.8.2              \n",
            "pathlib                       1.0.1              \n",
            "patsy                         0.5.1              \n",
            "pexpect                       4.8.0              \n",
            "pickleshare                   0.7.5              \n",
            "Pillow                        7.1.2              \n",
            "pip                           19.3.1             \n",
            "pip-tools                     4.5.1              \n",
            "plac                          1.1.3              \n",
            "plotly                        4.4.1              \n",
            "plotnine                      0.6.0              \n",
            "pluggy                        0.7.1              \n",
            "pooch                         1.3.0              \n",
            "portpicker                    1.3.9              \n",
            "prefetch-generator            1.0.1              \n",
            "preshed                       3.0.5              \n",
            "prettytable                   2.1.0              \n",
            "progressbar2                  3.38.0             \n",
            "prometheus-client             0.10.1             \n",
            "promise                       2.3                \n",
            "prompt-toolkit                1.0.18             \n",
            "protobuf                      3.12.4             \n",
            "psutil                        5.4.8              \n",
            "psycopg2                      2.7.6.1            \n",
            "ptyprocess                    0.7.0              \n",
            "py                            1.10.0             \n",
            "pyarrow                       3.0.0              \n",
            "pyasn1                        0.4.8              \n",
            "pyasn1-modules                0.2.8              \n",
            "pycocotools                   2.0.2              \n",
            "pycparser                     2.20               \n",
            "pyct                          0.4.8              \n",
            "pydata-google-auth            1.2.0              \n",
            "pydot                         1.3.0              \n",
            "pydot-ng                      2.0.0              \n",
            "pydotplus                     2.0.2              \n",
            "PyDrive                       1.3.1              \n",
            "pyemd                         0.5.1              \n",
            "pyerfa                        2.0.0              \n",
            "pyglet                        1.5.0              \n",
            "Pygments                      2.6.1              \n",
            "pygobject                     3.26.1             \n",
            "pymc3                         3.11.2             \n",
            "PyMeeus                       0.5.11             \n",
            "pymongo                       3.11.4             \n",
            "pymystem3                     0.2.0              \n",
            "PyOpenGL                      3.1.5              \n",
            "pyparsing                     2.4.7              \n",
            "pyrsistent                    0.17.3             \n",
            "pysndfile                     1.3.8              \n",
            "PySocks                       1.7.1              \n",
            "pystan                        2.19.1.1           \n",
            "pytest                        3.6.4              \n",
            "python-apt                    0.0.0              \n",
            "python-chess                  0.23.11            \n",
            "python-dateutil               2.8.1              \n",
            "python-louvain                0.15               \n",
            "python-slugify                5.0.2              \n",
            "python-utils                  2.5.6              \n",
            "pytz                          2018.9             \n",
            "pyviz-comms                   2.0.1              \n",
            "PyWavelets                    1.1.1              \n",
            "PyYAML                        3.13               \n",
            "pyzmq                         22.0.3             \n",
            "qdldl                         0.1.5.post0        \n",
            "qtconsole                     5.1.0              \n",
            "QtPy                          1.9.0              \n",
            "regex                         2019.12.20         \n",
            "requests                      2.23.0             \n",
            "requests-oauthlib             1.3.0              \n",
            "resampy                       0.2.2              \n",
            "retrying                      1.3.3              \n",
            "rpy2                          3.4.4              \n",
            "rsa                           4.7.2              \n",
            "scikit-image                  0.16.2             \n",
            "scikit-learn                  0.22.2.post1       \n",
            "scipy                         1.4.1              \n",
            "screen-resolution-extra       0.0.0              \n",
            "scs                           2.1.3              \n",
            "seaborn                       0.11.1             \n",
            "semver                        2.13.0             \n",
            "Send2Trash                    1.5.0              \n",
            "setuptools                    56.1.0             \n",
            "setuptools-git                1.2                \n",
            "Shapely                       1.7.1              \n",
            "simplegeneric                 0.8.1              \n",
            "six                           1.15.0             \n",
            "sklearn                       0.0                \n",
            "sklearn-pandas                1.8.0              \n",
            "smart-open                    5.0.0              \n",
            "snowballstemmer               2.1.0              \n",
            "sortedcontainers              2.4.0              \n",
            "SoundFile                     0.10.3.post1       \n",
            "spacy                         2.2.4              \n",
            "Sphinx                        1.8.5              \n",
            "sphinxcontrib-serializinghtml 1.1.4              \n",
            "sphinxcontrib-websupport      1.2.4              \n",
            "SQLAlchemy                    1.4.15             \n",
            "sqlparse                      0.4.1              \n",
            "srsly                         1.0.5              \n",
            "statsmodels                   0.10.2             \n",
            "sympy                         1.7.1              \n",
            "tables                        3.4.4              \n",
            "tabulate                      0.8.9              \n",
            "tblib                         1.7.0              \n",
            "tensorboard                   2.5.0              \n",
            "tensorboard-data-server       0.6.1              \n",
            "tensorboard-plugin-wit        1.8.0              \n",
            "tensorflow                    2.5.0              \n",
            "tensorflow-datasets           4.0.1              \n",
            "tensorflow-estimator          2.5.0              \n",
            "tensorflow-gcs-config         2.5.0              \n",
            "tensorflow-hub                0.12.0             \n",
            "tensorflow-metadata           1.0.0              \n",
            "tensorflow-probability        0.12.1             \n",
            "termcolor                     1.1.0              \n",
            "terminado                     0.10.0             \n",
            "testpath                      0.5.0              \n",
            "text-unidecode                1.3                \n",
            "textblob                      0.15.3             \n",
            "Theano-PyMC                   1.1.2              \n",
            "thinc                         7.4.0              \n",
            "tifffile                      2021.4.8           \n",
            "toml                          0.10.2             \n",
            "toolz                         0.11.1             \n",
            "torch                         1.8.1+cu101        \n",
            "torchsummary                  1.5.1              \n",
            "torchtext                     0.9.1              \n",
            "torchvision                   0.9.1+cu101        \n",
            "tornado                       5.1.1              \n",
            "tqdm                          4.41.1             \n",
            "traitlets                     5.0.5              \n",
            "tweepy                        3.10.0             \n",
            "typeguard                     2.7.1              \n",
            "typing-extensions             3.7.4.3            \n",
            "tzlocal                       1.5.1              \n",
            "uritemplate                   3.0.1              \n",
            "urllib3                       1.24.3             \n",
            "vega-datasets                 0.9.0              \n",
            "wasabi                        0.8.2              \n",
            "wcwidth                       0.2.5              \n",
            "webencodings                  0.5.1              \n",
            "Werkzeug                      1.0.1              \n",
            "wheel                         0.36.2             \n",
            "widgetsnbextension            3.5.1              \n",
            "wordcloud                     1.5.0              \n",
            "wrapt                         1.12.1             \n",
            "xarray                        0.18.2             \n",
            "xgboost                       0.90               \n",
            "xkit                          0.0.0              \n",
            "xlrd                          1.1.0              \n",
            "xlwt                          1.3.0              \n",
            "yellowbrick                   0.9.1              \n",
            "zict                          2.0.0              \n",
            "zipp                          3.4.1              \n"
          ],
          "name": "stdout"
        }
      ]
    },
    {
      "cell_type": "code",
      "metadata": {
        "colab": {
          "base_uri": "https://localhost:8080/"
        },
        "id": "hGiAcRr7xRrU",
        "outputId": "75a151b7-1b85-4077-ab00-8e68eaaa9786"
      },
      "source": [
        "! sudo apt remove d2l-zh.zip"
      ],
      "execution_count": null,
      "outputs": [
        {
          "output_type": "stream",
          "text": [
            "Reading package lists... Done\n",
            "Building dependency tree       \n",
            "Reading state information... Done\n",
            "E: Unable to locate package d2l-zh.zip\n",
            "E: Couldn't find any package by glob 'd2l-zh.zip'\n",
            "E: Couldn't find any package by regex 'd2l-zh.zip'\n"
          ],
          "name": "stdout"
        }
      ]
    },
    {
      "cell_type": "code",
      "metadata": {
        "colab": {
          "base_uri": "https://localhost:8080/"
        },
        "id": "V99jsD-lxe3x",
        "outputId": "6057a1cb-572e-4d85-a690-18bd7c3df083"
      },
      "source": [
        "!ls"
      ],
      "execution_count": null,
      "outputs": [
        {
          "output_type": "stream",
          "text": [
            "chapter_appendix\t\t       chapter_prerequisite\n",
            "chapter_computational-performance      chapter_recurrent-neural-networks\n",
            "chapter_computer-vision\t\t       d2lzh\n",
            "chapter_convolutional-neural-networks  d2l-zh.zip\n",
            "chapter_deep-learning-basics\t       data\n",
            "chapter_deep-learning-computation      drive\n",
            "chapter_how-to-use\t\t       environment.yml\n",
            "chapter_introduction\t\t       img\n",
            "chapter_natural-language-processing    README.md\n",
            "chapter_optimization\t\t       sample_data\n",
            "chapter_preface\n"
          ],
          "name": "stdout"
        }
      ]
    },
    {
      "cell_type": "code",
      "metadata": {
        "id": "ufKzH9vJxilN"
      },
      "source": [
        "!cd .."
      ],
      "execution_count": null,
      "outputs": []
    },
    {
      "cell_type": "code",
      "metadata": {
        "colab": {
          "base_uri": "https://localhost:8080/"
        },
        "id": "dM9_5483xlra",
        "outputId": "b012a9e3-a5e9-4339-9e86-ff3d7e90c8e5"
      },
      "source": [
        "!ls"
      ],
      "execution_count": null,
      "outputs": [
        {
          "output_type": "stream",
          "text": [
            "chapter_appendix\t\t       chapter_prerequisite\n",
            "chapter_computational-performance      chapter_recurrent-neural-networks\n",
            "chapter_computer-vision\t\t       d2lzh\n",
            "chapter_convolutional-neural-networks  d2l-zh.zip\n",
            "chapter_deep-learning-basics\t       data\n",
            "chapter_deep-learning-computation      drive\n",
            "chapter_how-to-use\t\t       environment.yml\n",
            "chapter_introduction\t\t       img\n",
            "chapter_natural-language-processing    README.md\n",
            "chapter_optimization\t\t       sample_data\n",
            "chapter_preface\n"
          ],
          "name": "stdout"
        }
      ]
    },
    {
      "cell_type": "code",
      "metadata": {
        "colab": {
          "base_uri": "https://localhost:8080/"
        },
        "id": "AjCIRL1BxnCu",
        "outputId": "1951adc3-408f-4db9-f457-7be75d68075c"
      },
      "source": [
        "!ls ../"
      ],
      "execution_count": null,
      "outputs": [
        {
          "output_type": "stream",
          "text": [
            "bin\t datalab  home\t lib64\topt   run   sys\t\t       tools\n",
            "boot\t dev\t  lib\t media\tproc  sbin  tensorflow-1.15.2  usr\n",
            "content  etc\t  lib32  mnt\troot  srv   tmp\t\t       var\n"
          ],
          "name": "stdout"
        }
      ]
    },
    {
      "cell_type": "code",
      "metadata": {
        "colab": {
          "base_uri": "https://localhost:8080/"
        },
        "id": "EFad0M4axyY8",
        "outputId": "227ca2a6-3711-4005-99e3-d42ccf36ac9a"
      },
      "source": [
        "!whereis d2l"
      ],
      "execution_count": null,
      "outputs": [
        {
          "output_type": "stream",
          "text": [
            "d2l:\n"
          ],
          "name": "stdout"
        }
      ]
    },
    {
      "cell_type": "code",
      "metadata": {
        "colab": {
          "base_uri": "https://localhost:8080/"
        },
        "id": "-JLFcCtRyBPv",
        "outputId": "5ee38d7b-42f7-4b21-9293-336ce6d2230c"
      },
      "source": [
        "!pwd"
      ],
      "execution_count": null,
      "outputs": [
        {
          "output_type": "stream",
          "text": [
            "/content\n"
          ],
          "name": "stdout"
        }
      ]
    },
    {
      "cell_type": "code",
      "metadata": {
        "colab": {
          "base_uri": "https://localhost:8080/"
        },
        "id": "u7iRElRGyFE4",
        "outputId": "73dc61c1-6126-4efa-e26e-f8b76a00c514"
      },
      "source": [
        "!ls"
      ],
      "execution_count": null,
      "outputs": [
        {
          "output_type": "stream",
          "text": [
            "chapter_appendix\t\t       chapter_prerequisite\n",
            "chapter_computational-performance      chapter_recurrent-neural-networks\n",
            "chapter_computer-vision\t\t       d2lzh\n",
            "chapter_convolutional-neural-networks  d2l-zh.zip\n",
            "chapter_deep-learning-basics\t       data\n",
            "chapter_deep-learning-computation      drive\n",
            "chapter_how-to-use\t\t       environment.yml\n",
            "chapter_introduction\t\t       img\n",
            "chapter_natural-language-processing    README.md\n",
            "chapter_optimization\t\t       sample_data\n",
            "chapter_preface\n"
          ],
          "name": "stdout"
        }
      ]
    },
    {
      "cell_type": "code",
      "metadata": {
        "id": "TyFZYjC_yIUA"
      },
      "source": [
        "!rm -f d2l-zh.zip"
      ],
      "execution_count": null,
      "outputs": []
    },
    {
      "cell_type": "code",
      "metadata": {
        "colab": {
          "base_uri": "https://localhost:8080/"
        },
        "id": "VhKm3YfyzBbw",
        "outputId": "73ab20f5-4e43-478e-fbe8-de72717b2bdf"
      },
      "source": [
        "!rm -f *chapter*"
      ],
      "execution_count": null,
      "outputs": [
        {
          "output_type": "stream",
          "text": [
            "rm: cannot remove 'chapter_appendix': Is a directory\n",
            "rm: cannot remove 'chapter_computational-performance': Is a directory\n",
            "rm: cannot remove 'chapter_computer-vision': Is a directory\n",
            "rm: cannot remove 'chapter_convolutional-neural-networks': Is a directory\n",
            "rm: cannot remove 'chapter_deep-learning-basics': Is a directory\n",
            "rm: cannot remove 'chapter_deep-learning-computation': Is a directory\n",
            "rm: cannot remove 'chapter_how-to-use': Is a directory\n",
            "rm: cannot remove 'chapter_introduction': Is a directory\n",
            "rm: cannot remove 'chapter_natural-language-processing': Is a directory\n",
            "rm: cannot remove 'chapter_optimization': Is a directory\n",
            "rm: cannot remove 'chapter_preface': Is a directory\n",
            "rm: cannot remove 'chapter_prerequisite': Is a directory\n",
            "rm: cannot remove 'chapter_recurrent-neural-networks': Is a directory\n"
          ],
          "name": "stdout"
        }
      ]
    },
    {
      "cell_type": "code",
      "metadata": {
        "id": "7MR7kiqJzZh4",
        "colab": {
          "base_uri": "https://localhost:8080/"
        },
        "outputId": "96bddc61-5b2b-44a3-b343-c2c7de707f6e"
      },
      "source": [
        "!ls"
      ],
      "execution_count": null,
      "outputs": [
        {
          "output_type": "stream",
          "text": [
            "sample_data\n"
          ],
          "name": "stdout"
        }
      ]
    },
    {
      "cell_type": "code",
      "metadata": {
        "colab": {
          "base_uri": "https://localhost:8080/",
          "height": 35
        },
        "id": "Rahs2hBHCymd",
        "outputId": "11e1b60e-eec9-499a-e498-6f18ffdae955"
      },
      "source": [
        "pwd"
      ],
      "execution_count": null,
      "outputs": [
        {
          "output_type": "execute_result",
          "data": {
            "application/vnd.google.colaboratory.intrinsic+json": {
              "type": "string"
            },
            "text/plain": [
              "'/content'"
            ]
          },
          "metadata": {
            "tags": []
          },
          "execution_count": 2
        }
      ]
    },
    {
      "cell_type": "code",
      "metadata": {
        "colab": {
          "base_uri": "https://localhost:8080/"
        },
        "id": "uEqpuaB2C18E",
        "outputId": "6ef99004-c552-4f8a-c9c5-0b0bb581f9c9"
      },
      "source": [
        "pip install d2l"
      ],
      "execution_count": null,
      "outputs": [
        {
          "output_type": "stream",
          "text": [
            "Collecting d2l\n",
            "\u001b[?25l  Downloading https://files.pythonhosted.org/packages/f4/e9/89f71389acf3cc4231d7e51839a9f093ea0078d93c44988f8ade9f6d44e5/d2l-0.16.4-py3-none-any.whl (77kB)\n",
            "\r\u001b[K     |████▎                           | 10kB 23.7MB/s eta 0:00:01\r\u001b[K     |████████▌                       | 20kB 15.5MB/s eta 0:00:01\r\u001b[K     |████████████▊                   | 30kB 9.1MB/s eta 0:00:01\r\u001b[K     |█████████████████               | 40kB 7.7MB/s eta 0:00:01\r\u001b[K     |█████████████████████▏          | 51kB 4.8MB/s eta 0:00:01\r\u001b[K     |█████████████████████████▍      | 61kB 4.9MB/s eta 0:00:01\r\u001b[K     |█████████████████████████████▋  | 71kB 5.6MB/s eta 0:00:01\r\u001b[K     |████████████████████████████████| 81kB 4.3MB/s \n",
            "\u001b[?25hRequirement already satisfied: numpy in /usr/local/lib/python3.7/dist-packages (from d2l) (1.19.5)\n",
            "Requirement already satisfied: requests in /usr/local/lib/python3.7/dist-packages (from d2l) (2.23.0)\n",
            "Requirement already satisfied: pandas in /usr/local/lib/python3.7/dist-packages (from d2l) (1.1.5)\n",
            "Requirement already satisfied: jupyter in /usr/local/lib/python3.7/dist-packages (from d2l) (1.0.0)\n",
            "Requirement already satisfied: matplotlib in /usr/local/lib/python3.7/dist-packages (from d2l) (3.2.2)\n",
            "Requirement already satisfied: certifi>=2017.4.17 in /usr/local/lib/python3.7/dist-packages (from requests->d2l) (2020.12.5)\n",
            "Requirement already satisfied: urllib3!=1.25.0,!=1.25.1,<1.26,>=1.21.1 in /usr/local/lib/python3.7/dist-packages (from requests->d2l) (1.24.3)\n",
            "Requirement already satisfied: chardet<4,>=3.0.2 in /usr/local/lib/python3.7/dist-packages (from requests->d2l) (3.0.4)\n",
            "Requirement already satisfied: idna<3,>=2.5 in /usr/local/lib/python3.7/dist-packages (from requests->d2l) (2.10)\n",
            "Requirement already satisfied: python-dateutil>=2.7.3 in /usr/local/lib/python3.7/dist-packages (from pandas->d2l) (2.8.1)\n",
            "Requirement already satisfied: pytz>=2017.2 in /usr/local/lib/python3.7/dist-packages (from pandas->d2l) (2018.9)\n",
            "Requirement already satisfied: notebook in /usr/local/lib/python3.7/dist-packages (from jupyter->d2l) (5.3.1)\n",
            "Requirement already satisfied: qtconsole in /usr/local/lib/python3.7/dist-packages (from jupyter->d2l) (5.1.0)\n",
            "Requirement already satisfied: ipykernel in /usr/local/lib/python3.7/dist-packages (from jupyter->d2l) (4.10.1)\n",
            "Requirement already satisfied: nbconvert in /usr/local/lib/python3.7/dist-packages (from jupyter->d2l) (5.6.1)\n",
            "Requirement already satisfied: jupyter-console in /usr/local/lib/python3.7/dist-packages (from jupyter->d2l) (5.2.0)\n",
            "Requirement already satisfied: ipywidgets in /usr/local/lib/python3.7/dist-packages (from jupyter->d2l) (7.6.3)\n",
            "Requirement already satisfied: pyparsing!=2.0.4,!=2.1.2,!=2.1.6,>=2.0.1 in /usr/local/lib/python3.7/dist-packages (from matplotlib->d2l) (2.4.7)\n",
            "Requirement already satisfied: kiwisolver>=1.0.1 in /usr/local/lib/python3.7/dist-packages (from matplotlib->d2l) (1.3.1)\n",
            "Requirement already satisfied: cycler>=0.10 in /usr/local/lib/python3.7/dist-packages (from matplotlib->d2l) (0.10.0)\n",
            "Requirement already satisfied: six>=1.5 in /usr/local/lib/python3.7/dist-packages (from python-dateutil>=2.7.3->pandas->d2l) (1.15.0)\n",
            "Requirement already satisfied: jupyter-core>=4.4.0 in /usr/local/lib/python3.7/dist-packages (from notebook->jupyter->d2l) (4.7.1)\n",
            "Requirement already satisfied: jinja2 in /usr/local/lib/python3.7/dist-packages (from notebook->jupyter->d2l) (2.11.3)\n",
            "Requirement already satisfied: Send2Trash in /usr/local/lib/python3.7/dist-packages (from notebook->jupyter->d2l) (1.5.0)\n",
            "Requirement already satisfied: nbformat in /usr/local/lib/python3.7/dist-packages (from notebook->jupyter->d2l) (5.1.3)\n",
            "Requirement already satisfied: traitlets>=4.2.1 in /usr/local/lib/python3.7/dist-packages (from notebook->jupyter->d2l) (5.0.5)\n",
            "Requirement already satisfied: terminado>=0.8.1 in /usr/local/lib/python3.7/dist-packages (from notebook->jupyter->d2l) (0.10.0)\n",
            "Requirement already satisfied: jupyter-client>=5.2.0 in /usr/local/lib/python3.7/dist-packages (from notebook->jupyter->d2l) (5.3.5)\n",
            "Requirement already satisfied: tornado>=4 in /usr/local/lib/python3.7/dist-packages (from notebook->jupyter->d2l) (5.1.1)\n",
            "Requirement already satisfied: ipython-genutils in /usr/local/lib/python3.7/dist-packages (from notebook->jupyter->d2l) (0.2.0)\n",
            "Requirement already satisfied: pyzmq>=17.1 in /usr/local/lib/python3.7/dist-packages (from qtconsole->jupyter->d2l) (22.0.3)\n",
            "Requirement already satisfied: qtpy in /usr/local/lib/python3.7/dist-packages (from qtconsole->jupyter->d2l) (1.9.0)\n",
            "Requirement already satisfied: pygments in /usr/local/lib/python3.7/dist-packages (from qtconsole->jupyter->d2l) (2.6.1)\n",
            "Requirement already satisfied: ipython>=4.0.0 in /usr/local/lib/python3.7/dist-packages (from ipykernel->jupyter->d2l) (5.5.0)\n",
            "Requirement already satisfied: pandocfilters>=1.4.1 in /usr/local/lib/python3.7/dist-packages (from nbconvert->jupyter->d2l) (1.4.3)\n",
            "Requirement already satisfied: bleach in /usr/local/lib/python3.7/dist-packages (from nbconvert->jupyter->d2l) (3.3.0)\n",
            "Requirement already satisfied: mistune<2,>=0.8.1 in /usr/local/lib/python3.7/dist-packages (from nbconvert->jupyter->d2l) (0.8.4)\n",
            "Requirement already satisfied: entrypoints>=0.2.2 in /usr/local/lib/python3.7/dist-packages (from nbconvert->jupyter->d2l) (0.3)\n",
            "Requirement already satisfied: testpath in /usr/local/lib/python3.7/dist-packages (from nbconvert->jupyter->d2l) (0.5.0)\n",
            "Requirement already satisfied: defusedxml in /usr/local/lib/python3.7/dist-packages (from nbconvert->jupyter->d2l) (0.7.1)\n",
            "Requirement already satisfied: prompt-toolkit<2.0.0,>=1.0.0 in /usr/local/lib/python3.7/dist-packages (from jupyter-console->jupyter->d2l) (1.0.18)\n",
            "Requirement already satisfied: jupyterlab-widgets>=1.0.0; python_version >= \"3.6\" in /usr/local/lib/python3.7/dist-packages (from ipywidgets->jupyter->d2l) (1.0.0)\n",
            "Requirement already satisfied: widgetsnbextension~=3.5.0 in /usr/local/lib/python3.7/dist-packages (from ipywidgets->jupyter->d2l) (3.5.1)\n",
            "Requirement already satisfied: MarkupSafe>=0.23 in /usr/local/lib/python3.7/dist-packages (from jinja2->notebook->jupyter->d2l) (2.0.1)\n",
            "Requirement already satisfied: jsonschema!=2.5.0,>=2.4 in /usr/local/lib/python3.7/dist-packages (from nbformat->notebook->jupyter->d2l) (2.6.0)\n",
            "Requirement already satisfied: ptyprocess; os_name != \"nt\" in /usr/local/lib/python3.7/dist-packages (from terminado>=0.8.1->notebook->jupyter->d2l) (0.7.0)\n",
            "Requirement already satisfied: pexpect; sys_platform != \"win32\" in /usr/local/lib/python3.7/dist-packages (from ipython>=4.0.0->ipykernel->jupyter->d2l) (4.8.0)\n",
            "Requirement already satisfied: pickleshare in /usr/local/lib/python3.7/dist-packages (from ipython>=4.0.0->ipykernel->jupyter->d2l) (0.7.5)\n",
            "Requirement already satisfied: decorator in /usr/local/lib/python3.7/dist-packages (from ipython>=4.0.0->ipykernel->jupyter->d2l) (4.4.2)\n",
            "Requirement already satisfied: simplegeneric>0.8 in /usr/local/lib/python3.7/dist-packages (from ipython>=4.0.0->ipykernel->jupyter->d2l) (0.8.1)\n",
            "Requirement already satisfied: setuptools>=18.5 in /usr/local/lib/python3.7/dist-packages (from ipython>=4.0.0->ipykernel->jupyter->d2l) (56.1.0)\n",
            "Requirement already satisfied: webencodings in /usr/local/lib/python3.7/dist-packages (from bleach->nbconvert->jupyter->d2l) (0.5.1)\n",
            "Requirement already satisfied: packaging in /usr/local/lib/python3.7/dist-packages (from bleach->nbconvert->jupyter->d2l) (20.9)\n",
            "Requirement already satisfied: wcwidth in /usr/local/lib/python3.7/dist-packages (from prompt-toolkit<2.0.0,>=1.0.0->jupyter-console->jupyter->d2l) (0.2.5)\n",
            "Installing collected packages: d2l\n",
            "Successfully installed d2l-0.16.4\n"
          ],
          "name": "stdout"
        }
      ]
    },
    {
      "cell_type": "code",
      "metadata": {
        "colab": {
          "base_uri": "https://localhost:8080/",
          "height": 131
        },
        "id": "llMw4WKpDSrT",
        "outputId": "6a129807-dfc1-4d6d-8bc2-c4e622a1da7b"
      },
      "source": [
        "wget https://zh-v2.d2l.ai/d2l-zh.zip"
      ],
      "execution_count": null,
      "outputs": [
        {
          "output_type": "error",
          "ename": "SyntaxError",
          "evalue": "ignored",
          "traceback": [
            "\u001b[0;36m  File \u001b[0;32m\"<ipython-input-4-3a76d9d474a6>\"\u001b[0;36m, line \u001b[0;32m1\u001b[0m\n\u001b[0;31m    wget https://zh-v2.d2l.ai/d2l-zh.zip\u001b[0m\n\u001b[0m             ^\u001b[0m\n\u001b[0;31mSyntaxError\u001b[0m\u001b[0;31m:\u001b[0m invalid syntax\n"
          ]
        }
      ]
    },
    {
      "cell_type": "code",
      "metadata": {
        "colab": {
          "base_uri": "https://localhost:8080/"
        },
        "id": "129miZbGDX9R",
        "outputId": "33ac8251-f153-4979-a09c-a67f6ed57aef"
      },
      "source": [
        "!wget https://zh-v2.d2l.ai/d2l-zh.zip"
      ],
      "execution_count": null,
      "outputs": [
        {
          "output_type": "stream",
          "text": [
            "--2021-05-31 06:12:57--  https://zh-v2.d2l.ai/d2l-zh.zip\n",
            "Resolving zh-v2.d2l.ai (zh-v2.d2l.ai)... 13.225.61.82, 13.225.61.62, 13.225.61.66, ...\n",
            "Connecting to zh-v2.d2l.ai (zh-v2.d2l.ai)|13.225.61.82|:443... connected.\n",
            "HTTP request sent, awaiting response... 200 OK\n",
            "Length: 85467180 (82M) [application/zip]\n",
            "Saving to: ‘d2l-zh.zip’\n",
            "\n",
            "d2l-zh.zip          100%[===================>]  81.51M  61.2MB/s    in 1.3s    \n",
            "\n",
            "2021-05-31 06:12:59 (61.2 MB/s) - ‘d2l-zh.zip’ saved [85467180/85467180]\n",
            "\n"
          ],
          "name": "stdout"
        }
      ]
    },
    {
      "cell_type": "code",
      "metadata": {
        "colab": {
          "base_uri": "https://localhost:8080/"
        },
        "id": "qxHyMUYBDclX",
        "outputId": "3e074ccf-bd4e-415c-dead-47594537a8ff"
      },
      "source": [
        "!ls"
      ],
      "execution_count": null,
      "outputs": [
        {
          "output_type": "stream",
          "text": [
            "d2l-zh.zip  sample_data\n"
          ],
          "name": "stdout"
        }
      ]
    },
    {
      "cell_type": "code",
      "metadata": {
        "colab": {
          "base_uri": "https://localhost:8080/"
        },
        "id": "Bw7cSGehDeqi",
        "outputId": "31415a56-0679-492f-d311-de8e5cd28820"
      },
      "source": [
        "!unzip d2l-zh.zip"
      ],
      "execution_count": null,
      "outputs": [
        {
          "output_type": "stream",
          "text": [
            "Archive:  d2l-zh.zip\n",
            "   creating: mxnet/\n",
            "   creating: mxnet/chapter_linear-networks/\n",
            "  inflating: mxnet/chapter_linear-networks/image-classification-dataset.ipynb  \n",
            "  inflating: mxnet/chapter_linear-networks/linear-regression.ipynb  \n",
            "  inflating: mxnet/chapter_linear-networks/linear-regression-scratch.ipynb  \n",
            "  inflating: mxnet/chapter_linear-networks/softmax-regression-scratch.ipynb  \n",
            "  inflating: mxnet/chapter_linear-networks/linear-regression-concise.ipynb  \n",
            "  inflating: mxnet/chapter_linear-networks/softmax-regression-concise.ipynb  \n",
            "  inflating: mxnet/chapter_linear-networks/softmax-regression.ipynb  \n",
            "  inflating: mxnet/chapter_linear-networks/index.ipynb  \n",
            "   creating: mxnet/chapter_preface/\n",
            "  inflating: mxnet/chapter_preface/index.ipynb  \n",
            "   creating: mxnet/chapter_convolutional-modern/\n",
            "  inflating: mxnet/chapter_convolutional-modern/densenet.ipynb  \n",
            "  inflating: mxnet/chapter_convolutional-modern/alexnet.ipynb  \n",
            "  inflating: mxnet/chapter_convolutional-modern/nin.ipynb  \n",
            "  inflating: mxnet/chapter_convolutional-modern/batch-norm.ipynb  \n",
            "  inflating: mxnet/chapter_convolutional-modern/googlenet.ipynb  \n",
            "  inflating: mxnet/chapter_convolutional-modern/vgg.ipynb  \n",
            "  inflating: mxnet/chapter_convolutional-modern/index.ipynb  \n",
            "  inflating: mxnet/chapter_convolutional-modern/resnet.ipynb  \n",
            "   creating: mxnet/chapter_computer-vision/\n",
            "  inflating: mxnet/chapter_computer-vision/submission.csv  \n",
            "  inflating: mxnet/chapter_computer-vision/kaggle-cifar10.ipynb  \n",
            "  inflating: mxnet/chapter_computer-vision/fine-tuning.ipynb  \n",
            "  inflating: mxnet/chapter_computer-vision/image-augmentation.ipynb  \n",
            "  inflating: mxnet/chapter_computer-vision/kaggle-dog.ipynb  \n",
            "  inflating: mxnet/chapter_computer-vision/index.ipynb  \n",
            "  inflating: mxnet/index_origin.ipynb  \n",
            "   creating: mxnet/chapter_multilayer-perceptrons/\n",
            "  inflating: mxnet/chapter_multilayer-perceptrons/numerical-stability-and-init.ipynb  \n",
            "  inflating: mxnet/chapter_multilayer-perceptrons/underfit-overfit.ipynb  \n",
            "  inflating: mxnet/chapter_multilayer-perceptrons/submission.csv  \n",
            "  inflating: mxnet/chapter_multilayer-perceptrons/weight-decay.ipynb  \n",
            "  inflating: mxnet/chapter_multilayer-perceptrons/backprop.ipynb  \n",
            "  inflating: mxnet/chapter_multilayer-perceptrons/dropout.ipynb  \n",
            "  inflating: mxnet/chapter_multilayer-perceptrons/kaggle-house-price.ipynb  \n",
            "  inflating: mxnet/chapter_multilayer-perceptrons/environment.ipynb  \n",
            "  inflating: mxnet/chapter_multilayer-perceptrons/mlp.ipynb  \n",
            "  inflating: mxnet/chapter_multilayer-perceptrons/mlp-scratch.ipynb  \n",
            "  inflating: mxnet/chapter_multilayer-perceptrons/mlp-concise.ipynb  \n",
            "  inflating: mxnet/chapter_multilayer-perceptrons/index.ipynb  \n",
            "   creating: mxnet/chapter_introduction/\n",
            "  inflating: mxnet/chapter_introduction/index.ipynb  \n",
            "   creating: mxnet/chapter_notation/\n",
            "  inflating: mxnet/chapter_notation/index.ipynb  \n",
            "   creating: mxnet/chapter_preliminaries/\n",
            "  inflating: mxnet/chapter_preliminaries/calculus.ipynb  \n",
            "  inflating: mxnet/chapter_preliminaries/lookup-api.ipynb  \n",
            "  inflating: mxnet/chapter_preliminaries/autograd.ipynb  \n",
            "  inflating: mxnet/chapter_preliminaries/linear-algebra.ipynb  \n",
            "  inflating: mxnet/chapter_preliminaries/pandas.ipynb  \n",
            "  inflating: mxnet/chapter_preliminaries/probability.ipynb  \n",
            "  inflating: mxnet/chapter_preliminaries/ndarray.ipynb  \n",
            "  inflating: mxnet/chapter_preliminaries/index.ipynb  \n",
            "   creating: mxnet/chapter_references/\n",
            "  inflating: mxnet/chapter_references/zreferences.ipynb  \n",
            "  inflating: mxnet/setup.py          \n",
            "   creating: mxnet/img/\n",
            "  inflating: mxnet/img/nli-attention.svg  \n",
            "  inflating: mxnet/img/Neuron.svg    \n",
            "  inflating: mxnet/img/blocks.svg    \n",
            "  inflating: mxnet/img/connect.png   \n",
            "  inflating: mxnet/img/space-division-3d.svg  \n",
            "  inflating: mxnet/img/encoder-decoder.svg  \n",
            "  inflating: mxnet/img/inception.svg  \n",
            "  inflating: mxnet/img/textcnn.svg   \n",
            "  inflating: mxnet/img/conv-pad.svg  \n",
            "  inflating: mxnet/img/forward.svg   \n",
            "  inflating: mxnet/img/vec-add.svg   \n",
            "  inflating: mxnet/img/fcn.svg       \n",
            "  inflating: mxnet/img/bert-qa.svg   \n",
            "  inflating: mxnet/img/mutual-information.svg  \n",
            "  inflating: mxnet/img/fast-rcnn.svg  \n",
            "  inflating: mxnet/img/catdog.jpg    \n",
            "  inflating: mxnet/img/banana.jpg    \n",
            "  inflating: mxnet/img/correlation.svg  \n",
            "  inflating: mxnet/img/rnn-bptt.svg  \n",
            "  inflating: mxnet/img/functionclasses.svg  \n",
            "  inflating: mxnet/img/conv-multi-in.svg  \n",
            "  inflating: mxnet/img/falsesharing.svg  \n",
            "  inflating: mxnet/img/sagemaker-create-3.png  \n",
            "  inflating: mxnet/img/capacity-vs-error.svg  \n",
            "  inflating: mxnet/img/s2s-prob1.svg  \n",
            "  inflating: mxnet/img/skip-gram.svg  \n",
            "  inflating: mxnet/img/hmm.svg       \n",
            "  inflating: mxnet/img/timemachine-5gram.svg  \n",
            "  inflating: mxnet/img/seq2seq-attention-details.svg  \n",
            "  inflating: mxnet/img/pacman.svg    \n",
            "  inflating: mxnet/img/space-division.svg  \n",
            "  inflating: mxnet/img/launching.png  \n",
            "  inflating: mxnet/img/colab.png     \n",
            "  inflating: mxnet/img/densenet.svg  \n",
            "  inflating: mxnet/img/rec-mf.svg    \n",
            "  inflating: mxnet/img/zeroSecDer.svg  \n",
            "  inflating: mxnet/img/koebel.jpg    \n",
            "  inflating: mxnet/img/s2s-prob2.svg  \n",
            "  inflating: mxnet/img/nonconvex.svg  \n",
            "  inflating: mxnet/img/computegraph.svg  \n",
            "  inflating: mxnet/img/wake-word.svg  \n",
            "  inflating: mxnet/img/flopsvsprice.svg  \n",
            "  inflating: mxnet/img/grid-transform-filled.svg  \n",
            "  inflating: mxnet/img/eye-coffee.svg  \n",
            "  inflating: mxnet/img/nlp-map-sa-rnn.svg  \n",
            "  inflating: mxnet/img/dropout2.svg  \n",
            "  inflating: mxnet/img/transformer.svg  \n",
            "  inflating: mxnet/img/git-clone.png  \n",
            "  inflating: mxnet/img/rec-deepfm.svg  \n",
            "  inflating: mxnet/img/ps-multimachine.svg  \n",
            "  inflating: mxnet/img/gru-1.svg     \n",
            "  inflating: mxnet/img/book-org.svg  \n",
            "  inflating: mxnet/img/attention-output.svg  \n",
            "  inflating: mxnet/img/chain-net1.svg  \n",
            "  inflating: mxnet/img/marginal.svg  \n",
            "  inflating: mxnet/img/lstm-1.svg    \n",
            "  inflating: mxnet/img/latencynumbers.png  \n",
            "  inflating: mxnet/img/git-fork.png  \n",
            "  inflating: mxnet/img/grid-transform.svg  \n",
            "  inflating: mxnet/img/projections.svg  \n",
            "  inflating: mxnet/img/nlp-map-nli-bert.svg  \n",
            "  inflating: mxnet/img/seq2seq-predict.svg  \n",
            "  inflating: mxnet/img/pooling.svg   \n",
            "  inflating: mxnet/img/mask-rcnn.svg  \n",
            "  inflating: mxnet/img/kaggle-cifar10.png  \n",
            "  inflating: mxnet/img/elmo-gpt-bert.svg  \n",
            "   creating: mxnet/img/frontpage/\n",
            "  inflating: mxnet/img/frontpage/jd-190715-zh.png  \n",
            "  inflating: mxnet/img/frontpage/jd-190715-en.png  \n",
            "  inflating: mxnet/img/rnn.svg       \n",
            "  inflating: mxnet/img/cat2.jpg      \n",
            "  inflating: mxnet/img/sum-order.svg  \n",
            "  inflating: mxnet/img/dog2.jpg      \n",
            "  inflating: mxnet/img/ml-loop.svg   \n",
            "  inflating: mxnet/img/statistical-significance.svg  \n",
            "  inflating: mxnet/img/bert-tagging.svg  \n",
            "  inflating: mxnet/img/mobo-symbol.svg  \n",
            "  inflating: mxnet/img/lstm-2.svg    \n",
            "  inflating: mxnet/img/chain-net2.svg  \n",
            "  inflating: mxnet/img/git-newpr.png  \n",
            "  inflating: mxnet/img/splitting.svg  \n",
            "  inflating: mxnet/img/stackedanimals.png  \n",
            "  inflating: mxnet/img/eye-coffee.png  \n",
            "  inflating: mxnet/img/speech.png    \n",
            "  inflating: mxnet/img/residual-block.svg  \n",
            "  inflating: mxnet/img/tensorcore.jpg  \n",
            "  inflating: mxnet/img/cat3.jpg      \n",
            "  inflating: mxnet/img/p2x.png       \n",
            "  inflating: mxnet/img/sagemaker-create.png  \n",
            "  inflating: mxnet/img/frontends.png  \n",
            "  inflating: mxnet/img/house-pricing.png  \n",
            "  inflating: mxnet/img/seq2seq-attention.svg  \n",
            "  inflating: mxnet/img/multi-head-attention.svg  \n",
            "  inflating: mxnet/img/data-parallel.svg  \n",
            "  inflating: mxnet/img/rec-neumf.svg  \n",
            "  inflating: mxnet/img/lstm-0.svg    \n",
            "  inflating: mxnet/img/turing.png    \n",
            "  inflating: mxnet/img/beam-search.svg  \n",
            "  inflating: mxnet/img/hi-softmax.svg  \n",
            "  inflating: mxnet/img/nlp-map-pretrain.svg  \n",
            "  inflating: mxnet/img/popvssoda.png  \n",
            "  inflating: mxnet/img/kaggle-submit2.png  \n",
            "  inflating: mxnet/img/polygon-circle.svg  \n",
            "  inflating: mxnet/img/iou.svg       \n",
            "  inflating: mxnet/img/sagemaker.png  \n",
            "  inflating: mxnet/img/vgg.svg       \n",
            "  inflating: mxnet/img/ec2.png       \n",
            "  inflating: mxnet/img/inception-full.svg  \n",
            "  inflating: mxnet/img/anchor-label.svg  \n",
            "  inflating: mxnet/img/par-vec.svg   \n",
            "  inflating: mxnet/img/conv-stride.svg  \n",
            "  inflating: mxnet/img/twogpu.svg    \n",
            "  inflating: mxnet/img/mlp.svg       \n",
            "  inflating: mxnet/img/negSecDer.svg  \n",
            "  inflating: mxnet/img/pikachu.jpg   \n",
            "  inflating: mxnet/img/cat1.jpg      \n",
            "  inflating: mxnet/img/self-attention.svg  \n",
            "  inflating: mxnet/img/a77.svg       \n",
            "  inflating: mxnet/img/neon128.svg   \n",
            "  inflating: mxnet/img/finetune.svg  \n",
            "  inflating: mxnet/img/chmod.png     \n",
            "  inflating: mxnet/img/where-wally-walker-books.jpg  \n",
            "  inflating: mxnet/img/cnn-rnn-self-attention.svg  \n",
            "  inflating: mxnet/img/segmentation.svg  \n",
            "  inflating: mxnet/img/kaggle.png    \n",
            "  inflating: mxnet/img/nin.svg       \n",
            "  inflating: mxnet/img/jupyter06.png  \n",
            "  inflating: mxnet/img/Marginal.svg  \n",
            "  inflating: mxnet/img/wattvsprice.svg  \n",
            "  inflating: mxnet/img/alexnet.svg   \n",
            "  inflating: mxnet/img/waldo-mask.jpg  \n",
            "  inflating: mxnet/img/ubuntu-new.png  \n",
            "  inflating: mxnet/img/truncated-bptt.svg  \n",
            "  inflating: mxnet/img/rec-seq-data.svg  \n",
            "  inflating: mxnet/img/ps-multips.svg  \n",
            "  inflating: mxnet/img/birnn.svg     \n",
            "  inflating: mxnet/img/seq2seq-details.svg  \n",
            "  inflating: mxnet/img/r-cnn.svg     \n",
            "  inflating: mxnet/img/convex-intersect.svg  \n",
            "  inflating: mxnet/img/supervised-learning.svg  \n",
            "  inflating: mxnet/img/jupyter01.png  \n",
            "  inflating: mxnet/img/attention.svg  \n",
            "  inflating: mxnet/img/nlp-map-nli-attention.svg  \n",
            "  inflating: mxnet/img/rnn-train.svg  \n",
            "  inflating: mxnet/img/resnet-block.svg  \n",
            "  inflating: mxnet/img/bert-two-seqs.svg  \n",
            "  inflating: mxnet/img/conv1d-channel.svg  \n",
            "  inflating: mxnet/img/sagemaker-stop.png  \n",
            "  inflating: mxnet/img/gru-3.svg     \n",
            "  inflating: mxnet/img/sagemaker-open.png  \n",
            "  inflating: mxnet/img/alexnet-original.svg  \n",
            "  inflating: mxnet/img/softmaxreg.svg  \n",
            "  inflating: mxnet/img/ringsync.svg  \n",
            "  inflating: mxnet/img/jupyter00.png  \n",
            "  inflating: mxnet/img/conv-1x1.svg  \n",
            "  inflating: mxnet/img/rec-intro.svg  \n",
            "  inflating: mxnet/img/sequence-model.svg  \n",
            "  inflating: mxnet/img/singleneuron.svg  \n",
            "  inflating: mxnet/img/ps.svg        \n",
            "  inflating: mxnet/img/asyncgraph.svg  \n",
            "  inflating: mxnet/img/jupyter02.png  \n",
            "  inflating: mxnet/img/frontends.svg  \n",
            "  inflating: mxnet/img/jupyter03.png  \n",
            "  inflating: mxnet/img/cuda101.png   \n",
            "  inflating: mxnet/img/bert-input.svg  \n",
            "  inflating: mxnet/img/colab-2.png   \n",
            "  inflating: mxnet/img/faster-rcnn.svg  \n",
            "  inflating: mxnet/img/resnet18.svg  \n",
            "  inflating: mxnet/img/gru-2.svg     \n",
            "  inflating: mxnet/img/turing-processing-block.png  \n",
            "  inflating: mxnet/img/trans-conv.svg  \n",
            "  inflating: mxnet/img/rec-caser.svg  \n",
            "  inflating: mxnet/img/neural-style.svg  \n",
            "  inflating: mxnet/img/cbow.svg      \n",
            "  inflating: mxnet/img/rec-ranking.svg  \n",
            "  inflating: mxnet/img/dog1.jpg      \n",
            "  inflating: mxnet/img/roi.svg       \n",
            "  inflating: mxnet/img/lstm-3.svg    \n",
            "  inflating: mxnet/img/style-transfer.svg  \n",
            "  inflating: mxnet/img/bert-one-seq.svg  \n",
            "  inflating: mxnet/img/vec-angle.svg  \n",
            "  inflating: mxnet/img/edit-file.png  \n",
            "  inflating: mxnet/img/posSecDer.svg  \n",
            "  inflating: mxnet/img/death-cap.jpg  \n",
            "  inflating: mxnet/img/aws.png       \n",
            "  inflating: mxnet/img/lenet.svg     \n",
            "  inflating: mxnet/img/ssd.svg       \n",
            "  inflating: mxnet/img/neural-style.jpg  \n",
            "  inflating: mxnet/img/ftse100.png   \n",
            "  inflating: mxnet/img/cat-dog-train.svg  \n",
            "  inflating: mxnet/img/rainier.jpg   \n",
            "  inflating: mxnet/img/filters.png   \n",
            "  inflating: mxnet/img/densenet-block.svg  \n",
            "  inflating: mxnet/img/bw-hierarchy.svg  \n",
            "  inflating: mxnet/img/sagemaker-jupyter.png  \n",
            "  inflating: mxnet/img/ps-distributed.svg  \n",
            "  inflating: mxnet/img/lenet-vert.svg  \n",
            "  inflating: mxnet/img/git-createpr.png  \n",
            "  inflating: mxnet/img/disk.png      \n",
            "  inflating: mxnet/img/rect-trans.svg  \n",
            "  inflating: mxnet/img/jupyter05.png  \n",
            "  inflating: mxnet/img/conv1d-2d.svg  \n",
            "  inflating: mxnet/img/cat-dog-pixels.png  \n",
            "  inflating: mxnet/img/conv1d.svg    \n",
            "  inflating: mxnet/img/nlp-map-app.svg  \n",
            "  inflating: mxnet/img/deep-rnn.svg  \n",
            "  inflating: mxnet/img/kaggle-dog.jpg  \n",
            "  inflating: mxnet/img/neuron.svg    \n",
            "  inflating: mxnet/img/data-collection.svg  \n",
            "  inflating: mxnet/img/rl-environment.svg  \n",
            "  inflating: mxnet/img/qkv.svg       \n",
            "  inflating: mxnet/img/jupyter04.png  \n",
            "  inflating: mxnet/img/cat-dog-test.svg  \n",
            "  inflating: mxnet/img/deeplearning-amazon.jpg  \n",
            "  inflating: mxnet/img/miniconda.png  \n",
            "  inflating: mxnet/img/grid-points.svg  \n",
            "  inflating: mxnet/img/contribute.svg  \n",
            "  inflating: mxnet/img/git-forked.png  \n",
            "  inflating: mxnet/img/limits.png    \n",
            "  inflating: mxnet/img/gan.svg       \n",
            "  inflating: mxnet/img/seq2seq.svg   \n",
            "  inflating: mxnet/img/nvlink-twoloop.svg  \n",
            "  inflating: mxnet/img/nlp-map-sa-cnn.svg  \n",
            "  inflating: mxnet/img/skylake.svg   \n",
            "  inflating: mxnet/img/jupyter.png   \n",
            "  inflating: mxnet/img/autumn-oak.jpg  \n",
            "  inflating: mxnet/img/fit-linreg.svg  \n",
            "  inflating: mxnet/img/eye-book.png  \n",
            "  inflating: mxnet/img/keypair.png   \n",
            "  inflating: mxnet/img/sagemaker-create-2.png  \n",
            "  inflating: mxnet/img/sagemaker-terminal.png  \n",
            "  inflating: mxnet/img/proj-vec.svg  \n",
            "  inflating: mxnet/img/nvlink.svg    \n",
            "  inflating: mxnet/img/eye-book.svg  \n",
            "  inflating: mxnet/img/sub-area.svg  \n",
            "  inflating: mxnet/img/copyto.svg    \n",
            "  inflating: mxnet/img/threading.svg  \n",
            "   creating: mxnet/chapter_convolutional-neural-networks/\n",
            "  inflating: mxnet/chapter_convolutional-neural-networks/pooling.ipynb  \n",
            "  inflating: mxnet/chapter_convolutional-neural-networks/conv-layer.ipynb  \n",
            "  inflating: mxnet/chapter_convolutional-neural-networks/lenet.ipynb  \n",
            "  inflating: mxnet/chapter_convolutional-neural-networks/padding-and-strides.ipynb  \n",
            "  inflating: mxnet/chapter_convolutional-neural-networks/channels.ipynb  \n",
            "  inflating: mxnet/chapter_convolutional-neural-networks/why-conv.ipynb  \n",
            "  inflating: mxnet/chapter_convolutional-neural-networks/index.ipynb  \n",
            "  inflating: mxnet/d2l.bib           \n",
            "   creating: mxnet/chapter_attention-mechanisms/\n",
            "  inflating: mxnet/chapter_attention-mechanisms/bahdanau-attention.ipynb  \n",
            "  inflating: mxnet/chapter_attention-mechanisms/attention-scoring-functions.ipynb  \n",
            "  inflating: mxnet/chapter_attention-mechanisms/self-attention-and-positional-encoding.ipynb  \n",
            "  inflating: mxnet/chapter_attention-mechanisms/attention-cues.ipynb  \n",
            "  inflating: mxnet/chapter_attention-mechanisms/multihead-attention.ipynb  \n",
            "  inflating: mxnet/chapter_attention-mechanisms/nadaraya-waston.ipynb  \n",
            "  inflating: mxnet/chapter_attention-mechanisms/index.ipynb  \n",
            "  inflating: mxnet/chapter_attention-mechanisms/transformer.ipynb  \n",
            "   creating: mxnet/chapter_installation/\n",
            "  inflating: mxnet/chapter_installation/index.ipynb  \n",
            "  inflating: mxnet/TERMINOLOGY.ipynb  \n",
            "   creating: mxnet/chapter_computational-performance/\n",
            "  inflating: mxnet/chapter_computational-performance/parameterserver.ipynb  \n",
            "  inflating: mxnet/chapter_computational-performance/auto-parallelism.ipynb  \n",
            "  inflating: mxnet/chapter_computational-performance/async-computation.ipynb  \n",
            "  inflating: mxnet/chapter_computational-performance/multiple-gpus-concise.ipynb  \n",
            "  inflating: mxnet/chapter_computational-performance/hybridize.ipynb  \n",
            "  inflating: mxnet/chapter_computational-performance/hardware.ipynb  \n",
            "  inflating: mxnet/chapter_computational-performance/my_mlp-symbol.json  \n",
            "  inflating: mxnet/chapter_computational-performance/multiple-gpus.ipynb  \n",
            "  inflating: mxnet/chapter_computational-performance/my_mlp-0000.params  \n",
            "  inflating: mxnet/chapter_computational-performance/index.ipynb  \n",
            "   creating: mxnet/chapter_optimization/\n",
            "  inflating: mxnet/chapter_optimization/optimization-intro.ipynb  \n",
            "  inflating: mxnet/chapter_optimization/index.ipynb  \n",
            "   creating: mxnet/chapter_recurrent-neural-networks/\n",
            "  inflating: mxnet/chapter_recurrent-neural-networks/bptt.ipynb  \n",
            "  inflating: mxnet/chapter_recurrent-neural-networks/rnn.ipynb  \n",
            "  inflating: mxnet/chapter_recurrent-neural-networks/rnn-concise.ipynb  \n",
            "  inflating: mxnet/chapter_recurrent-neural-networks/sequence.ipynb  \n",
            "  inflating: mxnet/chapter_recurrent-neural-networks/language-models-and-dataset.ipynb  \n",
            "  inflating: mxnet/chapter_recurrent-neural-networks/text-preprocessing.ipynb  \n",
            "  inflating: mxnet/chapter_recurrent-neural-networks/rnn-scratch.ipynb  \n",
            "  inflating: mxnet/chapter_recurrent-neural-networks/index.ipynb  \n",
            "   creating: mxnet/chapter_recurrent-modern/\n",
            "  inflating: mxnet/chapter_recurrent-modern/encoder-decoder.ipynb  \n",
            "  inflating: mxnet/chapter_recurrent-modern/deep-rnn.ipynb  \n",
            "  inflating: mxnet/chapter_recurrent-modern/gru.ipynb  \n",
            "  inflating: mxnet/chapter_recurrent-modern/beam-search.ipynb  \n",
            "  inflating: mxnet/chapter_recurrent-modern/lstm.ipynb  \n",
            "  inflating: mxnet/chapter_recurrent-modern/bi-rnn.ipynb  \n",
            "  inflating: mxnet/chapter_recurrent-modern/machine-translation-and-dataset.ipynb  \n",
            "  inflating: mxnet/chapter_recurrent-modern/index.ipynb  \n",
            "  inflating: mxnet/chapter_recurrent-modern/seq2seq.ipynb  \n",
            "  inflating: mxnet/index.ipynb       \n",
            "   creating: mxnet/chapter_deep-learning-computation/\n",
            "  inflating: mxnet/chapter_deep-learning-computation/x-files  \n",
            "  inflating: mxnet/chapter_deep-learning-computation/custom-layer.ipynb  \n",
            "  inflating: mxnet/chapter_deep-learning-computation/read-write.ipynb  \n",
            "  inflating: mxnet/chapter_deep-learning-computation/mlp.params  \n",
            "  inflating: mxnet/chapter_deep-learning-computation/x-file  \n",
            "  inflating: mxnet/chapter_deep-learning-computation/model-construction.ipynb  \n",
            "  inflating: mxnet/chapter_deep-learning-computation/deferred-init.ipynb  \n",
            "  inflating: mxnet/chapter_deep-learning-computation/parameters.ipynb  \n",
            "  inflating: mxnet/chapter_deep-learning-computation/use-gpu.ipynb  \n",
            "  inflating: mxnet/chapter_deep-learning-computation/mydict  \n",
            "  inflating: mxnet/chapter_deep-learning-computation/index.ipynb  \n",
            "   creating: pytorch/\n",
            "   creating: pytorch/chapter_linear-networks/\n",
            "  inflating: pytorch/chapter_linear-networks/image-classification-dataset.ipynb  \n",
            "  inflating: pytorch/chapter_linear-networks/linear-regression.ipynb  \n",
            "  inflating: pytorch/chapter_linear-networks/linear-regression-scratch.ipynb  \n",
            "  inflating: pytorch/chapter_linear-networks/softmax-regression-scratch.ipynb  \n",
            "  inflating: pytorch/chapter_linear-networks/linear-regression-concise.ipynb  \n",
            "  inflating: pytorch/chapter_linear-networks/softmax-regression-concise.ipynb  \n",
            " extracting: pytorch/chapter_linear-networks/softmax-regression.ipynb  \n",
            " extracting: pytorch/chapter_linear-networks/index.ipynb  \n",
            "   creating: pytorch/chapter_preface/\n",
            "  inflating: pytorch/chapter_preface/index.ipynb  \n",
            "   creating: pytorch/chapter_convolutional-modern/\n",
            "  inflating: pytorch/chapter_convolutional-modern/densenet.ipynb  \n",
            "  inflating: pytorch/chapter_convolutional-modern/alexnet.ipynb  \n",
            "  inflating: pytorch/chapter_convolutional-modern/nin.ipynb  \n",
            "  inflating: pytorch/chapter_convolutional-modern/batch-norm.ipynb  \n",
            "  inflating: pytorch/chapter_convolutional-modern/googlenet.ipynb  \n",
            "  inflating: pytorch/chapter_convolutional-modern/vgg.ipynb  \n",
            " extracting: pytorch/chapter_convolutional-modern/index.ipynb  \n",
            "  inflating: pytorch/chapter_convolutional-modern/resnet.ipynb  \n",
            "   creating: pytorch/chapter_computer-vision/\n",
            "  inflating: pytorch/chapter_computer-vision/submission.csv  \n",
            "  inflating: pytorch/chapter_computer-vision/kaggle-cifar10.ipynb  \n",
            "  inflating: pytorch/chapter_computer-vision/fine-tuning.ipynb  \n",
            "  inflating: pytorch/chapter_computer-vision/image-augmentation.ipynb  \n",
            "  inflating: pytorch/chapter_computer-vision/kaggle-dog.ipynb  \n",
            " extracting: pytorch/chapter_computer-vision/index.ipynb  \n",
            " extracting: pytorch/index_origin.ipynb  \n",
            "   creating: pytorch/chapter_multilayer-perceptrons/\n",
            "  inflating: pytorch/chapter_multilayer-perceptrons/numerical-stability-and-init.ipynb  \n",
            "  inflating: pytorch/chapter_multilayer-perceptrons/underfit-overfit.ipynb  \n",
            "  inflating: pytorch/chapter_multilayer-perceptrons/submission.csv  \n",
            "  inflating: pytorch/chapter_multilayer-perceptrons/weight-decay.ipynb  \n",
            " extracting: pytorch/chapter_multilayer-perceptrons/backprop.ipynb  \n",
            "  inflating: pytorch/chapter_multilayer-perceptrons/dropout.ipynb  \n",
            "  inflating: pytorch/chapter_multilayer-perceptrons/kaggle-house-price.ipynb  \n",
            " extracting: pytorch/chapter_multilayer-perceptrons/environment.ipynb  \n",
            "  inflating: pytorch/chapter_multilayer-perceptrons/mlp.ipynb  \n",
            "  inflating: pytorch/chapter_multilayer-perceptrons/mlp-scratch.ipynb  \n",
            "  inflating: pytorch/chapter_multilayer-perceptrons/mlp-concise.ipynb  \n",
            " extracting: pytorch/chapter_multilayer-perceptrons/index.ipynb  \n",
            "   creating: pytorch/chapter_introduction/\n",
            " extracting: pytorch/chapter_introduction/index.ipynb  \n",
            "   creating: pytorch/chapter_notation/\n",
            " extracting: pytorch/chapter_notation/index.ipynb  \n",
            "   creating: pytorch/chapter_preliminaries/\n",
            "  inflating: pytorch/chapter_preliminaries/calculus.ipynb  \n",
            "  inflating: pytorch/chapter_preliminaries/lookup-api.ipynb  \n",
            "  inflating: pytorch/chapter_preliminaries/autograd.ipynb  \n",
            "  inflating: pytorch/chapter_preliminaries/linear-algebra.ipynb  \n",
            "  inflating: pytorch/chapter_preliminaries/pandas.ipynb  \n",
            "  inflating: pytorch/chapter_preliminaries/probability.ipynb  \n",
            "  inflating: pytorch/chapter_preliminaries/ndarray.ipynb  \n",
            " extracting: pytorch/chapter_preliminaries/index.ipynb  \n",
            "   creating: pytorch/chapter_references/\n",
            " extracting: pytorch/chapter_references/zreferences.ipynb  \n",
            "  inflating: pytorch/setup.py        \n",
            "   creating: pytorch/img/\n",
            "  inflating: pytorch/img/nli-attention.svg  \n",
            "  inflating: pytorch/img/Neuron.svg  \n",
            "  inflating: pytorch/img/blocks.svg  \n",
            "  inflating: pytorch/img/connect.png  \n",
            "  inflating: pytorch/img/space-division-3d.svg  \n",
            "  inflating: pytorch/img/encoder-decoder.svg  \n",
            "  inflating: pytorch/img/inception.svg  \n",
            "  inflating: pytorch/img/textcnn.svg  \n",
            "  inflating: pytorch/img/conv-pad.svg  \n",
            "  inflating: pytorch/img/forward.svg  \n",
            "  inflating: pytorch/img/vec-add.svg  \n",
            "  inflating: pytorch/img/fcn.svg     \n",
            "  inflating: pytorch/img/bert-qa.svg  \n",
            "  inflating: pytorch/img/mutual-information.svg  \n",
            "  inflating: pytorch/img/fast-rcnn.svg  \n",
            "  inflating: pytorch/img/catdog.jpg  \n",
            "  inflating: pytorch/img/banana.jpg  \n",
            "  inflating: pytorch/img/correlation.svg  \n",
            "  inflating: pytorch/img/rnn-bptt.svg  \n",
            "  inflating: pytorch/img/functionclasses.svg  \n",
            "  inflating: pytorch/img/conv-multi-in.svg  \n",
            "  inflating: pytorch/img/falsesharing.svg  \n",
            "  inflating: pytorch/img/sagemaker-create-3.png  \n",
            "  inflating: pytorch/img/capacity-vs-error.svg  \n",
            "  inflating: pytorch/img/s2s-prob1.svg  \n",
            "  inflating: pytorch/img/skip-gram.svg  \n",
            "  inflating: pytorch/img/hmm.svg     \n",
            "  inflating: pytorch/img/timemachine-5gram.svg  \n",
            "  inflating: pytorch/img/seq2seq-attention-details.svg  \n",
            "  inflating: pytorch/img/pacman.svg  \n",
            "  inflating: pytorch/img/space-division.svg  \n",
            "  inflating: pytorch/img/launching.png  \n",
            "  inflating: pytorch/img/colab.png   \n",
            "  inflating: pytorch/img/densenet.svg  \n",
            "  inflating: pytorch/img/rec-mf.svg  \n",
            "  inflating: pytorch/img/zeroSecDer.svg  \n",
            "  inflating: pytorch/img/koebel.jpg  \n",
            "  inflating: pytorch/img/s2s-prob2.svg  \n",
            "  inflating: pytorch/img/nonconvex.svg  \n",
            "  inflating: pytorch/img/computegraph.svg  \n",
            "  inflating: pytorch/img/wake-word.svg  \n",
            "  inflating: pytorch/img/flopsvsprice.svg  \n",
            "  inflating: pytorch/img/grid-transform-filled.svg  \n",
            "  inflating: pytorch/img/eye-coffee.svg  \n",
            "  inflating: pytorch/img/nlp-map-sa-rnn.svg  \n",
            "  inflating: pytorch/img/dropout2.svg  \n",
            "  inflating: pytorch/img/transformer.svg  \n",
            "  inflating: pytorch/img/git-clone.png  \n",
            "  inflating: pytorch/img/rec-deepfm.svg  \n",
            "  inflating: pytorch/img/ps-multimachine.svg  \n",
            "  inflating: pytorch/img/gru-1.svg   \n",
            "  inflating: pytorch/img/book-org.svg  \n",
            "  inflating: pytorch/img/attention-output.svg  \n",
            "  inflating: pytorch/img/chain-net1.svg  \n",
            "  inflating: pytorch/img/marginal.svg  \n",
            "  inflating: pytorch/img/lstm-1.svg  \n",
            "  inflating: pytorch/img/latencynumbers.png  \n",
            "  inflating: pytorch/img/git-fork.png  \n",
            "  inflating: pytorch/img/grid-transform.svg  \n",
            "  inflating: pytorch/img/projections.svg  \n",
            "  inflating: pytorch/img/nlp-map-nli-bert.svg  \n",
            "  inflating: pytorch/img/seq2seq-predict.svg  \n",
            "  inflating: pytorch/img/pooling.svg  \n",
            "  inflating: pytorch/img/mask-rcnn.svg  \n",
            "  inflating: pytorch/img/kaggle-cifar10.png  \n",
            "  inflating: pytorch/img/elmo-gpt-bert.svg  \n",
            "   creating: pytorch/img/frontpage/\n",
            "  inflating: pytorch/img/frontpage/jd-190715-zh.png  \n",
            "  inflating: pytorch/img/frontpage/jd-190715-en.png  \n",
            "  inflating: pytorch/img/rnn.svg     \n",
            "  inflating: pytorch/img/cat2.jpg    \n",
            "  inflating: pytorch/img/sum-order.svg  \n",
            "  inflating: pytorch/img/dog2.jpg    \n",
            "  inflating: pytorch/img/ml-loop.svg  \n",
            "  inflating: pytorch/img/statistical-significance.svg  \n",
            "  inflating: pytorch/img/bert-tagging.svg  \n",
            "  inflating: pytorch/img/mobo-symbol.svg  \n",
            "  inflating: pytorch/img/lstm-2.svg  \n",
            "  inflating: pytorch/img/chain-net2.svg  \n",
            "  inflating: pytorch/img/git-newpr.png  \n",
            "  inflating: pytorch/img/splitting.svg  \n",
            "  inflating: pytorch/img/stackedanimals.png  \n",
            "  inflating: pytorch/img/eye-coffee.png  \n",
            "  inflating: pytorch/img/speech.png  \n",
            "  inflating: pytorch/img/residual-block.svg  \n",
            "  inflating: pytorch/img/tensorcore.jpg  \n",
            "  inflating: pytorch/img/cat3.jpg    \n",
            "  inflating: pytorch/img/p2x.png     \n",
            "  inflating: pytorch/img/sagemaker-create.png  \n",
            "  inflating: pytorch/img/frontends.png  \n",
            "  inflating: pytorch/img/house-pricing.png  \n",
            "  inflating: pytorch/img/seq2seq-attention.svg  \n",
            "  inflating: pytorch/img/multi-head-attention.svg  \n",
            "  inflating: pytorch/img/data-parallel.svg  \n",
            "  inflating: pytorch/img/rec-neumf.svg  \n",
            "  inflating: pytorch/img/lstm-0.svg  \n",
            "  inflating: pytorch/img/turing.png  \n",
            "  inflating: pytorch/img/beam-search.svg  \n",
            "  inflating: pytorch/img/hi-softmax.svg  \n",
            "  inflating: pytorch/img/nlp-map-pretrain.svg  \n",
            "  inflating: pytorch/img/popvssoda.png  \n",
            "  inflating: pytorch/img/kaggle-submit2.png  \n",
            "  inflating: pytorch/img/polygon-circle.svg  \n",
            "  inflating: pytorch/img/iou.svg     \n",
            "  inflating: pytorch/img/sagemaker.png  \n",
            "  inflating: pytorch/img/vgg.svg     \n",
            "  inflating: pytorch/img/ec2.png     \n",
            "  inflating: pytorch/img/inception-full.svg  \n",
            "  inflating: pytorch/img/anchor-label.svg  \n",
            "  inflating: pytorch/img/par-vec.svg  \n",
            "  inflating: pytorch/img/conv-stride.svg  \n",
            "  inflating: pytorch/img/twogpu.svg  \n",
            "  inflating: pytorch/img/mlp.svg     \n",
            "  inflating: pytorch/img/negSecDer.svg  \n",
            "  inflating: pytorch/img/pikachu.jpg  \n",
            "  inflating: pytorch/img/cat1.jpg    \n",
            "  inflating: pytorch/img/self-attention.svg  \n",
            "  inflating: pytorch/img/a77.svg     \n",
            "  inflating: pytorch/img/neon128.svg  \n",
            "  inflating: pytorch/img/finetune.svg  \n",
            "  inflating: pytorch/img/chmod.png   \n",
            "  inflating: pytorch/img/where-wally-walker-books.jpg  \n",
            "  inflating: pytorch/img/cnn-rnn-self-attention.svg  \n",
            "  inflating: pytorch/img/segmentation.svg  \n",
            "  inflating: pytorch/img/kaggle.png  \n",
            "  inflating: pytorch/img/nin.svg     \n",
            "  inflating: pytorch/img/jupyter06.png  \n",
            "  inflating: pytorch/img/Marginal.svg  \n",
            "  inflating: pytorch/img/wattvsprice.svg  \n",
            "  inflating: pytorch/img/alexnet.svg  \n",
            "  inflating: pytorch/img/waldo-mask.jpg  \n",
            "  inflating: pytorch/img/ubuntu-new.png  \n",
            "  inflating: pytorch/img/truncated-bptt.svg  \n",
            "  inflating: pytorch/img/rec-seq-data.svg  \n",
            "  inflating: pytorch/img/ps-multips.svg  \n",
            "  inflating: pytorch/img/birnn.svg   \n",
            "  inflating: pytorch/img/seq2seq-details.svg  \n",
            "  inflating: pytorch/img/r-cnn.svg   \n",
            "  inflating: pytorch/img/convex-intersect.svg  \n",
            "  inflating: pytorch/img/supervised-learning.svg  \n",
            "  inflating: pytorch/img/jupyter01.png  \n",
            "  inflating: pytorch/img/attention.svg  \n",
            "  inflating: pytorch/img/nlp-map-nli-attention.svg  \n",
            "  inflating: pytorch/img/rnn-train.svg  \n",
            "  inflating: pytorch/img/resnet-block.svg  \n",
            "  inflating: pytorch/img/bert-two-seqs.svg  \n",
            "  inflating: pytorch/img/conv1d-channel.svg  \n",
            "  inflating: pytorch/img/sagemaker-stop.png  \n",
            "  inflating: pytorch/img/gru-3.svg   \n",
            "  inflating: pytorch/img/sagemaker-open.png  \n",
            "  inflating: pytorch/img/alexnet-original.svg  \n",
            "  inflating: pytorch/img/softmaxreg.svg  \n",
            "  inflating: pytorch/img/ringsync.svg  \n",
            "  inflating: pytorch/img/jupyter00.png  \n",
            "  inflating: pytorch/img/conv-1x1.svg  \n",
            "  inflating: pytorch/img/rec-intro.svg  \n",
            "  inflating: pytorch/img/sequence-model.svg  \n",
            "  inflating: pytorch/img/singleneuron.svg  \n",
            "  inflating: pytorch/img/ps.svg      \n",
            "  inflating: pytorch/img/asyncgraph.svg  \n",
            "  inflating: pytorch/img/jupyter02.png  \n",
            "  inflating: pytorch/img/frontends.svg  \n",
            "  inflating: pytorch/img/jupyter03.png  \n",
            "  inflating: pytorch/img/cuda101.png  \n",
            "  inflating: pytorch/img/bert-input.svg  \n",
            "  inflating: pytorch/img/colab-2.png  \n",
            "  inflating: pytorch/img/faster-rcnn.svg  \n",
            "  inflating: pytorch/img/resnet18.svg  \n",
            "  inflating: pytorch/img/gru-2.svg   \n",
            "  inflating: pytorch/img/turing-processing-block.png  \n",
            "  inflating: pytorch/img/trans-conv.svg  \n",
            "  inflating: pytorch/img/rec-caser.svg  \n",
            "  inflating: pytorch/img/neural-style.svg  \n",
            "  inflating: pytorch/img/cbow.svg    \n",
            "  inflating: pytorch/img/rec-ranking.svg  \n",
            "  inflating: pytorch/img/dog1.jpg    \n",
            "  inflating: pytorch/img/roi.svg     \n",
            "  inflating: pytorch/img/lstm-3.svg  \n",
            "  inflating: pytorch/img/style-transfer.svg  \n",
            "  inflating: pytorch/img/bert-one-seq.svg  \n",
            "  inflating: pytorch/img/vec-angle.svg  \n",
            "  inflating: pytorch/img/edit-file.png  \n",
            "  inflating: pytorch/img/posSecDer.svg  \n",
            "  inflating: pytorch/img/death-cap.jpg  \n",
            "  inflating: pytorch/img/aws.png     \n",
            "  inflating: pytorch/img/lenet.svg   \n",
            "  inflating: pytorch/img/ssd.svg     \n",
            "  inflating: pytorch/img/neural-style.jpg  \n",
            "  inflating: pytorch/img/ftse100.png  \n",
            "  inflating: pytorch/img/cat-dog-train.svg  \n",
            "  inflating: pytorch/img/rainier.jpg  \n",
            "  inflating: pytorch/img/filters.png  \n",
            "  inflating: pytorch/img/densenet-block.svg  \n",
            "  inflating: pytorch/img/bw-hierarchy.svg  \n",
            "  inflating: pytorch/img/sagemaker-jupyter.png  \n",
            "  inflating: pytorch/img/ps-distributed.svg  \n",
            "  inflating: pytorch/img/lenet-vert.svg  \n",
            "  inflating: pytorch/img/git-createpr.png  \n",
            "  inflating: pytorch/img/disk.png    \n",
            "  inflating: pytorch/img/rect-trans.svg  \n",
            "  inflating: pytorch/img/jupyter05.png  \n",
            "  inflating: pytorch/img/conv1d-2d.svg  \n",
            "  inflating: pytorch/img/cat-dog-pixels.png  \n",
            "  inflating: pytorch/img/conv1d.svg  \n",
            "  inflating: pytorch/img/nlp-map-app.svg  \n",
            "  inflating: pytorch/img/deep-rnn.svg  \n",
            "  inflating: pytorch/img/kaggle-dog.jpg  \n",
            "  inflating: pytorch/img/neuron.svg  \n",
            "  inflating: pytorch/img/data-collection.svg  \n",
            "  inflating: pytorch/img/rl-environment.svg  \n",
            "  inflating: pytorch/img/qkv.svg     \n",
            "  inflating: pytorch/img/jupyter04.png  \n",
            "  inflating: pytorch/img/cat-dog-test.svg  \n",
            "  inflating: pytorch/img/deeplearning-amazon.jpg  \n",
            "  inflating: pytorch/img/miniconda.png  \n",
            "  inflating: pytorch/img/grid-points.svg  \n",
            "  inflating: pytorch/img/contribute.svg  \n",
            "  inflating: pytorch/img/git-forked.png  \n",
            "  inflating: pytorch/img/limits.png  \n",
            "  inflating: pytorch/img/gan.svg     \n",
            "  inflating: pytorch/img/seq2seq.svg  \n",
            "  inflating: pytorch/img/nvlink-twoloop.svg  \n",
            "  inflating: pytorch/img/nlp-map-sa-cnn.svg  \n",
            "  inflating: pytorch/img/skylake.svg  \n",
            "  inflating: pytorch/img/jupyter.png  \n",
            "  inflating: pytorch/img/autumn-oak.jpg  \n",
            "  inflating: pytorch/img/fit-linreg.svg  \n",
            "  inflating: pytorch/img/eye-book.png  \n",
            "  inflating: pytorch/img/keypair.png  \n",
            "  inflating: pytorch/img/sagemaker-create-2.png  \n",
            "  inflating: pytorch/img/sagemaker-terminal.png  \n",
            "  inflating: pytorch/img/proj-vec.svg  \n",
            "  inflating: pytorch/img/nvlink.svg  \n",
            "  inflating: pytorch/img/eye-book.svg  \n",
            "  inflating: pytorch/img/sub-area.svg  \n",
            "  inflating: pytorch/img/copyto.svg  \n",
            "  inflating: pytorch/img/threading.svg  \n",
            "   creating: pytorch/chapter_convolutional-neural-networks/\n",
            "  inflating: pytorch/chapter_convolutional-neural-networks/pooling.ipynb  \n",
            "  inflating: pytorch/chapter_convolutional-neural-networks/conv-layer.ipynb  \n",
            "  inflating: pytorch/chapter_convolutional-neural-networks/lenet.ipynb  \n",
            "  inflating: pytorch/chapter_convolutional-neural-networks/padding-and-strides.ipynb  \n",
            "  inflating: pytorch/chapter_convolutional-neural-networks/channels.ipynb  \n",
            " extracting: pytorch/chapter_convolutional-neural-networks/why-conv.ipynb  \n",
            " extracting: pytorch/chapter_convolutional-neural-networks/index.ipynb  \n",
            "  inflating: pytorch/d2l.bib         \n",
            "   creating: pytorch/chapter_attention-mechanisms/\n",
            "  inflating: pytorch/chapter_attention-mechanisms/bahdanau-attention.ipynb  \n",
            "  inflating: pytorch/chapter_attention-mechanisms/attention-scoring-functions.ipynb  \n",
            "  inflating: pytorch/chapter_attention-mechanisms/self-attention-and-positional-encoding.ipynb  \n",
            "  inflating: pytorch/chapter_attention-mechanisms/attention-cues.ipynb  \n",
            "  inflating: pytorch/chapter_attention-mechanisms/multihead-attention.ipynb  \n",
            "  inflating: pytorch/chapter_attention-mechanisms/nadaraya-waston.ipynb  \n",
            " extracting: pytorch/chapter_attention-mechanisms/index.ipynb  \n",
            "  inflating: pytorch/chapter_attention-mechanisms/transformer.ipynb  \n",
            "   creating: pytorch/chapter_installation/\n",
            "  inflating: pytorch/chapter_installation/index.ipynb  \n",
            " extracting: pytorch/TERMINOLOGY.ipynb  \n",
            "   creating: pytorch/chapter_computational-performance/\n",
            " extracting: pytorch/chapter_computational-performance/parameterserver.ipynb  \n",
            "  inflating: pytorch/chapter_computational-performance/auto-parallelism.ipynb  \n",
            "  inflating: pytorch/chapter_computational-performance/async-computation.ipynb  \n",
            "  inflating: pytorch/chapter_computational-performance/multiple-gpus-concise.ipynb  \n",
            "  inflating: pytorch/chapter_computational-performance/hybridize.ipynb  \n",
            "  inflating: pytorch/chapter_computational-performance/my_mlp  \n",
            " extracting: pytorch/chapter_computational-performance/hardware.ipynb  \n",
            "  inflating: pytorch/chapter_computational-performance/multiple-gpus.ipynb  \n",
            " extracting: pytorch/chapter_computational-performance/index.ipynb  \n",
            "   creating: pytorch/chapter_optimization/\n",
            "  inflating: pytorch/chapter_optimization/optimization-intro.ipynb  \n",
            " extracting: pytorch/chapter_optimization/index.ipynb  \n",
            "   creating: pytorch/chapter_recurrent-neural-networks/\n",
            " extracting: pytorch/chapter_recurrent-neural-networks/bptt.ipynb  \n",
            "  inflating: pytorch/chapter_recurrent-neural-networks/rnn.ipynb  \n",
            "  inflating: pytorch/chapter_recurrent-neural-networks/rnn-concise.ipynb  \n",
            "  inflating: pytorch/chapter_recurrent-neural-networks/sequence.ipynb  \n",
            "  inflating: pytorch/chapter_recurrent-neural-networks/language-models-and-dataset.ipynb  \n",
            "  inflating: pytorch/chapter_recurrent-neural-networks/text-preprocessing.ipynb  \n",
            "  inflating: pytorch/chapter_recurrent-neural-networks/rnn-scratch.ipynb  \n",
            " extracting: pytorch/chapter_recurrent-neural-networks/index.ipynb  \n",
            "   creating: pytorch/chapter_recurrent-modern/\n",
            "  inflating: pytorch/chapter_recurrent-modern/encoder-decoder.ipynb  \n",
            "  inflating: pytorch/chapter_recurrent-modern/deep-rnn.ipynb  \n",
            "  inflating: pytorch/chapter_recurrent-modern/gru.ipynb  \n",
            " extracting: pytorch/chapter_recurrent-modern/beam-search.ipynb  \n",
            "  inflating: pytorch/chapter_recurrent-modern/lstm.ipynb  \n",
            "  inflating: pytorch/chapter_recurrent-modern/bi-rnn.ipynb  \n",
            "  inflating: pytorch/chapter_recurrent-modern/machine-translation-and-dataset.ipynb  \n",
            " extracting: pytorch/chapter_recurrent-modern/index.ipynb  \n",
            "  inflating: pytorch/chapter_recurrent-modern/seq2seq.ipynb  \n",
            " extracting: pytorch/index.ipynb     \n",
            "   creating: pytorch/chapter_deep-learning-computation/\n",
            "  inflating: pytorch/chapter_deep-learning-computation/x-files  \n",
            "  inflating: pytorch/chapter_deep-learning-computation/custom-layer.ipynb  \n",
            "  inflating: pytorch/chapter_deep-learning-computation/read-write.ipynb  \n",
            "  inflating: pytorch/chapter_deep-learning-computation/mlp.params  \n",
            "  inflating: pytorch/chapter_deep-learning-computation/x-file  \n",
            "  inflating: pytorch/chapter_deep-learning-computation/model-construction.ipynb  \n",
            " extracting: pytorch/chapter_deep-learning-computation/deferred-init.ipynb  \n",
            "  inflating: pytorch/chapter_deep-learning-computation/parameters.ipynb  \n",
            "  inflating: pytorch/chapter_deep-learning-computation/use-gpu.ipynb  \n",
            "  inflating: pytorch/chapter_deep-learning-computation/mydict  \n",
            " extracting: pytorch/chapter_deep-learning-computation/index.ipynb  \n",
            "   creating: tensorflow/\n",
            "   creating: tensorflow/chapter_linear-networks/\n",
            "  inflating: tensorflow/chapter_linear-networks/image-classification-dataset.ipynb  \n",
            "  inflating: tensorflow/chapter_linear-networks/linear-regression.ipynb  \n",
            "  inflating: tensorflow/chapter_linear-networks/linear-regression-scratch.ipynb  \n",
            "  inflating: tensorflow/chapter_linear-networks/softmax-regression-scratch.ipynb  \n",
            "  inflating: tensorflow/chapter_linear-networks/linear-regression-concise.ipynb  \n",
            "  inflating: tensorflow/chapter_linear-networks/softmax-regression-concise.ipynb  \n",
            " extracting: tensorflow/chapter_linear-networks/softmax-regression.ipynb  \n",
            " extracting: tensorflow/chapter_linear-networks/index.ipynb  \n",
            "   creating: tensorflow/chapter_preface/\n",
            "  inflating: tensorflow/chapter_preface/index.ipynb  \n",
            "   creating: tensorflow/chapter_convolutional-modern/\n",
            "  inflating: tensorflow/chapter_convolutional-modern/densenet.ipynb  \n",
            "  inflating: tensorflow/chapter_convolutional-modern/alexnet.ipynb  \n",
            "  inflating: tensorflow/chapter_convolutional-modern/nin.ipynb  \n",
            "  inflating: tensorflow/chapter_convolutional-modern/batch-norm.ipynb  \n",
            "  inflating: tensorflow/chapter_convolutional-modern/googlenet.ipynb  \n",
            "  inflating: tensorflow/chapter_convolutional-modern/vgg.ipynb  \n",
            " extracting: tensorflow/chapter_convolutional-modern/index.ipynb  \n",
            "  inflating: tensorflow/chapter_convolutional-modern/resnet.ipynb  \n",
            "   creating: tensorflow/chapter_computer-vision/\n",
            " extracting: tensorflow/chapter_computer-vision/kaggle-cifar10.ipynb  \n",
            " extracting: tensorflow/chapter_computer-vision/fine-tuning.ipynb  \n",
            " extracting: tensorflow/chapter_computer-vision/image-augmentation.ipynb  \n",
            " extracting: tensorflow/chapter_computer-vision/kaggle-dog.ipynb  \n",
            " extracting: tensorflow/chapter_computer-vision/index.ipynb  \n",
            " extracting: tensorflow/index_origin.ipynb  \n",
            "   creating: tensorflow/chapter_multilayer-perceptrons/\n",
            "  inflating: tensorflow/chapter_multilayer-perceptrons/numerical-stability-and-init.ipynb  \n",
            "  inflating: tensorflow/chapter_multilayer-perceptrons/underfit-overfit.ipynb  \n",
            "  inflating: tensorflow/chapter_multilayer-perceptrons/submission.csv  \n",
            "  inflating: tensorflow/chapter_multilayer-perceptrons/weight-decay.ipynb  \n",
            " extracting: tensorflow/chapter_multilayer-perceptrons/backprop.ipynb  \n",
            "  inflating: tensorflow/chapter_multilayer-perceptrons/dropout.ipynb  \n",
            "  inflating: tensorflow/chapter_multilayer-perceptrons/kaggle-house-price.ipynb  \n",
            " extracting: tensorflow/chapter_multilayer-perceptrons/environment.ipynb  \n",
            "  inflating: tensorflow/chapter_multilayer-perceptrons/mlp.ipynb  \n",
            "  inflating: tensorflow/chapter_multilayer-perceptrons/mlp-scratch.ipynb  \n",
            "  inflating: tensorflow/chapter_multilayer-perceptrons/mlp-concise.ipynb  \n",
            " extracting: tensorflow/chapter_multilayer-perceptrons/index.ipynb  \n",
            "   creating: tensorflow/chapter_introduction/\n",
            " extracting: tensorflow/chapter_introduction/index.ipynb  \n",
            "   creating: tensorflow/chapter_notation/\n",
            " extracting: tensorflow/chapter_notation/index.ipynb  \n",
            "   creating: tensorflow/chapter_preliminaries/\n",
            "  inflating: tensorflow/chapter_preliminaries/calculus.ipynb  \n",
            "  inflating: tensorflow/chapter_preliminaries/lookup-api.ipynb  \n",
            "  inflating: tensorflow/chapter_preliminaries/autograd.ipynb  \n",
            "  inflating: tensorflow/chapter_preliminaries/linear-algebra.ipynb  \n",
            "  inflating: tensorflow/chapter_preliminaries/pandas.ipynb  \n",
            "  inflating: tensorflow/chapter_preliminaries/probability.ipynb  \n",
            "  inflating: tensorflow/chapter_preliminaries/ndarray.ipynb  \n",
            " extracting: tensorflow/chapter_preliminaries/index.ipynb  \n",
            "   creating: tensorflow/chapter_references/\n",
            " extracting: tensorflow/chapter_references/zreferences.ipynb  \n",
            "  inflating: tensorflow/setup.py     \n",
            "   creating: tensorflow/img/\n",
            "  inflating: tensorflow/img/nli-attention.svg  \n",
            "  inflating: tensorflow/img/Neuron.svg  \n",
            "  inflating: tensorflow/img/blocks.svg  \n",
            "  inflating: tensorflow/img/connect.png  \n",
            "  inflating: tensorflow/img/space-division-3d.svg  \n",
            "  inflating: tensorflow/img/encoder-decoder.svg  \n",
            "  inflating: tensorflow/img/inception.svg  \n",
            "  inflating: tensorflow/img/textcnn.svg  \n",
            "  inflating: tensorflow/img/conv-pad.svg  \n",
            "  inflating: tensorflow/img/forward.svg  \n",
            "  inflating: tensorflow/img/vec-add.svg  \n",
            "  inflating: tensorflow/img/fcn.svg  \n",
            "  inflating: tensorflow/img/bert-qa.svg  \n",
            "  inflating: tensorflow/img/mutual-information.svg  \n",
            "  inflating: tensorflow/img/fast-rcnn.svg  \n",
            "  inflating: tensorflow/img/catdog.jpg  \n",
            "  inflating: tensorflow/img/banana.jpg  \n",
            "  inflating: tensorflow/img/correlation.svg  \n",
            "  inflating: tensorflow/img/rnn-bptt.svg  \n",
            "  inflating: tensorflow/img/functionclasses.svg  \n",
            "  inflating: tensorflow/img/conv-multi-in.svg  \n",
            "  inflating: tensorflow/img/falsesharing.svg  \n",
            "  inflating: tensorflow/img/sagemaker-create-3.png  \n",
            "  inflating: tensorflow/img/capacity-vs-error.svg  \n",
            "  inflating: tensorflow/img/s2s-prob1.svg  \n",
            "  inflating: tensorflow/img/skip-gram.svg  \n",
            "  inflating: tensorflow/img/hmm.svg  \n",
            "  inflating: tensorflow/img/timemachine-5gram.svg  \n",
            "  inflating: tensorflow/img/seq2seq-attention-details.svg  \n",
            "  inflating: tensorflow/img/pacman.svg  \n",
            "  inflating: tensorflow/img/space-division.svg  \n",
            "  inflating: tensorflow/img/launching.png  \n",
            "  inflating: tensorflow/img/colab.png  \n",
            "  inflating: tensorflow/img/densenet.svg  \n",
            "  inflating: tensorflow/img/rec-mf.svg  \n",
            "  inflating: tensorflow/img/zeroSecDer.svg  \n",
            "  inflating: tensorflow/img/koebel.jpg  \n",
            "  inflating: tensorflow/img/s2s-prob2.svg  \n",
            "  inflating: tensorflow/img/nonconvex.svg  \n",
            "  inflating: tensorflow/img/computegraph.svg  \n",
            "  inflating: tensorflow/img/wake-word.svg  \n",
            "  inflating: tensorflow/img/flopsvsprice.svg  \n",
            "  inflating: tensorflow/img/grid-transform-filled.svg  \n",
            "  inflating: tensorflow/img/eye-coffee.svg  \n",
            "  inflating: tensorflow/img/nlp-map-sa-rnn.svg  \n",
            "  inflating: tensorflow/img/dropout2.svg  \n",
            "  inflating: tensorflow/img/transformer.svg  \n",
            "  inflating: tensorflow/img/git-clone.png  \n",
            "  inflating: tensorflow/img/rec-deepfm.svg  \n",
            "  inflating: tensorflow/img/ps-multimachine.svg  \n",
            "  inflating: tensorflow/img/gru-1.svg  \n",
            "  inflating: tensorflow/img/book-org.svg  \n",
            "  inflating: tensorflow/img/attention-output.svg  \n",
            "  inflating: tensorflow/img/chain-net1.svg  \n",
            "  inflating: tensorflow/img/marginal.svg  \n",
            "  inflating: tensorflow/img/lstm-1.svg  \n",
            "  inflating: tensorflow/img/latencynumbers.png  \n",
            "  inflating: tensorflow/img/git-fork.png  \n",
            "  inflating: tensorflow/img/grid-transform.svg  \n",
            "  inflating: tensorflow/img/projections.svg  \n",
            "  inflating: tensorflow/img/nlp-map-nli-bert.svg  \n",
            "  inflating: tensorflow/img/seq2seq-predict.svg  \n",
            "  inflating: tensorflow/img/pooling.svg  \n",
            "  inflating: tensorflow/img/mask-rcnn.svg  \n",
            "  inflating: tensorflow/img/kaggle-cifar10.png  \n",
            "  inflating: tensorflow/img/elmo-gpt-bert.svg  \n",
            "   creating: tensorflow/img/frontpage/\n",
            "  inflating: tensorflow/img/frontpage/jd-190715-zh.png  \n",
            "  inflating: tensorflow/img/frontpage/jd-190715-en.png  \n",
            "  inflating: tensorflow/img/rnn.svg  \n",
            "  inflating: tensorflow/img/cat2.jpg  \n",
            "  inflating: tensorflow/img/sum-order.svg  \n",
            "  inflating: tensorflow/img/dog2.jpg  \n",
            "  inflating: tensorflow/img/ml-loop.svg  \n",
            "  inflating: tensorflow/img/statistical-significance.svg  \n",
            "  inflating: tensorflow/img/bert-tagging.svg  \n",
            "  inflating: tensorflow/img/mobo-symbol.svg  \n",
            "  inflating: tensorflow/img/lstm-2.svg  \n",
            "  inflating: tensorflow/img/chain-net2.svg  \n",
            "  inflating: tensorflow/img/git-newpr.png  \n",
            "  inflating: tensorflow/img/splitting.svg  \n",
            "  inflating: tensorflow/img/stackedanimals.png  \n",
            "  inflating: tensorflow/img/eye-coffee.png  \n",
            "  inflating: tensorflow/img/speech.png  \n",
            "  inflating: tensorflow/img/residual-block.svg  \n",
            "  inflating: tensorflow/img/tensorcore.jpg  \n",
            "  inflating: tensorflow/img/cat3.jpg  \n",
            "  inflating: tensorflow/img/p2x.png  \n",
            "  inflating: tensorflow/img/sagemaker-create.png  \n",
            "  inflating: tensorflow/img/frontends.png  \n",
            "  inflating: tensorflow/img/house-pricing.png  \n",
            "  inflating: tensorflow/img/seq2seq-attention.svg  \n",
            "  inflating: tensorflow/img/multi-head-attention.svg  \n",
            "  inflating: tensorflow/img/data-parallel.svg  \n",
            "  inflating: tensorflow/img/rec-neumf.svg  \n",
            "  inflating: tensorflow/img/lstm-0.svg  \n",
            "  inflating: tensorflow/img/turing.png  \n",
            "  inflating: tensorflow/img/beam-search.svg  \n",
            "  inflating: tensorflow/img/hi-softmax.svg  \n",
            "  inflating: tensorflow/img/nlp-map-pretrain.svg  \n",
            "  inflating: tensorflow/img/popvssoda.png  \n",
            "  inflating: tensorflow/img/kaggle-submit2.png  \n",
            "  inflating: tensorflow/img/polygon-circle.svg  \n",
            "  inflating: tensorflow/img/iou.svg  \n",
            "  inflating: tensorflow/img/sagemaker.png  \n",
            "  inflating: tensorflow/img/vgg.svg  \n",
            "  inflating: tensorflow/img/ec2.png  \n",
            "  inflating: tensorflow/img/inception-full.svg  \n",
            "  inflating: tensorflow/img/anchor-label.svg  \n",
            "  inflating: tensorflow/img/par-vec.svg  \n",
            "  inflating: tensorflow/img/conv-stride.svg  \n",
            "  inflating: tensorflow/img/twogpu.svg  \n",
            "  inflating: tensorflow/img/mlp.svg  \n",
            "  inflating: tensorflow/img/negSecDer.svg  \n",
            "  inflating: tensorflow/img/pikachu.jpg  \n",
            "  inflating: tensorflow/img/cat1.jpg  \n",
            "  inflating: tensorflow/img/self-attention.svg  \n",
            "  inflating: tensorflow/img/a77.svg  \n",
            "  inflating: tensorflow/img/neon128.svg  \n",
            "  inflating: tensorflow/img/finetune.svg  \n",
            "  inflating: tensorflow/img/chmod.png  \n",
            "  inflating: tensorflow/img/where-wally-walker-books.jpg  \n",
            "  inflating: tensorflow/img/cnn-rnn-self-attention.svg  \n",
            "  inflating: tensorflow/img/segmentation.svg  \n",
            "  inflating: tensorflow/img/kaggle.png  \n",
            "  inflating: tensorflow/img/nin.svg  \n",
            "  inflating: tensorflow/img/jupyter06.png  \n",
            "  inflating: tensorflow/img/Marginal.svg  \n",
            "  inflating: tensorflow/img/wattvsprice.svg  \n",
            "  inflating: tensorflow/img/alexnet.svg  \n",
            "  inflating: tensorflow/img/waldo-mask.jpg  \n",
            "  inflating: tensorflow/img/ubuntu-new.png  \n",
            "  inflating: tensorflow/img/truncated-bptt.svg  \n",
            "  inflating: tensorflow/img/rec-seq-data.svg  \n",
            "  inflating: tensorflow/img/ps-multips.svg  \n",
            "  inflating: tensorflow/img/birnn.svg  \n",
            "  inflating: tensorflow/img/seq2seq-details.svg  \n",
            "  inflating: tensorflow/img/r-cnn.svg  \n",
            "  inflating: tensorflow/img/convex-intersect.svg  \n",
            "  inflating: tensorflow/img/supervised-learning.svg  \n",
            "  inflating: tensorflow/img/jupyter01.png  \n",
            "  inflating: tensorflow/img/attention.svg  \n",
            "  inflating: tensorflow/img/nlp-map-nli-attention.svg  \n",
            "  inflating: tensorflow/img/rnn-train.svg  \n",
            "  inflating: tensorflow/img/resnet-block.svg  \n",
            "  inflating: tensorflow/img/bert-two-seqs.svg  \n",
            "  inflating: tensorflow/img/conv1d-channel.svg  \n",
            "  inflating: tensorflow/img/sagemaker-stop.png  \n",
            "  inflating: tensorflow/img/gru-3.svg  \n",
            "  inflating: tensorflow/img/sagemaker-open.png  \n",
            "  inflating: tensorflow/img/alexnet-original.svg  \n",
            "  inflating: tensorflow/img/softmaxreg.svg  \n",
            "  inflating: tensorflow/img/ringsync.svg  \n",
            "  inflating: tensorflow/img/jupyter00.png  \n",
            "  inflating: tensorflow/img/conv-1x1.svg  \n",
            "  inflating: tensorflow/img/rec-intro.svg  \n",
            "  inflating: tensorflow/img/sequence-model.svg  \n",
            "  inflating: tensorflow/img/singleneuron.svg  \n",
            "  inflating: tensorflow/img/ps.svg   \n",
            "  inflating: tensorflow/img/asyncgraph.svg  \n",
            "  inflating: tensorflow/img/jupyter02.png  \n",
            "  inflating: tensorflow/img/frontends.svg  \n",
            "  inflating: tensorflow/img/jupyter03.png  \n",
            "  inflating: tensorflow/img/cuda101.png  \n",
            "  inflating: tensorflow/img/bert-input.svg  \n",
            "  inflating: tensorflow/img/colab-2.png  \n",
            "  inflating: tensorflow/img/faster-rcnn.svg  \n",
            "  inflating: tensorflow/img/resnet18.svg  \n",
            "  inflating: tensorflow/img/gru-2.svg  \n",
            "  inflating: tensorflow/img/turing-processing-block.png  \n",
            "  inflating: tensorflow/img/trans-conv.svg  \n",
            "  inflating: tensorflow/img/rec-caser.svg  \n",
            "  inflating: tensorflow/img/neural-style.svg  \n",
            "  inflating: tensorflow/img/cbow.svg  \n",
            "  inflating: tensorflow/img/rec-ranking.svg  \n",
            "  inflating: tensorflow/img/dog1.jpg  \n",
            "  inflating: tensorflow/img/roi.svg  \n",
            "  inflating: tensorflow/img/lstm-3.svg  \n",
            "  inflating: tensorflow/img/style-transfer.svg  \n",
            "  inflating: tensorflow/img/bert-one-seq.svg  \n",
            "  inflating: tensorflow/img/vec-angle.svg  \n",
            "  inflating: tensorflow/img/edit-file.png  \n",
            "  inflating: tensorflow/img/posSecDer.svg  \n",
            "  inflating: tensorflow/img/death-cap.jpg  \n",
            "  inflating: tensorflow/img/aws.png  \n",
            "  inflating: tensorflow/img/lenet.svg  \n",
            "  inflating: tensorflow/img/ssd.svg  \n",
            "  inflating: tensorflow/img/neural-style.jpg  \n",
            "  inflating: tensorflow/img/ftse100.png  \n",
            "  inflating: tensorflow/img/cat-dog-train.svg  \n",
            "  inflating: tensorflow/img/rainier.jpg  \n",
            "  inflating: tensorflow/img/filters.png  \n",
            "  inflating: tensorflow/img/densenet-block.svg  \n",
            "  inflating: tensorflow/img/bw-hierarchy.svg  \n",
            "  inflating: tensorflow/img/sagemaker-jupyter.png  \n",
            "  inflating: tensorflow/img/ps-distributed.svg  \n",
            "  inflating: tensorflow/img/lenet-vert.svg  \n",
            "  inflating: tensorflow/img/git-createpr.png  \n",
            "  inflating: tensorflow/img/disk.png  \n",
            "  inflating: tensorflow/img/rect-trans.svg  \n",
            "  inflating: tensorflow/img/jupyter05.png  \n",
            "  inflating: tensorflow/img/conv1d-2d.svg  \n",
            "  inflating: tensorflow/img/cat-dog-pixels.png  \n",
            "  inflating: tensorflow/img/conv1d.svg  \n",
            "  inflating: tensorflow/img/nlp-map-app.svg  \n",
            "  inflating: tensorflow/img/deep-rnn.svg  \n",
            "  inflating: tensorflow/img/kaggle-dog.jpg  \n",
            "  inflating: tensorflow/img/neuron.svg  \n",
            "  inflating: tensorflow/img/data-collection.svg  \n",
            "  inflating: tensorflow/img/rl-environment.svg  \n",
            "  inflating: tensorflow/img/qkv.svg  \n",
            "  inflating: tensorflow/img/jupyter04.png  \n",
            "  inflating: tensorflow/img/cat-dog-test.svg  \n",
            "  inflating: tensorflow/img/deeplearning-amazon.jpg  \n",
            "  inflating: tensorflow/img/miniconda.png  \n",
            "  inflating: tensorflow/img/grid-points.svg  \n",
            "  inflating: tensorflow/img/contribute.svg  \n",
            "  inflating: tensorflow/img/git-forked.png  \n",
            "  inflating: tensorflow/img/limits.png  \n",
            "  inflating: tensorflow/img/gan.svg  \n",
            "  inflating: tensorflow/img/seq2seq.svg  \n",
            "  inflating: tensorflow/img/nvlink-twoloop.svg  \n",
            "  inflating: tensorflow/img/nlp-map-sa-cnn.svg  \n",
            "  inflating: tensorflow/img/skylake.svg  \n",
            "  inflating: tensorflow/img/jupyter.png  \n",
            "  inflating: tensorflow/img/autumn-oak.jpg  \n",
            "  inflating: tensorflow/img/fit-linreg.svg  \n",
            "  inflating: tensorflow/img/eye-book.png  \n",
            "  inflating: tensorflow/img/keypair.png  \n",
            "  inflating: tensorflow/img/sagemaker-create-2.png  \n",
            "  inflating: tensorflow/img/sagemaker-terminal.png  \n",
            "  inflating: tensorflow/img/proj-vec.svg  \n",
            "  inflating: tensorflow/img/nvlink.svg  \n",
            "  inflating: tensorflow/img/eye-book.svg  \n",
            "  inflating: tensorflow/img/sub-area.svg  \n",
            "  inflating: tensorflow/img/copyto.svg  \n",
            "  inflating: tensorflow/img/threading.svg  \n",
            "   creating: tensorflow/chapter_convolutional-neural-networks/\n",
            "  inflating: tensorflow/chapter_convolutional-neural-networks/pooling.ipynb  \n",
            "  inflating: tensorflow/chapter_convolutional-neural-networks/conv-layer.ipynb  \n",
            "  inflating: tensorflow/chapter_convolutional-neural-networks/lenet.ipynb  \n",
            "  inflating: tensorflow/chapter_convolutional-neural-networks/padding-and-strides.ipynb  \n",
            "  inflating: tensorflow/chapter_convolutional-neural-networks/channels.ipynb  \n",
            " extracting: tensorflow/chapter_convolutional-neural-networks/why-conv.ipynb  \n",
            " extracting: tensorflow/chapter_convolutional-neural-networks/index.ipynb  \n",
            "  inflating: tensorflow/d2l.bib      \n",
            "   creating: tensorflow/chapter_attention-mechanisms/\n",
            " extracting: tensorflow/chapter_attention-mechanisms/bahdanau-attention.ipynb  \n",
            " extracting: tensorflow/chapter_attention-mechanisms/attention-scoring-functions.ipynb  \n",
            " extracting: tensorflow/chapter_attention-mechanisms/self-attention-and-positional-encoding.ipynb  \n",
            "  inflating: tensorflow/chapter_attention-mechanisms/attention-cues.ipynb  \n",
            " extracting: tensorflow/chapter_attention-mechanisms/multihead-attention.ipynb  \n",
            " extracting: tensorflow/chapter_attention-mechanisms/nadaraya-waston.ipynb  \n",
            " extracting: tensorflow/chapter_attention-mechanisms/index.ipynb  \n",
            " extracting: tensorflow/chapter_attention-mechanisms/transformer.ipynb  \n",
            "   creating: tensorflow/chapter_installation/\n",
            "  inflating: tensorflow/chapter_installation/index.ipynb  \n",
            " extracting: tensorflow/TERMINOLOGY.ipynb  \n",
            "   creating: tensorflow/chapter_computational-performance/\n",
            " extracting: tensorflow/chapter_computational-performance/parameterserver.ipynb  \n",
            " extracting: tensorflow/chapter_computational-performance/auto-parallelism.ipynb  \n",
            " extracting: tensorflow/chapter_computational-performance/async-computation.ipynb  \n",
            " extracting: tensorflow/chapter_computational-performance/multiple-gpus-concise.ipynb  \n",
            "  inflating: tensorflow/chapter_computational-performance/hybridize.ipynb  \n",
            "   creating: tensorflow/chapter_computational-performance/my_mlp/\n",
            "  inflating: tensorflow/chapter_computational-performance/my_mlp/saved_model.pb  \n",
            "   creating: tensorflow/chapter_computational-performance/my_mlp/assets/\n",
            "   creating: tensorflow/chapter_computational-performance/my_mlp/variables/\n",
            "  inflating: tensorflow/chapter_computational-performance/my_mlp/variables/variables.data-00000-of-00001  \n",
            "  inflating: tensorflow/chapter_computational-performance/my_mlp/variables/variables.index  \n",
            " extracting: tensorflow/chapter_computational-performance/hardware.ipynb  \n",
            " extracting: tensorflow/chapter_computational-performance/multiple-gpus.ipynb  \n",
            " extracting: tensorflow/chapter_computational-performance/index.ipynb  \n",
            "   creating: tensorflow/chapter_optimization/\n",
            "  inflating: tensorflow/chapter_optimization/optimization-intro.ipynb  \n",
            " extracting: tensorflow/chapter_optimization/index.ipynb  \n",
            "   creating: tensorflow/chapter_recurrent-neural-networks/\n",
            " extracting: tensorflow/chapter_recurrent-neural-networks/bptt.ipynb  \n",
            "  inflating: tensorflow/chapter_recurrent-neural-networks/rnn.ipynb  \n",
            " extracting: tensorflow/chapter_recurrent-neural-networks/rnn-concise.ipynb  \n",
            "  inflating: tensorflow/chapter_recurrent-neural-networks/sequence.ipynb  \n",
            "  inflating: tensorflow/chapter_recurrent-neural-networks/language-models-and-dataset.ipynb  \n",
            "  inflating: tensorflow/chapter_recurrent-neural-networks/text-preprocessing.ipynb  \n",
            "  inflating: tensorflow/chapter_recurrent-neural-networks/rnn-scratch.ipynb  \n",
            " extracting: tensorflow/chapter_recurrent-neural-networks/index.ipynb  \n",
            "   creating: tensorflow/chapter_recurrent-modern/\n",
            " extracting: tensorflow/chapter_recurrent-modern/encoder-decoder.ipynb  \n",
            " extracting: tensorflow/chapter_recurrent-modern/deep-rnn.ipynb  \n",
            " extracting: tensorflow/chapter_recurrent-modern/gru.ipynb  \n",
            " extracting: tensorflow/chapter_recurrent-modern/beam-search.ipynb  \n",
            " extracting: tensorflow/chapter_recurrent-modern/lstm.ipynb  \n",
            " extracting: tensorflow/chapter_recurrent-modern/bi-rnn.ipynb  \n",
            "  inflating: tensorflow/chapter_recurrent-modern/machine-translation-and-dataset.ipynb  \n",
            " extracting: tensorflow/chapter_recurrent-modern/index.ipynb  \n",
            " extracting: tensorflow/chapter_recurrent-modern/seq2seq.ipynb  \n",
            " extracting: tensorflow/index.ipynb  \n",
            "   creating: tensorflow/chapter_deep-learning-computation/\n",
            "  inflating: tensorflow/chapter_deep-learning-computation/custom-layer.ipynb  \n",
            "  inflating: tensorflow/chapter_deep-learning-computation/read-write.ipynb  \n",
            "  inflating: tensorflow/chapter_deep-learning-computation/mlp.params.index  \n",
            "  inflating: tensorflow/chapter_deep-learning-computation/checkpoint  \n",
            "  inflating: tensorflow/chapter_deep-learning-computation/model-construction.ipynb  \n",
            "  inflating: tensorflow/chapter_deep-learning-computation/xy-files.npy  \n",
            "  inflating: tensorflow/chapter_deep-learning-computation/mydict.npy  \n",
            "  inflating: tensorflow/chapter_deep-learning-computation/mlp.params.data-00000-of-00001  \n",
            "  inflating: tensorflow/chapter_deep-learning-computation/deferred-init.ipynb  \n",
            "  inflating: tensorflow/chapter_deep-learning-computation/parameters.ipynb  \n",
            "  inflating: tensorflow/chapter_deep-learning-computation/use-gpu.ipynb  \n",
            "  inflating: tensorflow/chapter_deep-learning-computation/x-file.npy  \n",
            " extracting: tensorflow/chapter_deep-learning-computation/index.ipynb  \n"
          ],
          "name": "stdout"
        }
      ]
    },
    {
      "cell_type": "code",
      "metadata": {
        "colab": {
          "base_uri": "https://localhost:8080/"
        },
        "id": "FcLwz39aDikL",
        "outputId": "b906c3a1-b8aa-4eea-bd27-2c2f92af12b1"
      },
      "source": [
        "ls"
      ],
      "execution_count": null,
      "outputs": [
        {
          "output_type": "stream",
          "text": [
            "d2l-zh.zip  \u001b[0m\u001b[01;34mmxnet\u001b[0m/  \u001b[01;34mpytorch\u001b[0m/  \u001b[01;34msample_data\u001b[0m/  \u001b[01;34mtensorflow\u001b[0m/\n"
          ],
          "name": "stdout"
        }
      ]
    },
    {
      "cell_type": "code",
      "metadata": {
        "colab": {
          "base_uri": "https://localhost:8080/"
        },
        "id": "Cx5k6d7nDkuz",
        "outputId": "4bb60194-06ce-4bd4-91cc-0292aa2e6df6"
      },
      "source": [
        "cd pytorch"
      ],
      "execution_count": null,
      "outputs": [
        {
          "output_type": "stream",
          "text": [
            "/content/pytorch\n"
          ],
          "name": "stdout"
        }
      ]
    },
    {
      "cell_type": "code",
      "metadata": {
        "colab": {
          "base_uri": "https://localhost:8080/"
        },
        "id": "56Q1oDwPD3tk",
        "outputId": "77b25a4d-d540-4c3b-d0f0-cc4c15987f00"
      },
      "source": [
        "ls"
      ],
      "execution_count": null,
      "outputs": [
        {
          "output_type": "stream",
          "text": [
            "\u001b[0m\u001b[01;34mchapter_attention-mechanisms\u001b[0m/           \u001b[01;34mchapter_preface\u001b[0m/\n",
            "\u001b[01;34mchapter_computational-performance\u001b[0m/      \u001b[01;34mchapter_preliminaries\u001b[0m/\n",
            "\u001b[01;34mchapter_computer-vision\u001b[0m/                \u001b[01;34mchapter_recurrent-modern\u001b[0m/\n",
            "\u001b[01;34mchapter_convolutional-modern\u001b[0m/           \u001b[01;34mchapter_recurrent-neural-networks\u001b[0m/\n",
            "\u001b[01;34mchapter_convolutional-neural-networks\u001b[0m/  \u001b[01;34mchapter_references\u001b[0m/\n",
            "\u001b[01;34mchapter_deep-learning-computation\u001b[0m/      d2l.bib\n",
            "\u001b[01;34mchapter_installation\u001b[0m/                   \u001b[01;34mimg\u001b[0m/\n",
            "\u001b[01;34mchapter_introduction\u001b[0m/                   index.ipynb\n",
            "\u001b[01;34mchapter_linear-networks\u001b[0m/                index_origin.ipynb\n",
            "\u001b[01;34mchapter_multilayer-perceptrons\u001b[0m/         setup.py\n",
            "\u001b[01;34mchapter_notation\u001b[0m/                       TERMINOLOGY.ipynb\n",
            "\u001b[01;34mchapter_optimization\u001b[0m/\n"
          ],
          "name": "stdout"
        }
      ]
    },
    {
      "cell_type": "code",
      "metadata": {
        "colab": {
          "base_uri": "https://localhost:8080/",
          "height": 131
        },
        "id": "x55Ss_D5D5Wt",
        "outputId": "4d387cca-f195-4651-c136-fce932f79346"
      },
      "source": [
        "git clone https://github.com/d2l-ai/d2l-zh-pytorch-slides"
      ],
      "execution_count": null,
      "outputs": [
        {
          "output_type": "error",
          "ename": "SyntaxError",
          "evalue": "ignored",
          "traceback": [
            "\u001b[0;36m  File \u001b[0;32m\"<ipython-input-11-7d52ed698ad2>\"\u001b[0;36m, line \u001b[0;32m1\u001b[0m\n\u001b[0;31m    git clone https://github.com/d2l-ai/d2l-zh-pytorch-slides\u001b[0m\n\u001b[0m            ^\u001b[0m\n\u001b[0;31mSyntaxError\u001b[0m\u001b[0;31m:\u001b[0m invalid syntax\n"
          ]
        }
      ]
    },
    {
      "cell_type": "code",
      "metadata": {
        "colab": {
          "base_uri": "https://localhost:8080/"
        },
        "id": "xKtyZw6zE7KT",
        "outputId": "57172fee-c568-4432-f34a-9b32abb04029"
      },
      "source": [
        "!git clone https://github.com/d2l-ai/d2l-zh-pytorch-slides"
      ],
      "execution_count": null,
      "outputs": [
        {
          "output_type": "stream",
          "text": [
            "Cloning into 'd2l-zh-pytorch-slides'...\n",
            "remote: Enumerating objects: 2505, done.\u001b[K\n",
            "remote: Counting objects: 100% (313/313), done.\u001b[K\n",
            "remote: Compressing objects: 100% (230/230), done.\u001b[K\n",
            "remote: Total 2505 (delta 166), reused 154 (delta 83), pack-reused 2192\u001b[K\n",
            "Receiving objects: 100% (2505/2505), 3.81 MiB | 17.73 MiB/s, done.\n",
            "Resolving deltas: 100% (1830/1830), done.\n"
          ],
          "name": "stdout"
        }
      ]
    },
    {
      "cell_type": "code",
      "metadata": {
        "colab": {
          "base_uri": "https://localhost:8080/",
          "height": 131
        },
        "id": "Oq9XVrWpE9Wp",
        "outputId": "8fa36399-60a3-46fd-f947-b00d426cae32"
      },
      "source": [
        "from google.colab import drive\n",
        "drive mount '/content/drive'"
      ],
      "execution_count": null,
      "outputs": [
        {
          "output_type": "error",
          "ename": "SyntaxError",
          "evalue": "ignored",
          "traceback": [
            "\u001b[0;36m  File \u001b[0;32m\"<ipython-input-1-1173acf89210>\"\u001b[0;36m, line \u001b[0;32m2\u001b[0m\n\u001b[0;31m    drive mount '/content/drive'\u001b[0m\n\u001b[0m              ^\u001b[0m\n\u001b[0;31mSyntaxError\u001b[0m\u001b[0;31m:\u001b[0m invalid syntax\n"
          ]
        }
      ]
    },
    {
      "cell_type": "code",
      "metadata": {
        "colab": {
          "base_uri": "https://localhost:8080/",
          "height": 131
        },
        "id": "tGI2lpudGLon",
        "outputId": "02e687d1-ed49-48b5-cf6b-68fe0715efa3"
      },
      "source": [
        "from google.colab import drive\n",
        "drive.mount /content/drive'"
      ],
      "execution_count": null,
      "outputs": [
        {
          "output_type": "error",
          "ename": "SyntaxError",
          "evalue": "ignored",
          "traceback": [
            "\u001b[0;36m  File \u001b[0;32m\"<ipython-input-2-414511ef040a>\"\u001b[0;36m, line \u001b[0;32m2\u001b[0m\n\u001b[0;31m    drive.mount '/content/drive'\u001b[0m\n\u001b[0m                               ^\u001b[0m\n\u001b[0;31mSyntaxError\u001b[0m\u001b[0;31m:\u001b[0m invalid syntax\n"
          ]
        }
      ]
    },
    {
      "cell_type": "code",
      "metadata": {
        "colab": {
          "base_uri": "https://localhost:8080/"
        },
        "id": "CYnFbfZjGShH",
        "outputId": "5b4a2677-17fc-40b5-f8a9-9899ca3b02df"
      },
      "source": [
        "from google.colab import drive\n",
        "drive.mount ('/content/drive')"
      ],
      "execution_count": null,
      "outputs": [
        {
          "output_type": "stream",
          "text": [
            "Mounted at /content/drive\n"
          ],
          "name": "stdout"
        }
      ]
    },
    {
      "cell_type": "code",
      "metadata": {
        "colab": {
          "base_uri": "https://localhost:8080/"
        },
        "id": "K-QlggqiGmhp",
        "outputId": "43289b69-21b4-479d-f821-cb7919cc7b86"
      },
      "source": [
        "!sudo apt install d2l"
      ],
      "execution_count": null,
      "outputs": [
        {
          "output_type": "stream",
          "text": [
            "Reading package lists... Done\n",
            "Building dependency tree       \n",
            "Reading state information... Done\n",
            "E: Unable to locate package d2l\n"
          ],
          "name": "stdout"
        }
      ]
    },
    {
      "cell_type": "code",
      "metadata": {
        "colab": {
          "base_uri": "https://localhost:8080/"
        },
        "id": "EqXoxnE1GrFz",
        "outputId": "0d181f02-9bd6-4705-d0c7-b762f2efd56f"
      },
      "source": [
        "!pip install d2l"
      ],
      "execution_count": null,
      "outputs": [
        {
          "output_type": "stream",
          "text": [
            "Collecting d2l\n",
            "\u001b[?25l  Downloading https://files.pythonhosted.org/packages/f4/e9/89f71389acf3cc4231d7e51839a9f093ea0078d93c44988f8ade9f6d44e5/d2l-0.16.4-py3-none-any.whl (77kB)\n",
            "\r\u001b[K     |████▎                           | 10kB 16.3MB/s eta 0:00:01\r\u001b[K     |████████▌                       | 20kB 22.0MB/s eta 0:00:01\r\u001b[K     |████████████▊                   | 30kB 13.8MB/s eta 0:00:01\r\u001b[K     |█████████████████               | 40kB 10.7MB/s eta 0:00:01\r\u001b[K     |█████████████████████▏          | 51kB 7.1MB/s eta 0:00:01\r\u001b[K     |█████████████████████████▍      | 61kB 7.1MB/s eta 0:00:01\r\u001b[K     |█████████████████████████████▋  | 71kB 7.7MB/s eta 0:00:01\r\u001b[K     |████████████████████████████████| 81kB 4.9MB/s \n",
            "\u001b[?25hRequirement already satisfied: pandas in /usr/local/lib/python3.7/dist-packages (from d2l) (1.1.5)\n",
            "Requirement already satisfied: jupyter in /usr/local/lib/python3.7/dist-packages (from d2l) (1.0.0)\n",
            "Requirement already satisfied: matplotlib in /usr/local/lib/python3.7/dist-packages (from d2l) (3.2.2)\n",
            "Requirement already satisfied: requests in /usr/local/lib/python3.7/dist-packages (from d2l) (2.23.0)\n",
            "Requirement already satisfied: numpy in /usr/local/lib/python3.7/dist-packages (from d2l) (1.19.5)\n",
            "Requirement already satisfied: python-dateutil>=2.7.3 in /usr/local/lib/python3.7/dist-packages (from pandas->d2l) (2.8.1)\n",
            "Requirement already satisfied: pytz>=2017.2 in /usr/local/lib/python3.7/dist-packages (from pandas->d2l) (2018.9)\n",
            "Requirement already satisfied: ipykernel in /usr/local/lib/python3.7/dist-packages (from jupyter->d2l) (4.10.1)\n",
            "Requirement already satisfied: notebook in /usr/local/lib/python3.7/dist-packages (from jupyter->d2l) (5.3.1)\n",
            "Requirement already satisfied: jupyter-console in /usr/local/lib/python3.7/dist-packages (from jupyter->d2l) (5.2.0)\n",
            "Requirement already satisfied: nbconvert in /usr/local/lib/python3.7/dist-packages (from jupyter->d2l) (5.6.1)\n",
            "Requirement already satisfied: qtconsole in /usr/local/lib/python3.7/dist-packages (from jupyter->d2l) (5.1.0)\n",
            "Requirement already satisfied: ipywidgets in /usr/local/lib/python3.7/dist-packages (from jupyter->d2l) (7.6.3)\n",
            "Requirement already satisfied: cycler>=0.10 in /usr/local/lib/python3.7/dist-packages (from matplotlib->d2l) (0.10.0)\n",
            "Requirement already satisfied: pyparsing!=2.0.4,!=2.1.2,!=2.1.6,>=2.0.1 in /usr/local/lib/python3.7/dist-packages (from matplotlib->d2l) (2.4.7)\n",
            "Requirement already satisfied: kiwisolver>=1.0.1 in /usr/local/lib/python3.7/dist-packages (from matplotlib->d2l) (1.3.1)\n",
            "Requirement already satisfied: chardet<4,>=3.0.2 in /usr/local/lib/python3.7/dist-packages (from requests->d2l) (3.0.4)\n",
            "Requirement already satisfied: idna<3,>=2.5 in /usr/local/lib/python3.7/dist-packages (from requests->d2l) (2.10)\n",
            "Requirement already satisfied: certifi>=2017.4.17 in /usr/local/lib/python3.7/dist-packages (from requests->d2l) (2020.12.5)\n",
            "Requirement already satisfied: urllib3!=1.25.0,!=1.25.1,<1.26,>=1.21.1 in /usr/local/lib/python3.7/dist-packages (from requests->d2l) (1.24.3)\n",
            "Requirement already satisfied: six>=1.5 in /usr/local/lib/python3.7/dist-packages (from python-dateutil>=2.7.3->pandas->d2l) (1.15.0)\n",
            "Requirement already satisfied: tornado>=4.0 in /usr/local/lib/python3.7/dist-packages (from ipykernel->jupyter->d2l) (5.1.1)\n",
            "Requirement already satisfied: ipython>=4.0.0 in /usr/local/lib/python3.7/dist-packages (from ipykernel->jupyter->d2l) (5.5.0)\n",
            "Requirement already satisfied: jupyter-client in /usr/local/lib/python3.7/dist-packages (from ipykernel->jupyter->d2l) (5.3.5)\n",
            "Requirement already satisfied: traitlets>=4.1.0 in /usr/local/lib/python3.7/dist-packages (from ipykernel->jupyter->d2l) (5.0.5)\n",
            "Requirement already satisfied: nbformat in /usr/local/lib/python3.7/dist-packages (from notebook->jupyter->d2l) (5.1.3)\n",
            "Requirement already satisfied: Send2Trash in /usr/local/lib/python3.7/dist-packages (from notebook->jupyter->d2l) (1.5.0)\n",
            "Requirement already satisfied: jinja2 in /usr/local/lib/python3.7/dist-packages (from notebook->jupyter->d2l) (2.11.3)\n",
            "Requirement already satisfied: ipython-genutils in /usr/local/lib/python3.7/dist-packages (from notebook->jupyter->d2l) (0.2.0)\n",
            "Requirement already satisfied: jupyter-core>=4.4.0 in /usr/local/lib/python3.7/dist-packages (from notebook->jupyter->d2l) (4.7.1)\n",
            "Requirement already satisfied: terminado>=0.8.1 in /usr/local/lib/python3.7/dist-packages (from notebook->jupyter->d2l) (0.10.0)\n",
            "Requirement already satisfied: pygments in /usr/local/lib/python3.7/dist-packages (from jupyter-console->jupyter->d2l) (2.6.1)\n",
            "Requirement already satisfied: prompt-toolkit<2.0.0,>=1.0.0 in /usr/local/lib/python3.7/dist-packages (from jupyter-console->jupyter->d2l) (1.0.18)\n",
            "Requirement already satisfied: mistune<2,>=0.8.1 in /usr/local/lib/python3.7/dist-packages (from nbconvert->jupyter->d2l) (0.8.4)\n",
            "Requirement already satisfied: bleach in /usr/local/lib/python3.7/dist-packages (from nbconvert->jupyter->d2l) (3.3.0)\n",
            "Requirement already satisfied: pandocfilters>=1.4.1 in /usr/local/lib/python3.7/dist-packages (from nbconvert->jupyter->d2l) (1.4.3)\n",
            "Requirement already satisfied: entrypoints>=0.2.2 in /usr/local/lib/python3.7/dist-packages (from nbconvert->jupyter->d2l) (0.3)\n",
            "Requirement already satisfied: testpath in /usr/local/lib/python3.7/dist-packages (from nbconvert->jupyter->d2l) (0.5.0)\n",
            "Requirement already satisfied: defusedxml in /usr/local/lib/python3.7/dist-packages (from nbconvert->jupyter->d2l) (0.7.1)\n",
            "Requirement already satisfied: qtpy in /usr/local/lib/python3.7/dist-packages (from qtconsole->jupyter->d2l) (1.9.0)\n",
            "Requirement already satisfied: pyzmq>=17.1 in /usr/local/lib/python3.7/dist-packages (from qtconsole->jupyter->d2l) (22.0.3)\n",
            "Requirement already satisfied: widgetsnbextension~=3.5.0 in /usr/local/lib/python3.7/dist-packages (from ipywidgets->jupyter->d2l) (3.5.1)\n",
            "Requirement already satisfied: jupyterlab-widgets>=1.0.0; python_version >= \"3.6\" in /usr/local/lib/python3.7/dist-packages (from ipywidgets->jupyter->d2l) (1.0.0)\n",
            "Requirement already satisfied: setuptools>=18.5 in /usr/local/lib/python3.7/dist-packages (from ipython>=4.0.0->ipykernel->jupyter->d2l) (56.1.0)\n",
            "Requirement already satisfied: decorator in /usr/local/lib/python3.7/dist-packages (from ipython>=4.0.0->ipykernel->jupyter->d2l) (4.4.2)\n",
            "Requirement already satisfied: simplegeneric>0.8 in /usr/local/lib/python3.7/dist-packages (from ipython>=4.0.0->ipykernel->jupyter->d2l) (0.8.1)\n",
            "Requirement already satisfied: pexpect; sys_platform != \"win32\" in /usr/local/lib/python3.7/dist-packages (from ipython>=4.0.0->ipykernel->jupyter->d2l) (4.8.0)\n",
            "Requirement already satisfied: pickleshare in /usr/local/lib/python3.7/dist-packages (from ipython>=4.0.0->ipykernel->jupyter->d2l) (0.7.5)\n",
            "Requirement already satisfied: jsonschema!=2.5.0,>=2.4 in /usr/local/lib/python3.7/dist-packages (from nbformat->notebook->jupyter->d2l) (2.6.0)\n",
            "Requirement already satisfied: MarkupSafe>=0.23 in /usr/local/lib/python3.7/dist-packages (from jinja2->notebook->jupyter->d2l) (2.0.1)\n",
            "Requirement already satisfied: ptyprocess; os_name != \"nt\" in /usr/local/lib/python3.7/dist-packages (from terminado>=0.8.1->notebook->jupyter->d2l) (0.7.0)\n",
            "Requirement already satisfied: wcwidth in /usr/local/lib/python3.7/dist-packages (from prompt-toolkit<2.0.0,>=1.0.0->jupyter-console->jupyter->d2l) (0.2.5)\n",
            "Requirement already satisfied: webencodings in /usr/local/lib/python3.7/dist-packages (from bleach->nbconvert->jupyter->d2l) (0.5.1)\n",
            "Requirement already satisfied: packaging in /usr/local/lib/python3.7/dist-packages (from bleach->nbconvert->jupyter->d2l) (20.9)\n",
            "Installing collected packages: d2l\n",
            "Successfully installed d2l-0.16.4\n"
          ],
          "name": "stdout"
        }
      ]
    },
    {
      "cell_type": "code",
      "metadata": {
        "colab": {
          "base_uri": "https://localhost:8080/"
        },
        "id": "iAJsCl15GyrZ",
        "outputId": "2fb975b6-9a3c-40b8-cbee-34251d306979"
      },
      "source": [
        "!wget https://zh-v2.d2l.ai/d2l-zh.zip"
      ],
      "execution_count": null,
      "outputs": [
        {
          "output_type": "stream",
          "text": [
            "--2021-05-31 06:28:01--  https://zh-v2.d2l.ai/d2l-zh.zip\n",
            "Resolving zh-v2.d2l.ai (zh-v2.d2l.ai)... 13.224.7.23, 13.224.7.32, 13.224.7.87, ...\n",
            "Connecting to zh-v2.d2l.ai (zh-v2.d2l.ai)|13.224.7.23|:443... connected.\n",
            "HTTP request sent, awaiting response... 200 OK\n",
            "Length: 85467180 (82M) [application/zip]\n",
            "Saving to: ‘d2l-zh.zip’\n",
            "\n",
            "d2l-zh.zip          100%[===================>]  81.51M   144MB/s    in 0.6s    \n",
            "\n",
            "2021-05-31 06:28:01 (144 MB/s) - ‘d2l-zh.zip’ saved [85467180/85467180]\n",
            "\n"
          ],
          "name": "stdout"
        }
      ]
    },
    {
      "cell_type": "code",
      "metadata": {
        "colab": {
          "base_uri": "https://localhost:8080/"
        },
        "id": "0TO9igV8G5SI",
        "outputId": "035777c1-e9af-483d-b9d7-517762d97fb3"
      },
      "source": [
        "ls"
      ],
      "execution_count": null,
      "outputs": [
        {
          "output_type": "stream",
          "text": [
            "d2l-zh.zip  \u001b[0m\u001b[01;34mdrive\u001b[0m/  \u001b[01;34msample_data\u001b[0m/\n"
          ],
          "name": "stdout"
        }
      ]
    },
    {
      "cell_type": "code",
      "metadata": {
        "colab": {
          "base_uri": "https://localhost:8080/",
          "height": 131
        },
        "id": "CmExwMlhG7Eg",
        "outputId": "76583487-0f17-48f6-eaa9-f6aae2d0db10"
      },
      "source": [
        "unzip d2l-zh.zip"
      ],
      "execution_count": null,
      "outputs": [
        {
          "output_type": "error",
          "ename": "SyntaxError",
          "evalue": "ignored",
          "traceback": [
            "\u001b[0;36m  File \u001b[0;32m\"<ipython-input-8-fefd4f2fb848>\"\u001b[0;36m, line \u001b[0;32m1\u001b[0m\n\u001b[0;31m    unzip d2l-zh.zip\u001b[0m\n\u001b[0m            ^\u001b[0m\n\u001b[0;31mSyntaxError\u001b[0m\u001b[0;31m:\u001b[0m invalid syntax\n"
          ]
        }
      ]
    },
    {
      "cell_type": "code",
      "metadata": {
        "colab": {
          "base_uri": "https://localhost:8080/"
        },
        "id": "cpJS8yNqG9fe",
        "outputId": "c23d72d6-711e-407b-aa94-2f1c7153e5f4"
      },
      "source": [
        "!unzip d2l-zh.zip"
      ],
      "execution_count": null,
      "outputs": [
        {
          "output_type": "stream",
          "text": [
            "Archive:  d2l-zh.zip\n",
            "   creating: mxnet/\n",
            "   creating: mxnet/chapter_linear-networks/\n",
            "  inflating: mxnet/chapter_linear-networks/image-classification-dataset.ipynb  \n",
            "  inflating: mxnet/chapter_linear-networks/linear-regression.ipynb  \n",
            "  inflating: mxnet/chapter_linear-networks/linear-regression-scratch.ipynb  \n",
            "  inflating: mxnet/chapter_linear-networks/softmax-regression-scratch.ipynb  \n",
            "  inflating: mxnet/chapter_linear-networks/linear-regression-concise.ipynb  \n",
            "  inflating: mxnet/chapter_linear-networks/softmax-regression-concise.ipynb  \n",
            "  inflating: mxnet/chapter_linear-networks/softmax-regression.ipynb  \n",
            "  inflating: mxnet/chapter_linear-networks/index.ipynb  \n",
            "   creating: mxnet/chapter_preface/\n",
            "  inflating: mxnet/chapter_preface/index.ipynb  \n",
            "   creating: mxnet/chapter_convolutional-modern/\n",
            "  inflating: mxnet/chapter_convolutional-modern/densenet.ipynb  \n",
            "  inflating: mxnet/chapter_convolutional-modern/alexnet.ipynb  \n",
            "  inflating: mxnet/chapter_convolutional-modern/nin.ipynb  \n",
            "  inflating: mxnet/chapter_convolutional-modern/batch-norm.ipynb  \n",
            "  inflating: mxnet/chapter_convolutional-modern/googlenet.ipynb  \n",
            "  inflating: mxnet/chapter_convolutional-modern/vgg.ipynb  \n",
            "  inflating: mxnet/chapter_convolutional-modern/index.ipynb  \n",
            "  inflating: mxnet/chapter_convolutional-modern/resnet.ipynb  \n",
            "   creating: mxnet/chapter_computer-vision/\n",
            "  inflating: mxnet/chapter_computer-vision/submission.csv  \n",
            "  inflating: mxnet/chapter_computer-vision/kaggle-cifar10.ipynb  \n",
            "  inflating: mxnet/chapter_computer-vision/fine-tuning.ipynb  \n",
            "  inflating: mxnet/chapter_computer-vision/image-augmentation.ipynb  \n",
            "  inflating: mxnet/chapter_computer-vision/kaggle-dog.ipynb  \n",
            "  inflating: mxnet/chapter_computer-vision/index.ipynb  \n",
            "  inflating: mxnet/index_origin.ipynb  \n",
            "   creating: mxnet/chapter_multilayer-perceptrons/\n",
            "  inflating: mxnet/chapter_multilayer-perceptrons/numerical-stability-and-init.ipynb  \n",
            "  inflating: mxnet/chapter_multilayer-perceptrons/underfit-overfit.ipynb  \n",
            "  inflating: mxnet/chapter_multilayer-perceptrons/submission.csv  \n",
            "  inflating: mxnet/chapter_multilayer-perceptrons/weight-decay.ipynb  \n",
            "  inflating: mxnet/chapter_multilayer-perceptrons/backprop.ipynb  \n",
            "  inflating: mxnet/chapter_multilayer-perceptrons/dropout.ipynb  \n",
            "  inflating: mxnet/chapter_multilayer-perceptrons/kaggle-house-price.ipynb  \n",
            "  inflating: mxnet/chapter_multilayer-perceptrons/environment.ipynb  \n",
            "  inflating: mxnet/chapter_multilayer-perceptrons/mlp.ipynb  \n",
            "  inflating: mxnet/chapter_multilayer-perceptrons/mlp-scratch.ipynb  \n",
            "  inflating: mxnet/chapter_multilayer-perceptrons/mlp-concise.ipynb  \n",
            "  inflating: mxnet/chapter_multilayer-perceptrons/index.ipynb  \n",
            "   creating: mxnet/chapter_introduction/\n",
            "  inflating: mxnet/chapter_introduction/index.ipynb  \n",
            "   creating: mxnet/chapter_notation/\n",
            "  inflating: mxnet/chapter_notation/index.ipynb  \n",
            "   creating: mxnet/chapter_preliminaries/\n",
            "  inflating: mxnet/chapter_preliminaries/calculus.ipynb  \n",
            "  inflating: mxnet/chapter_preliminaries/lookup-api.ipynb  \n",
            "  inflating: mxnet/chapter_preliminaries/autograd.ipynb  \n",
            "  inflating: mxnet/chapter_preliminaries/linear-algebra.ipynb  \n",
            "  inflating: mxnet/chapter_preliminaries/pandas.ipynb  \n",
            "  inflating: mxnet/chapter_preliminaries/probability.ipynb  \n",
            "  inflating: mxnet/chapter_preliminaries/ndarray.ipynb  \n",
            "  inflating: mxnet/chapter_preliminaries/index.ipynb  \n",
            "   creating: mxnet/chapter_references/\n",
            "  inflating: mxnet/chapter_references/zreferences.ipynb  \n",
            "  inflating: mxnet/setup.py          \n",
            "   creating: mxnet/img/\n",
            "  inflating: mxnet/img/nli-attention.svg  \n",
            "  inflating: mxnet/img/Neuron.svg    \n",
            "  inflating: mxnet/img/blocks.svg    \n",
            "  inflating: mxnet/img/connect.png   \n",
            "  inflating: mxnet/img/space-division-3d.svg  \n",
            "  inflating: mxnet/img/encoder-decoder.svg  \n",
            "  inflating: mxnet/img/inception.svg  \n",
            "  inflating: mxnet/img/textcnn.svg   \n",
            "  inflating: mxnet/img/conv-pad.svg  \n",
            "  inflating: mxnet/img/forward.svg   \n",
            "  inflating: mxnet/img/vec-add.svg   \n",
            "  inflating: mxnet/img/fcn.svg       \n",
            "  inflating: mxnet/img/bert-qa.svg   \n",
            "  inflating: mxnet/img/mutual-information.svg  \n",
            "  inflating: mxnet/img/fast-rcnn.svg  \n",
            "  inflating: mxnet/img/catdog.jpg    \n",
            "  inflating: mxnet/img/banana.jpg    \n",
            "  inflating: mxnet/img/correlation.svg  \n",
            "  inflating: mxnet/img/rnn-bptt.svg  \n",
            "  inflating: mxnet/img/functionclasses.svg  \n",
            "  inflating: mxnet/img/conv-multi-in.svg  \n",
            "  inflating: mxnet/img/falsesharing.svg  \n",
            "  inflating: mxnet/img/sagemaker-create-3.png  \n",
            "  inflating: mxnet/img/capacity-vs-error.svg  \n",
            "  inflating: mxnet/img/s2s-prob1.svg  \n",
            "  inflating: mxnet/img/skip-gram.svg  \n",
            "  inflating: mxnet/img/hmm.svg       \n",
            "  inflating: mxnet/img/timemachine-5gram.svg  \n",
            "  inflating: mxnet/img/seq2seq-attention-details.svg  \n",
            "  inflating: mxnet/img/pacman.svg    \n",
            "  inflating: mxnet/img/space-division.svg  \n",
            "  inflating: mxnet/img/launching.png  \n",
            "  inflating: mxnet/img/colab.png     \n",
            "  inflating: mxnet/img/densenet.svg  \n",
            "  inflating: mxnet/img/rec-mf.svg    \n",
            "  inflating: mxnet/img/zeroSecDer.svg  \n",
            "  inflating: mxnet/img/koebel.jpg    \n",
            "  inflating: mxnet/img/s2s-prob2.svg  \n",
            "  inflating: mxnet/img/nonconvex.svg  \n",
            "  inflating: mxnet/img/computegraph.svg  \n",
            "  inflating: mxnet/img/wake-word.svg  \n",
            "  inflating: mxnet/img/flopsvsprice.svg  \n",
            "  inflating: mxnet/img/grid-transform-filled.svg  \n",
            "  inflating: mxnet/img/eye-coffee.svg  \n",
            "  inflating: mxnet/img/nlp-map-sa-rnn.svg  \n",
            "  inflating: mxnet/img/dropout2.svg  \n",
            "  inflating: mxnet/img/transformer.svg  \n",
            "  inflating: mxnet/img/git-clone.png  \n",
            "  inflating: mxnet/img/rec-deepfm.svg  \n",
            "  inflating: mxnet/img/ps-multimachine.svg  \n",
            "  inflating: mxnet/img/gru-1.svg     \n",
            "  inflating: mxnet/img/book-org.svg  \n",
            "  inflating: mxnet/img/attention-output.svg  \n",
            "  inflating: mxnet/img/chain-net1.svg  \n",
            "  inflating: mxnet/img/marginal.svg  \n",
            "  inflating: mxnet/img/lstm-1.svg    \n",
            "  inflating: mxnet/img/latencynumbers.png  \n",
            "  inflating: mxnet/img/git-fork.png  \n",
            "  inflating: mxnet/img/grid-transform.svg  \n",
            "  inflating: mxnet/img/projections.svg  \n",
            "  inflating: mxnet/img/nlp-map-nli-bert.svg  \n",
            "  inflating: mxnet/img/seq2seq-predict.svg  \n",
            "  inflating: mxnet/img/pooling.svg   \n",
            "  inflating: mxnet/img/mask-rcnn.svg  \n",
            "  inflating: mxnet/img/kaggle-cifar10.png  \n",
            "  inflating: mxnet/img/elmo-gpt-bert.svg  \n",
            "   creating: mxnet/img/frontpage/\n",
            "  inflating: mxnet/img/frontpage/jd-190715-zh.png  \n",
            "  inflating: mxnet/img/frontpage/jd-190715-en.png  \n",
            "  inflating: mxnet/img/rnn.svg       \n",
            "  inflating: mxnet/img/cat2.jpg      \n",
            "  inflating: mxnet/img/sum-order.svg  \n",
            "  inflating: mxnet/img/dog2.jpg      \n",
            "  inflating: mxnet/img/ml-loop.svg   \n",
            "  inflating: mxnet/img/statistical-significance.svg  \n",
            "  inflating: mxnet/img/bert-tagging.svg  \n",
            "  inflating: mxnet/img/mobo-symbol.svg  \n",
            "  inflating: mxnet/img/lstm-2.svg    \n",
            "  inflating: mxnet/img/chain-net2.svg  \n",
            "  inflating: mxnet/img/git-newpr.png  \n",
            "  inflating: mxnet/img/splitting.svg  \n",
            "  inflating: mxnet/img/stackedanimals.png  \n",
            "  inflating: mxnet/img/eye-coffee.png  \n",
            "  inflating: mxnet/img/speech.png    \n",
            "  inflating: mxnet/img/residual-block.svg  \n",
            "  inflating: mxnet/img/tensorcore.jpg  \n",
            "  inflating: mxnet/img/cat3.jpg      \n",
            "  inflating: mxnet/img/p2x.png       \n",
            "  inflating: mxnet/img/sagemaker-create.png  \n",
            "  inflating: mxnet/img/frontends.png  \n",
            "  inflating: mxnet/img/house-pricing.png  \n",
            "  inflating: mxnet/img/seq2seq-attention.svg  \n",
            "  inflating: mxnet/img/multi-head-attention.svg  \n",
            "  inflating: mxnet/img/data-parallel.svg  \n",
            "  inflating: mxnet/img/rec-neumf.svg  \n",
            "  inflating: mxnet/img/lstm-0.svg    \n",
            "  inflating: mxnet/img/turing.png    \n",
            "  inflating: mxnet/img/beam-search.svg  \n",
            "  inflating: mxnet/img/hi-softmax.svg  \n",
            "  inflating: mxnet/img/nlp-map-pretrain.svg  \n",
            "  inflating: mxnet/img/popvssoda.png  \n",
            "  inflating: mxnet/img/kaggle-submit2.png  \n",
            "  inflating: mxnet/img/polygon-circle.svg  \n",
            "  inflating: mxnet/img/iou.svg       \n",
            "  inflating: mxnet/img/sagemaker.png  \n",
            "  inflating: mxnet/img/vgg.svg       \n",
            "  inflating: mxnet/img/ec2.png       \n",
            "  inflating: mxnet/img/inception-full.svg  \n",
            "  inflating: mxnet/img/anchor-label.svg  \n",
            "  inflating: mxnet/img/par-vec.svg   \n",
            "  inflating: mxnet/img/conv-stride.svg  \n",
            "  inflating: mxnet/img/twogpu.svg    \n",
            "  inflating: mxnet/img/mlp.svg       \n",
            "  inflating: mxnet/img/negSecDer.svg  \n",
            "  inflating: mxnet/img/pikachu.jpg   \n",
            "  inflating: mxnet/img/cat1.jpg      \n",
            "  inflating: mxnet/img/self-attention.svg  \n",
            "  inflating: mxnet/img/a77.svg       \n",
            "  inflating: mxnet/img/neon128.svg   \n",
            "  inflating: mxnet/img/finetune.svg  \n",
            "  inflating: mxnet/img/chmod.png     \n",
            "  inflating: mxnet/img/where-wally-walker-books.jpg  \n",
            "  inflating: mxnet/img/cnn-rnn-self-attention.svg  \n",
            "  inflating: mxnet/img/segmentation.svg  \n",
            "  inflating: mxnet/img/kaggle.png    \n",
            "  inflating: mxnet/img/nin.svg       \n",
            "  inflating: mxnet/img/jupyter06.png  \n",
            "  inflating: mxnet/img/Marginal.svg  \n",
            "  inflating: mxnet/img/wattvsprice.svg  \n",
            "  inflating: mxnet/img/alexnet.svg   \n",
            "  inflating: mxnet/img/waldo-mask.jpg  \n",
            "  inflating: mxnet/img/ubuntu-new.png  \n",
            "  inflating: mxnet/img/truncated-bptt.svg  \n",
            "  inflating: mxnet/img/rec-seq-data.svg  \n",
            "  inflating: mxnet/img/ps-multips.svg  \n",
            "  inflating: mxnet/img/birnn.svg     \n",
            "  inflating: mxnet/img/seq2seq-details.svg  \n",
            "  inflating: mxnet/img/r-cnn.svg     \n",
            "  inflating: mxnet/img/convex-intersect.svg  \n",
            "  inflating: mxnet/img/supervised-learning.svg  \n",
            "  inflating: mxnet/img/jupyter01.png  \n",
            "  inflating: mxnet/img/attention.svg  \n",
            "  inflating: mxnet/img/nlp-map-nli-attention.svg  \n",
            "  inflating: mxnet/img/rnn-train.svg  \n",
            "  inflating: mxnet/img/resnet-block.svg  \n",
            "  inflating: mxnet/img/bert-two-seqs.svg  \n",
            "  inflating: mxnet/img/conv1d-channel.svg  \n",
            "  inflating: mxnet/img/sagemaker-stop.png  \n",
            "  inflating: mxnet/img/gru-3.svg     \n",
            "  inflating: mxnet/img/sagemaker-open.png  \n",
            "  inflating: mxnet/img/alexnet-original.svg  \n",
            "  inflating: mxnet/img/softmaxreg.svg  \n",
            "  inflating: mxnet/img/ringsync.svg  \n",
            "  inflating: mxnet/img/jupyter00.png  \n",
            "  inflating: mxnet/img/conv-1x1.svg  \n",
            "  inflating: mxnet/img/rec-intro.svg  \n",
            "  inflating: mxnet/img/sequence-model.svg  \n",
            "  inflating: mxnet/img/singleneuron.svg  \n",
            "  inflating: mxnet/img/ps.svg        \n",
            "  inflating: mxnet/img/asyncgraph.svg  \n",
            "  inflating: mxnet/img/jupyter02.png  \n",
            "  inflating: mxnet/img/frontends.svg  \n",
            "  inflating: mxnet/img/jupyter03.png  \n",
            "  inflating: mxnet/img/cuda101.png   \n",
            "  inflating: mxnet/img/bert-input.svg  \n",
            "  inflating: mxnet/img/colab-2.png   \n",
            "  inflating: mxnet/img/faster-rcnn.svg  \n",
            "  inflating: mxnet/img/resnet18.svg  \n",
            "  inflating: mxnet/img/gru-2.svg     \n",
            "  inflating: mxnet/img/turing-processing-block.png  \n",
            "  inflating: mxnet/img/trans-conv.svg  \n",
            "  inflating: mxnet/img/rec-caser.svg  \n",
            "  inflating: mxnet/img/neural-style.svg  \n",
            "  inflating: mxnet/img/cbow.svg      \n",
            "  inflating: mxnet/img/rec-ranking.svg  \n",
            "  inflating: mxnet/img/dog1.jpg      \n",
            "  inflating: mxnet/img/roi.svg       \n",
            "  inflating: mxnet/img/lstm-3.svg    \n",
            "  inflating: mxnet/img/style-transfer.svg  \n",
            "  inflating: mxnet/img/bert-one-seq.svg  \n",
            "  inflating: mxnet/img/vec-angle.svg  \n",
            "  inflating: mxnet/img/edit-file.png  \n",
            "  inflating: mxnet/img/posSecDer.svg  \n",
            "  inflating: mxnet/img/death-cap.jpg  \n",
            "  inflating: mxnet/img/aws.png       \n",
            "  inflating: mxnet/img/lenet.svg     \n",
            "  inflating: mxnet/img/ssd.svg       \n",
            "  inflating: mxnet/img/neural-style.jpg  \n",
            "  inflating: mxnet/img/ftse100.png   \n",
            "  inflating: mxnet/img/cat-dog-train.svg  \n",
            "  inflating: mxnet/img/rainier.jpg   \n",
            "  inflating: mxnet/img/filters.png   \n",
            "  inflating: mxnet/img/densenet-block.svg  \n",
            "  inflating: mxnet/img/bw-hierarchy.svg  \n",
            "  inflating: mxnet/img/sagemaker-jupyter.png  \n",
            "  inflating: mxnet/img/ps-distributed.svg  \n",
            "  inflating: mxnet/img/lenet-vert.svg  \n",
            "  inflating: mxnet/img/git-createpr.png  \n",
            "  inflating: mxnet/img/disk.png      \n",
            "  inflating: mxnet/img/rect-trans.svg  \n",
            "  inflating: mxnet/img/jupyter05.png  \n",
            "  inflating: mxnet/img/conv1d-2d.svg  \n",
            "  inflating: mxnet/img/cat-dog-pixels.png  \n",
            "  inflating: mxnet/img/conv1d.svg    \n",
            "  inflating: mxnet/img/nlp-map-app.svg  \n",
            "  inflating: mxnet/img/deep-rnn.svg  \n",
            "  inflating: mxnet/img/kaggle-dog.jpg  \n",
            "  inflating: mxnet/img/neuron.svg    \n",
            "  inflating: mxnet/img/data-collection.svg  \n",
            "  inflating: mxnet/img/rl-environment.svg  \n",
            "  inflating: mxnet/img/qkv.svg       \n",
            "  inflating: mxnet/img/jupyter04.png  \n",
            "  inflating: mxnet/img/cat-dog-test.svg  \n",
            "  inflating: mxnet/img/deeplearning-amazon.jpg  \n",
            "  inflating: mxnet/img/miniconda.png  \n",
            "  inflating: mxnet/img/grid-points.svg  \n",
            "  inflating: mxnet/img/contribute.svg  \n",
            "  inflating: mxnet/img/git-forked.png  \n",
            "  inflating: mxnet/img/limits.png    \n",
            "  inflating: mxnet/img/gan.svg       \n",
            "  inflating: mxnet/img/seq2seq.svg   \n",
            "  inflating: mxnet/img/nvlink-twoloop.svg  \n",
            "  inflating: mxnet/img/nlp-map-sa-cnn.svg  \n",
            "  inflating: mxnet/img/skylake.svg   \n",
            "  inflating: mxnet/img/jupyter.png   \n",
            "  inflating: mxnet/img/autumn-oak.jpg  \n",
            "  inflating: mxnet/img/fit-linreg.svg  \n",
            "  inflating: mxnet/img/eye-book.png  \n",
            "  inflating: mxnet/img/keypair.png   \n",
            "  inflating: mxnet/img/sagemaker-create-2.png  \n",
            "  inflating: mxnet/img/sagemaker-terminal.png  \n",
            "  inflating: mxnet/img/proj-vec.svg  \n",
            "  inflating: mxnet/img/nvlink.svg    \n",
            "  inflating: mxnet/img/eye-book.svg  \n",
            "  inflating: mxnet/img/sub-area.svg  \n",
            "  inflating: mxnet/img/copyto.svg    \n",
            "  inflating: mxnet/img/threading.svg  \n",
            "   creating: mxnet/chapter_convolutional-neural-networks/\n",
            "  inflating: mxnet/chapter_convolutional-neural-networks/pooling.ipynb  \n",
            "  inflating: mxnet/chapter_convolutional-neural-networks/conv-layer.ipynb  \n",
            "  inflating: mxnet/chapter_convolutional-neural-networks/lenet.ipynb  \n",
            "  inflating: mxnet/chapter_convolutional-neural-networks/padding-and-strides.ipynb  \n",
            "  inflating: mxnet/chapter_convolutional-neural-networks/channels.ipynb  \n",
            "  inflating: mxnet/chapter_convolutional-neural-networks/why-conv.ipynb  \n",
            "  inflating: mxnet/chapter_convolutional-neural-networks/index.ipynb  \n",
            "  inflating: mxnet/d2l.bib           \n",
            "   creating: mxnet/chapter_attention-mechanisms/\n",
            "  inflating: mxnet/chapter_attention-mechanisms/bahdanau-attention.ipynb  \n",
            "  inflating: mxnet/chapter_attention-mechanisms/attention-scoring-functions.ipynb  \n",
            "  inflating: mxnet/chapter_attention-mechanisms/self-attention-and-positional-encoding.ipynb  \n",
            "  inflating: mxnet/chapter_attention-mechanisms/attention-cues.ipynb  \n",
            "  inflating: mxnet/chapter_attention-mechanisms/multihead-attention.ipynb  \n",
            "  inflating: mxnet/chapter_attention-mechanisms/nadaraya-waston.ipynb  \n",
            "  inflating: mxnet/chapter_attention-mechanisms/index.ipynb  \n",
            "  inflating: mxnet/chapter_attention-mechanisms/transformer.ipynb  \n",
            "   creating: mxnet/chapter_installation/\n",
            "  inflating: mxnet/chapter_installation/index.ipynb  \n",
            "  inflating: mxnet/TERMINOLOGY.ipynb  \n",
            "   creating: mxnet/chapter_computational-performance/\n",
            "  inflating: mxnet/chapter_computational-performance/parameterserver.ipynb  \n",
            "  inflating: mxnet/chapter_computational-performance/auto-parallelism.ipynb  \n",
            "  inflating: mxnet/chapter_computational-performance/async-computation.ipynb  \n",
            "  inflating: mxnet/chapter_computational-performance/multiple-gpus-concise.ipynb  \n",
            "  inflating: mxnet/chapter_computational-performance/hybridize.ipynb  \n",
            "  inflating: mxnet/chapter_computational-performance/hardware.ipynb  \n",
            "  inflating: mxnet/chapter_computational-performance/my_mlp-symbol.json  \n",
            "  inflating: mxnet/chapter_computational-performance/multiple-gpus.ipynb  \n",
            "  inflating: mxnet/chapter_computational-performance/my_mlp-0000.params  \n",
            "  inflating: mxnet/chapter_computational-performance/index.ipynb  \n",
            "   creating: mxnet/chapter_optimization/\n",
            "  inflating: mxnet/chapter_optimization/optimization-intro.ipynb  \n",
            "  inflating: mxnet/chapter_optimization/index.ipynb  \n",
            "   creating: mxnet/chapter_recurrent-neural-networks/\n",
            "  inflating: mxnet/chapter_recurrent-neural-networks/bptt.ipynb  \n",
            "  inflating: mxnet/chapter_recurrent-neural-networks/rnn.ipynb  \n",
            "  inflating: mxnet/chapter_recurrent-neural-networks/rnn-concise.ipynb  \n",
            "  inflating: mxnet/chapter_recurrent-neural-networks/sequence.ipynb  \n",
            "  inflating: mxnet/chapter_recurrent-neural-networks/language-models-and-dataset.ipynb  \n",
            "  inflating: mxnet/chapter_recurrent-neural-networks/text-preprocessing.ipynb  \n",
            "  inflating: mxnet/chapter_recurrent-neural-networks/rnn-scratch.ipynb  \n",
            "  inflating: mxnet/chapter_recurrent-neural-networks/index.ipynb  \n",
            "   creating: mxnet/chapter_recurrent-modern/\n",
            "  inflating: mxnet/chapter_recurrent-modern/encoder-decoder.ipynb  \n",
            "  inflating: mxnet/chapter_recurrent-modern/deep-rnn.ipynb  \n",
            "  inflating: mxnet/chapter_recurrent-modern/gru.ipynb  \n",
            "  inflating: mxnet/chapter_recurrent-modern/beam-search.ipynb  \n",
            "  inflating: mxnet/chapter_recurrent-modern/lstm.ipynb  \n",
            "  inflating: mxnet/chapter_recurrent-modern/bi-rnn.ipynb  \n",
            "  inflating: mxnet/chapter_recurrent-modern/machine-translation-and-dataset.ipynb  \n",
            "  inflating: mxnet/chapter_recurrent-modern/index.ipynb  \n",
            "  inflating: mxnet/chapter_recurrent-modern/seq2seq.ipynb  \n",
            "  inflating: mxnet/index.ipynb       \n",
            "   creating: mxnet/chapter_deep-learning-computation/\n",
            "  inflating: mxnet/chapter_deep-learning-computation/x-files  \n",
            "  inflating: mxnet/chapter_deep-learning-computation/custom-layer.ipynb  \n",
            "  inflating: mxnet/chapter_deep-learning-computation/read-write.ipynb  \n",
            "  inflating: mxnet/chapter_deep-learning-computation/mlp.params  \n",
            "  inflating: mxnet/chapter_deep-learning-computation/x-file  \n",
            "  inflating: mxnet/chapter_deep-learning-computation/model-construction.ipynb  \n",
            "  inflating: mxnet/chapter_deep-learning-computation/deferred-init.ipynb  \n",
            "  inflating: mxnet/chapter_deep-learning-computation/parameters.ipynb  \n",
            "  inflating: mxnet/chapter_deep-learning-computation/use-gpu.ipynb  \n",
            "  inflating: mxnet/chapter_deep-learning-computation/mydict  \n",
            "  inflating: mxnet/chapter_deep-learning-computation/index.ipynb  \n",
            "   creating: pytorch/\n",
            "   creating: pytorch/chapter_linear-networks/\n",
            "  inflating: pytorch/chapter_linear-networks/image-classification-dataset.ipynb  \n",
            "  inflating: pytorch/chapter_linear-networks/linear-regression.ipynb  \n",
            "  inflating: pytorch/chapter_linear-networks/linear-regression-scratch.ipynb  \n",
            "  inflating: pytorch/chapter_linear-networks/softmax-regression-scratch.ipynb  \n",
            "  inflating: pytorch/chapter_linear-networks/linear-regression-concise.ipynb  \n",
            "  inflating: pytorch/chapter_linear-networks/softmax-regression-concise.ipynb  \n",
            " extracting: pytorch/chapter_linear-networks/softmax-regression.ipynb  \n",
            " extracting: pytorch/chapter_linear-networks/index.ipynb  \n",
            "   creating: pytorch/chapter_preface/\n",
            "  inflating: pytorch/chapter_preface/index.ipynb  \n",
            "   creating: pytorch/chapter_convolutional-modern/\n",
            "  inflating: pytorch/chapter_convolutional-modern/densenet.ipynb  \n",
            "  inflating: pytorch/chapter_convolutional-modern/alexnet.ipynb  \n",
            "  inflating: pytorch/chapter_convolutional-modern/nin.ipynb  \n",
            "  inflating: pytorch/chapter_convolutional-modern/batch-norm.ipynb  \n",
            "  inflating: pytorch/chapter_convolutional-modern/googlenet.ipynb  \n",
            "  inflating: pytorch/chapter_convolutional-modern/vgg.ipynb  \n",
            " extracting: pytorch/chapter_convolutional-modern/index.ipynb  \n",
            "  inflating: pytorch/chapter_convolutional-modern/resnet.ipynb  \n",
            "   creating: pytorch/chapter_computer-vision/\n",
            "  inflating: pytorch/chapter_computer-vision/submission.csv  \n",
            "  inflating: pytorch/chapter_computer-vision/kaggle-cifar10.ipynb  \n",
            "  inflating: pytorch/chapter_computer-vision/fine-tuning.ipynb  \n",
            "  inflating: pytorch/chapter_computer-vision/image-augmentation.ipynb  \n",
            "  inflating: pytorch/chapter_computer-vision/kaggle-dog.ipynb  \n",
            " extracting: pytorch/chapter_computer-vision/index.ipynb  \n",
            " extracting: pytorch/index_origin.ipynb  \n",
            "   creating: pytorch/chapter_multilayer-perceptrons/\n",
            "  inflating: pytorch/chapter_multilayer-perceptrons/numerical-stability-and-init.ipynb  \n",
            "  inflating: pytorch/chapter_multilayer-perceptrons/underfit-overfit.ipynb  \n",
            "  inflating: pytorch/chapter_multilayer-perceptrons/submission.csv  \n",
            "  inflating: pytorch/chapter_multilayer-perceptrons/weight-decay.ipynb  \n",
            " extracting: pytorch/chapter_multilayer-perceptrons/backprop.ipynb  \n",
            "  inflating: pytorch/chapter_multilayer-perceptrons/dropout.ipynb  \n",
            "  inflating: pytorch/chapter_multilayer-perceptrons/kaggle-house-price.ipynb  \n",
            " extracting: pytorch/chapter_multilayer-perceptrons/environment.ipynb  \n",
            "  inflating: pytorch/chapter_multilayer-perceptrons/mlp.ipynb  \n",
            "  inflating: pytorch/chapter_multilayer-perceptrons/mlp-scratch.ipynb  \n",
            "  inflating: pytorch/chapter_multilayer-perceptrons/mlp-concise.ipynb  \n",
            " extracting: pytorch/chapter_multilayer-perceptrons/index.ipynb  \n",
            "   creating: pytorch/chapter_introduction/\n",
            " extracting: pytorch/chapter_introduction/index.ipynb  \n",
            "   creating: pytorch/chapter_notation/\n",
            " extracting: pytorch/chapter_notation/index.ipynb  \n",
            "   creating: pytorch/chapter_preliminaries/\n",
            "  inflating: pytorch/chapter_preliminaries/calculus.ipynb  \n",
            "  inflating: pytorch/chapter_preliminaries/lookup-api.ipynb  \n",
            "  inflating: pytorch/chapter_preliminaries/autograd.ipynb  \n",
            "  inflating: pytorch/chapter_preliminaries/linear-algebra.ipynb  \n",
            "  inflating: pytorch/chapter_preliminaries/pandas.ipynb  \n",
            "  inflating: pytorch/chapter_preliminaries/probability.ipynb  \n",
            "  inflating: pytorch/chapter_preliminaries/ndarray.ipynb  \n",
            " extracting: pytorch/chapter_preliminaries/index.ipynb  \n",
            "   creating: pytorch/chapter_references/\n",
            " extracting: pytorch/chapter_references/zreferences.ipynb  \n",
            "  inflating: pytorch/setup.py        \n",
            "   creating: pytorch/img/\n",
            "  inflating: pytorch/img/nli-attention.svg  \n",
            "  inflating: pytorch/img/Neuron.svg  \n",
            "  inflating: pytorch/img/blocks.svg  \n",
            "  inflating: pytorch/img/connect.png  \n",
            "  inflating: pytorch/img/space-division-3d.svg  \n",
            "  inflating: pytorch/img/encoder-decoder.svg  \n",
            "  inflating: pytorch/img/inception.svg  \n",
            "  inflating: pytorch/img/textcnn.svg  \n",
            "  inflating: pytorch/img/conv-pad.svg  \n",
            "  inflating: pytorch/img/forward.svg  \n",
            "  inflating: pytorch/img/vec-add.svg  \n",
            "  inflating: pytorch/img/fcn.svg     \n",
            "  inflating: pytorch/img/bert-qa.svg  \n",
            "  inflating: pytorch/img/mutual-information.svg  \n",
            "  inflating: pytorch/img/fast-rcnn.svg  \n",
            "  inflating: pytorch/img/catdog.jpg  \n",
            "  inflating: pytorch/img/banana.jpg  \n",
            "  inflating: pytorch/img/correlation.svg  \n",
            "  inflating: pytorch/img/rnn-bptt.svg  \n",
            "  inflating: pytorch/img/functionclasses.svg  \n",
            "  inflating: pytorch/img/conv-multi-in.svg  \n",
            "  inflating: pytorch/img/falsesharing.svg  \n",
            "  inflating: pytorch/img/sagemaker-create-3.png  \n",
            "  inflating: pytorch/img/capacity-vs-error.svg  \n",
            "  inflating: pytorch/img/s2s-prob1.svg  \n",
            "  inflating: pytorch/img/skip-gram.svg  \n",
            "  inflating: pytorch/img/hmm.svg     \n",
            "  inflating: pytorch/img/timemachine-5gram.svg  \n",
            "  inflating: pytorch/img/seq2seq-attention-details.svg  \n",
            "  inflating: pytorch/img/pacman.svg  \n",
            "  inflating: pytorch/img/space-division.svg  \n",
            "  inflating: pytorch/img/launching.png  \n",
            "  inflating: pytorch/img/colab.png   \n",
            "  inflating: pytorch/img/densenet.svg  \n",
            "  inflating: pytorch/img/rec-mf.svg  \n",
            "  inflating: pytorch/img/zeroSecDer.svg  \n",
            "  inflating: pytorch/img/koebel.jpg  \n",
            "  inflating: pytorch/img/s2s-prob2.svg  \n",
            "  inflating: pytorch/img/nonconvex.svg  \n",
            "  inflating: pytorch/img/computegraph.svg  \n",
            "  inflating: pytorch/img/wake-word.svg  \n",
            "  inflating: pytorch/img/flopsvsprice.svg  \n",
            "  inflating: pytorch/img/grid-transform-filled.svg  \n",
            "  inflating: pytorch/img/eye-coffee.svg  \n",
            "  inflating: pytorch/img/nlp-map-sa-rnn.svg  \n",
            "  inflating: pytorch/img/dropout2.svg  \n",
            "  inflating: pytorch/img/transformer.svg  \n",
            "  inflating: pytorch/img/git-clone.png  \n",
            "  inflating: pytorch/img/rec-deepfm.svg  \n",
            "  inflating: pytorch/img/ps-multimachine.svg  \n",
            "  inflating: pytorch/img/gru-1.svg   \n",
            "  inflating: pytorch/img/book-org.svg  \n",
            "  inflating: pytorch/img/attention-output.svg  \n",
            "  inflating: pytorch/img/chain-net1.svg  \n",
            "  inflating: pytorch/img/marginal.svg  \n",
            "  inflating: pytorch/img/lstm-1.svg  \n",
            "  inflating: pytorch/img/latencynumbers.png  \n",
            "  inflating: pytorch/img/git-fork.png  \n",
            "  inflating: pytorch/img/grid-transform.svg  \n",
            "  inflating: pytorch/img/projections.svg  \n",
            "  inflating: pytorch/img/nlp-map-nli-bert.svg  \n",
            "  inflating: pytorch/img/seq2seq-predict.svg  \n",
            "  inflating: pytorch/img/pooling.svg  \n",
            "  inflating: pytorch/img/mask-rcnn.svg  \n",
            "  inflating: pytorch/img/kaggle-cifar10.png  \n",
            "  inflating: pytorch/img/elmo-gpt-bert.svg  \n",
            "   creating: pytorch/img/frontpage/\n",
            "  inflating: pytorch/img/frontpage/jd-190715-zh.png  \n",
            "  inflating: pytorch/img/frontpage/jd-190715-en.png  \n",
            "  inflating: pytorch/img/rnn.svg     \n",
            "  inflating: pytorch/img/cat2.jpg    \n",
            "  inflating: pytorch/img/sum-order.svg  \n",
            "  inflating: pytorch/img/dog2.jpg    \n",
            "  inflating: pytorch/img/ml-loop.svg  \n",
            "  inflating: pytorch/img/statistical-significance.svg  \n",
            "  inflating: pytorch/img/bert-tagging.svg  \n",
            "  inflating: pytorch/img/mobo-symbol.svg  \n",
            "  inflating: pytorch/img/lstm-2.svg  \n",
            "  inflating: pytorch/img/chain-net2.svg  \n",
            "  inflating: pytorch/img/git-newpr.png  \n",
            "  inflating: pytorch/img/splitting.svg  \n",
            "  inflating: pytorch/img/stackedanimals.png  \n",
            "  inflating: pytorch/img/eye-coffee.png  \n",
            "  inflating: pytorch/img/speech.png  \n",
            "  inflating: pytorch/img/residual-block.svg  \n",
            "  inflating: pytorch/img/tensorcore.jpg  \n",
            "  inflating: pytorch/img/cat3.jpg    \n",
            "  inflating: pytorch/img/p2x.png     \n",
            "  inflating: pytorch/img/sagemaker-create.png  \n",
            "  inflating: pytorch/img/frontends.png  \n",
            "  inflating: pytorch/img/house-pricing.png  \n",
            "  inflating: pytorch/img/seq2seq-attention.svg  \n",
            "  inflating: pytorch/img/multi-head-attention.svg  \n",
            "  inflating: pytorch/img/data-parallel.svg  \n",
            "  inflating: pytorch/img/rec-neumf.svg  \n",
            "  inflating: pytorch/img/lstm-0.svg  \n",
            "  inflating: pytorch/img/turing.png  \n",
            "  inflating: pytorch/img/beam-search.svg  \n",
            "  inflating: pytorch/img/hi-softmax.svg  \n",
            "  inflating: pytorch/img/nlp-map-pretrain.svg  \n",
            "  inflating: pytorch/img/popvssoda.png  \n",
            "  inflating: pytorch/img/kaggle-submit2.png  \n",
            "  inflating: pytorch/img/polygon-circle.svg  \n",
            "  inflating: pytorch/img/iou.svg     \n",
            "  inflating: pytorch/img/sagemaker.png  \n",
            "  inflating: pytorch/img/vgg.svg     \n",
            "  inflating: pytorch/img/ec2.png     \n",
            "  inflating: pytorch/img/inception-full.svg  \n",
            "  inflating: pytorch/img/anchor-label.svg  \n",
            "  inflating: pytorch/img/par-vec.svg  \n",
            "  inflating: pytorch/img/conv-stride.svg  \n",
            "  inflating: pytorch/img/twogpu.svg  \n",
            "  inflating: pytorch/img/mlp.svg     \n",
            "  inflating: pytorch/img/negSecDer.svg  \n",
            "  inflating: pytorch/img/pikachu.jpg  \n",
            "  inflating: pytorch/img/cat1.jpg    \n",
            "  inflating: pytorch/img/self-attention.svg  \n",
            "  inflating: pytorch/img/a77.svg     \n",
            "  inflating: pytorch/img/neon128.svg  \n",
            "  inflating: pytorch/img/finetune.svg  \n",
            "  inflating: pytorch/img/chmod.png   \n",
            "  inflating: pytorch/img/where-wally-walker-books.jpg  \n",
            "  inflating: pytorch/img/cnn-rnn-self-attention.svg  \n",
            "  inflating: pytorch/img/segmentation.svg  \n",
            "  inflating: pytorch/img/kaggle.png  \n",
            "  inflating: pytorch/img/nin.svg     \n",
            "  inflating: pytorch/img/jupyter06.png  \n",
            "  inflating: pytorch/img/Marginal.svg  \n",
            "  inflating: pytorch/img/wattvsprice.svg  \n",
            "  inflating: pytorch/img/alexnet.svg  \n",
            "  inflating: pytorch/img/waldo-mask.jpg  \n",
            "  inflating: pytorch/img/ubuntu-new.png  \n",
            "  inflating: pytorch/img/truncated-bptt.svg  \n",
            "  inflating: pytorch/img/rec-seq-data.svg  \n",
            "  inflating: pytorch/img/ps-multips.svg  \n",
            "  inflating: pytorch/img/birnn.svg   \n",
            "  inflating: pytorch/img/seq2seq-details.svg  \n",
            "  inflating: pytorch/img/r-cnn.svg   \n",
            "  inflating: pytorch/img/convex-intersect.svg  \n",
            "  inflating: pytorch/img/supervised-learning.svg  \n",
            "  inflating: pytorch/img/jupyter01.png  \n",
            "  inflating: pytorch/img/attention.svg  \n",
            "  inflating: pytorch/img/nlp-map-nli-attention.svg  \n",
            "  inflating: pytorch/img/rnn-train.svg  \n",
            "  inflating: pytorch/img/resnet-block.svg  \n",
            "  inflating: pytorch/img/bert-two-seqs.svg  \n",
            "  inflating: pytorch/img/conv1d-channel.svg  \n",
            "  inflating: pytorch/img/sagemaker-stop.png  \n",
            "  inflating: pytorch/img/gru-3.svg   \n",
            "  inflating: pytorch/img/sagemaker-open.png  \n",
            "  inflating: pytorch/img/alexnet-original.svg  \n",
            "  inflating: pytorch/img/softmaxreg.svg  \n",
            "  inflating: pytorch/img/ringsync.svg  \n",
            "  inflating: pytorch/img/jupyter00.png  \n",
            "  inflating: pytorch/img/conv-1x1.svg  \n",
            "  inflating: pytorch/img/rec-intro.svg  \n",
            "  inflating: pytorch/img/sequence-model.svg  \n",
            "  inflating: pytorch/img/singleneuron.svg  \n",
            "  inflating: pytorch/img/ps.svg      \n",
            "  inflating: pytorch/img/asyncgraph.svg  \n",
            "  inflating: pytorch/img/jupyter02.png  \n",
            "  inflating: pytorch/img/frontends.svg  \n",
            "  inflating: pytorch/img/jupyter03.png  \n",
            "  inflating: pytorch/img/cuda101.png  \n",
            "  inflating: pytorch/img/bert-input.svg  \n",
            "  inflating: pytorch/img/colab-2.png  \n",
            "  inflating: pytorch/img/faster-rcnn.svg  \n",
            "  inflating: pytorch/img/resnet18.svg  \n",
            "  inflating: pytorch/img/gru-2.svg   \n",
            "  inflating: pytorch/img/turing-processing-block.png  \n",
            "  inflating: pytorch/img/trans-conv.svg  \n",
            "  inflating: pytorch/img/rec-caser.svg  \n",
            "  inflating: pytorch/img/neural-style.svg  \n",
            "  inflating: pytorch/img/cbow.svg    \n",
            "  inflating: pytorch/img/rec-ranking.svg  \n",
            "  inflating: pytorch/img/dog1.jpg    \n",
            "  inflating: pytorch/img/roi.svg     \n",
            "  inflating: pytorch/img/lstm-3.svg  \n",
            "  inflating: pytorch/img/style-transfer.svg  \n",
            "  inflating: pytorch/img/bert-one-seq.svg  \n",
            "  inflating: pytorch/img/vec-angle.svg  \n",
            "  inflating: pytorch/img/edit-file.png  \n",
            "  inflating: pytorch/img/posSecDer.svg  \n",
            "  inflating: pytorch/img/death-cap.jpg  \n",
            "  inflating: pytorch/img/aws.png     \n",
            "  inflating: pytorch/img/lenet.svg   \n",
            "  inflating: pytorch/img/ssd.svg     \n",
            "  inflating: pytorch/img/neural-style.jpg  \n",
            "  inflating: pytorch/img/ftse100.png  \n",
            "  inflating: pytorch/img/cat-dog-train.svg  \n",
            "  inflating: pytorch/img/rainier.jpg  \n",
            "  inflating: pytorch/img/filters.png  \n",
            "  inflating: pytorch/img/densenet-block.svg  \n",
            "  inflating: pytorch/img/bw-hierarchy.svg  \n",
            "  inflating: pytorch/img/sagemaker-jupyter.png  \n",
            "  inflating: pytorch/img/ps-distributed.svg  \n",
            "  inflating: pytorch/img/lenet-vert.svg  \n",
            "  inflating: pytorch/img/git-createpr.png  \n",
            "  inflating: pytorch/img/disk.png    \n",
            "  inflating: pytorch/img/rect-trans.svg  \n",
            "  inflating: pytorch/img/jupyter05.png  \n",
            "  inflating: pytorch/img/conv1d-2d.svg  \n",
            "  inflating: pytorch/img/cat-dog-pixels.png  \n",
            "  inflating: pytorch/img/conv1d.svg  \n",
            "  inflating: pytorch/img/nlp-map-app.svg  \n",
            "  inflating: pytorch/img/deep-rnn.svg  \n",
            "  inflating: pytorch/img/kaggle-dog.jpg  \n",
            "  inflating: pytorch/img/neuron.svg  \n",
            "  inflating: pytorch/img/data-collection.svg  \n",
            "  inflating: pytorch/img/rl-environment.svg  \n",
            "  inflating: pytorch/img/qkv.svg     \n",
            "  inflating: pytorch/img/jupyter04.png  \n",
            "  inflating: pytorch/img/cat-dog-test.svg  \n",
            "  inflating: pytorch/img/deeplearning-amazon.jpg  \n",
            "  inflating: pytorch/img/miniconda.png  \n",
            "  inflating: pytorch/img/grid-points.svg  \n",
            "  inflating: pytorch/img/contribute.svg  \n",
            "  inflating: pytorch/img/git-forked.png  \n",
            "  inflating: pytorch/img/limits.png  \n",
            "  inflating: pytorch/img/gan.svg     \n",
            "  inflating: pytorch/img/seq2seq.svg  \n",
            "  inflating: pytorch/img/nvlink-twoloop.svg  \n",
            "  inflating: pytorch/img/nlp-map-sa-cnn.svg  \n",
            "  inflating: pytorch/img/skylake.svg  \n",
            "  inflating: pytorch/img/jupyter.png  \n",
            "  inflating: pytorch/img/autumn-oak.jpg  \n",
            "  inflating: pytorch/img/fit-linreg.svg  \n",
            "  inflating: pytorch/img/eye-book.png  \n",
            "  inflating: pytorch/img/keypair.png  \n",
            "  inflating: pytorch/img/sagemaker-create-2.png  \n",
            "  inflating: pytorch/img/sagemaker-terminal.png  \n",
            "  inflating: pytorch/img/proj-vec.svg  \n",
            "  inflating: pytorch/img/nvlink.svg  \n",
            "  inflating: pytorch/img/eye-book.svg  \n",
            "  inflating: pytorch/img/sub-area.svg  \n",
            "  inflating: pytorch/img/copyto.svg  \n",
            "  inflating: pytorch/img/threading.svg  \n",
            "   creating: pytorch/chapter_convolutional-neural-networks/\n",
            "  inflating: pytorch/chapter_convolutional-neural-networks/pooling.ipynb  \n",
            "  inflating: pytorch/chapter_convolutional-neural-networks/conv-layer.ipynb  \n",
            "  inflating: pytorch/chapter_convolutional-neural-networks/lenet.ipynb  \n",
            "  inflating: pytorch/chapter_convolutional-neural-networks/padding-and-strides.ipynb  \n",
            "  inflating: pytorch/chapter_convolutional-neural-networks/channels.ipynb  \n",
            " extracting: pytorch/chapter_convolutional-neural-networks/why-conv.ipynb  \n",
            " extracting: pytorch/chapter_convolutional-neural-networks/index.ipynb  \n",
            "  inflating: pytorch/d2l.bib         \n",
            "   creating: pytorch/chapter_attention-mechanisms/\n",
            "  inflating: pytorch/chapter_attention-mechanisms/bahdanau-attention.ipynb  \n",
            "  inflating: pytorch/chapter_attention-mechanisms/attention-scoring-functions.ipynb  \n",
            "  inflating: pytorch/chapter_attention-mechanisms/self-attention-and-positional-encoding.ipynb  \n",
            "  inflating: pytorch/chapter_attention-mechanisms/attention-cues.ipynb  \n",
            "  inflating: pytorch/chapter_attention-mechanisms/multihead-attention.ipynb  \n",
            "  inflating: pytorch/chapter_attention-mechanisms/nadaraya-waston.ipynb  \n",
            " extracting: pytorch/chapter_attention-mechanisms/index.ipynb  \n",
            "  inflating: pytorch/chapter_attention-mechanisms/transformer.ipynb  \n",
            "   creating: pytorch/chapter_installation/\n",
            "  inflating: pytorch/chapter_installation/index.ipynb  \n",
            " extracting: pytorch/TERMINOLOGY.ipynb  \n",
            "   creating: pytorch/chapter_computational-performance/\n",
            " extracting: pytorch/chapter_computational-performance/parameterserver.ipynb  \n",
            "  inflating: pytorch/chapter_computational-performance/auto-parallelism.ipynb  \n",
            "  inflating: pytorch/chapter_computational-performance/async-computation.ipynb  \n",
            "  inflating: pytorch/chapter_computational-performance/multiple-gpus-concise.ipynb  \n",
            "  inflating: pytorch/chapter_computational-performance/hybridize.ipynb  \n",
            "  inflating: pytorch/chapter_computational-performance/my_mlp  \n",
            " extracting: pytorch/chapter_computational-performance/hardware.ipynb  \n",
            "  inflating: pytorch/chapter_computational-performance/multiple-gpus.ipynb  \n",
            " extracting: pytorch/chapter_computational-performance/index.ipynb  \n",
            "   creating: pytorch/chapter_optimization/\n",
            "  inflating: pytorch/chapter_optimization/optimization-intro.ipynb  \n",
            " extracting: pytorch/chapter_optimization/index.ipynb  \n",
            "   creating: pytorch/chapter_recurrent-neural-networks/\n",
            " extracting: pytorch/chapter_recurrent-neural-networks/bptt.ipynb  \n",
            "  inflating: pytorch/chapter_recurrent-neural-networks/rnn.ipynb  \n",
            "  inflating: pytorch/chapter_recurrent-neural-networks/rnn-concise.ipynb  \n",
            "  inflating: pytorch/chapter_recurrent-neural-networks/sequence.ipynb  \n",
            "  inflating: pytorch/chapter_recurrent-neural-networks/language-models-and-dataset.ipynb  \n",
            "  inflating: pytorch/chapter_recurrent-neural-networks/text-preprocessing.ipynb  \n",
            "  inflating: pytorch/chapter_recurrent-neural-networks/rnn-scratch.ipynb  \n",
            " extracting: pytorch/chapter_recurrent-neural-networks/index.ipynb  \n",
            "   creating: pytorch/chapter_recurrent-modern/\n",
            "  inflating: pytorch/chapter_recurrent-modern/encoder-decoder.ipynb  \n",
            "  inflating: pytorch/chapter_recurrent-modern/deep-rnn.ipynb  \n",
            "  inflating: pytorch/chapter_recurrent-modern/gru.ipynb  \n",
            " extracting: pytorch/chapter_recurrent-modern/beam-search.ipynb  \n",
            "  inflating: pytorch/chapter_recurrent-modern/lstm.ipynb  \n",
            "  inflating: pytorch/chapter_recurrent-modern/bi-rnn.ipynb  \n",
            "  inflating: pytorch/chapter_recurrent-modern/machine-translation-and-dataset.ipynb  \n",
            " extracting: pytorch/chapter_recurrent-modern/index.ipynb  \n",
            "  inflating: pytorch/chapter_recurrent-modern/seq2seq.ipynb  \n",
            " extracting: pytorch/index.ipynb     \n",
            "   creating: pytorch/chapter_deep-learning-computation/\n",
            "  inflating: pytorch/chapter_deep-learning-computation/x-files  \n",
            "  inflating: pytorch/chapter_deep-learning-computation/custom-layer.ipynb  \n",
            "  inflating: pytorch/chapter_deep-learning-computation/read-write.ipynb  \n",
            "  inflating: pytorch/chapter_deep-learning-computation/mlp.params  \n",
            "  inflating: pytorch/chapter_deep-learning-computation/x-file  \n",
            "  inflating: pytorch/chapter_deep-learning-computation/model-construction.ipynb  \n",
            " extracting: pytorch/chapter_deep-learning-computation/deferred-init.ipynb  \n",
            "  inflating: pytorch/chapter_deep-learning-computation/parameters.ipynb  \n",
            "  inflating: pytorch/chapter_deep-learning-computation/use-gpu.ipynb  \n",
            "  inflating: pytorch/chapter_deep-learning-computation/mydict  \n",
            " extracting: pytorch/chapter_deep-learning-computation/index.ipynb  \n",
            "   creating: tensorflow/\n",
            "   creating: tensorflow/chapter_linear-networks/\n",
            "  inflating: tensorflow/chapter_linear-networks/image-classification-dataset.ipynb  \n",
            "  inflating: tensorflow/chapter_linear-networks/linear-regression.ipynb  \n",
            "  inflating: tensorflow/chapter_linear-networks/linear-regression-scratch.ipynb  \n",
            "  inflating: tensorflow/chapter_linear-networks/softmax-regression-scratch.ipynb  \n",
            "  inflating: tensorflow/chapter_linear-networks/linear-regression-concise.ipynb  \n",
            "  inflating: tensorflow/chapter_linear-networks/softmax-regression-concise.ipynb  \n",
            " extracting: tensorflow/chapter_linear-networks/softmax-regression.ipynb  \n",
            " extracting: tensorflow/chapter_linear-networks/index.ipynb  \n",
            "   creating: tensorflow/chapter_preface/\n",
            "  inflating: tensorflow/chapter_preface/index.ipynb  \n",
            "   creating: tensorflow/chapter_convolutional-modern/\n",
            "  inflating: tensorflow/chapter_convolutional-modern/densenet.ipynb  \n",
            "  inflating: tensorflow/chapter_convolutional-modern/alexnet.ipynb  \n",
            "  inflating: tensorflow/chapter_convolutional-modern/nin.ipynb  \n",
            "  inflating: tensorflow/chapter_convolutional-modern/batch-norm.ipynb  \n",
            "  inflating: tensorflow/chapter_convolutional-modern/googlenet.ipynb  \n",
            "  inflating: tensorflow/chapter_convolutional-modern/vgg.ipynb  \n",
            " extracting: tensorflow/chapter_convolutional-modern/index.ipynb  \n",
            "  inflating: tensorflow/chapter_convolutional-modern/resnet.ipynb  \n",
            "   creating: tensorflow/chapter_computer-vision/\n",
            " extracting: tensorflow/chapter_computer-vision/kaggle-cifar10.ipynb  \n",
            " extracting: tensorflow/chapter_computer-vision/fine-tuning.ipynb  \n",
            " extracting: tensorflow/chapter_computer-vision/image-augmentation.ipynb  \n",
            " extracting: tensorflow/chapter_computer-vision/kaggle-dog.ipynb  \n",
            " extracting: tensorflow/chapter_computer-vision/index.ipynb  \n",
            " extracting: tensorflow/index_origin.ipynb  \n",
            "   creating: tensorflow/chapter_multilayer-perceptrons/\n",
            "  inflating: tensorflow/chapter_multilayer-perceptrons/numerical-stability-and-init.ipynb  \n",
            "  inflating: tensorflow/chapter_multilayer-perceptrons/underfit-overfit.ipynb  \n",
            "  inflating: tensorflow/chapter_multilayer-perceptrons/submission.csv  \n",
            "  inflating: tensorflow/chapter_multilayer-perceptrons/weight-decay.ipynb  \n",
            " extracting: tensorflow/chapter_multilayer-perceptrons/backprop.ipynb  \n",
            "  inflating: tensorflow/chapter_multilayer-perceptrons/dropout.ipynb  \n",
            "  inflating: tensorflow/chapter_multilayer-perceptrons/kaggle-house-price.ipynb  \n",
            " extracting: tensorflow/chapter_multilayer-perceptrons/environment.ipynb  \n",
            "  inflating: tensorflow/chapter_multilayer-perceptrons/mlp.ipynb  \n",
            "  inflating: tensorflow/chapter_multilayer-perceptrons/mlp-scratch.ipynb  \n",
            "  inflating: tensorflow/chapter_multilayer-perceptrons/mlp-concise.ipynb  \n",
            " extracting: tensorflow/chapter_multilayer-perceptrons/index.ipynb  \n",
            "   creating: tensorflow/chapter_introduction/\n",
            " extracting: tensorflow/chapter_introduction/index.ipynb  \n",
            "   creating: tensorflow/chapter_notation/\n",
            " extracting: tensorflow/chapter_notation/index.ipynb  \n",
            "   creating: tensorflow/chapter_preliminaries/\n",
            "  inflating: tensorflow/chapter_preliminaries/calculus.ipynb  \n",
            "  inflating: tensorflow/chapter_preliminaries/lookup-api.ipynb  \n",
            "  inflating: tensorflow/chapter_preliminaries/autograd.ipynb  \n",
            "  inflating: tensorflow/chapter_preliminaries/linear-algebra.ipynb  \n",
            "  inflating: tensorflow/chapter_preliminaries/pandas.ipynb  \n",
            "  inflating: tensorflow/chapter_preliminaries/probability.ipynb  \n",
            "  inflating: tensorflow/chapter_preliminaries/ndarray.ipynb  \n",
            " extracting: tensorflow/chapter_preliminaries/index.ipynb  \n",
            "   creating: tensorflow/chapter_references/\n",
            " extracting: tensorflow/chapter_references/zreferences.ipynb  \n",
            "  inflating: tensorflow/setup.py     \n",
            "   creating: tensorflow/img/\n",
            "  inflating: tensorflow/img/nli-attention.svg  \n",
            "  inflating: tensorflow/img/Neuron.svg  \n",
            "  inflating: tensorflow/img/blocks.svg  \n",
            "  inflating: tensorflow/img/connect.png  \n",
            "  inflating: tensorflow/img/space-division-3d.svg  \n",
            "  inflating: tensorflow/img/encoder-decoder.svg  \n",
            "  inflating: tensorflow/img/inception.svg  \n",
            "  inflating: tensorflow/img/textcnn.svg  \n",
            "  inflating: tensorflow/img/conv-pad.svg  \n",
            "  inflating: tensorflow/img/forward.svg  \n",
            "  inflating: tensorflow/img/vec-add.svg  \n",
            "  inflating: tensorflow/img/fcn.svg  \n",
            "  inflating: tensorflow/img/bert-qa.svg  \n",
            "  inflating: tensorflow/img/mutual-information.svg  \n",
            "  inflating: tensorflow/img/fast-rcnn.svg  \n",
            "  inflating: tensorflow/img/catdog.jpg  \n",
            "  inflating: tensorflow/img/banana.jpg  \n",
            "  inflating: tensorflow/img/correlation.svg  \n",
            "  inflating: tensorflow/img/rnn-bptt.svg  \n",
            "  inflating: tensorflow/img/functionclasses.svg  \n",
            "  inflating: tensorflow/img/conv-multi-in.svg  \n",
            "  inflating: tensorflow/img/falsesharing.svg  \n",
            "  inflating: tensorflow/img/sagemaker-create-3.png  \n",
            "  inflating: tensorflow/img/capacity-vs-error.svg  \n",
            "  inflating: tensorflow/img/s2s-prob1.svg  \n",
            "  inflating: tensorflow/img/skip-gram.svg  \n",
            "  inflating: tensorflow/img/hmm.svg  \n",
            "  inflating: tensorflow/img/timemachine-5gram.svg  \n",
            "  inflating: tensorflow/img/seq2seq-attention-details.svg  \n",
            "  inflating: tensorflow/img/pacman.svg  \n",
            "  inflating: tensorflow/img/space-division.svg  \n",
            "  inflating: tensorflow/img/launching.png  \n",
            "  inflating: tensorflow/img/colab.png  \n",
            "  inflating: tensorflow/img/densenet.svg  \n",
            "  inflating: tensorflow/img/rec-mf.svg  \n",
            "  inflating: tensorflow/img/zeroSecDer.svg  \n",
            "  inflating: tensorflow/img/koebel.jpg  \n",
            "  inflating: tensorflow/img/s2s-prob2.svg  \n",
            "  inflating: tensorflow/img/nonconvex.svg  \n",
            "  inflating: tensorflow/img/computegraph.svg  \n",
            "  inflating: tensorflow/img/wake-word.svg  \n",
            "  inflating: tensorflow/img/flopsvsprice.svg  \n",
            "  inflating: tensorflow/img/grid-transform-filled.svg  \n",
            "  inflating: tensorflow/img/eye-coffee.svg  \n",
            "  inflating: tensorflow/img/nlp-map-sa-rnn.svg  \n",
            "  inflating: tensorflow/img/dropout2.svg  \n",
            "  inflating: tensorflow/img/transformer.svg  \n",
            "  inflating: tensorflow/img/git-clone.png  \n",
            "  inflating: tensorflow/img/rec-deepfm.svg  \n",
            "  inflating: tensorflow/img/ps-multimachine.svg  \n",
            "  inflating: tensorflow/img/gru-1.svg  \n",
            "  inflating: tensorflow/img/book-org.svg  \n",
            "  inflating: tensorflow/img/attention-output.svg  \n",
            "  inflating: tensorflow/img/chain-net1.svg  \n",
            "  inflating: tensorflow/img/marginal.svg  \n",
            "  inflating: tensorflow/img/lstm-1.svg  \n",
            "  inflating: tensorflow/img/latencynumbers.png  \n",
            "  inflating: tensorflow/img/git-fork.png  \n",
            "  inflating: tensorflow/img/grid-transform.svg  \n",
            "  inflating: tensorflow/img/projections.svg  \n",
            "  inflating: tensorflow/img/nlp-map-nli-bert.svg  \n",
            "  inflating: tensorflow/img/seq2seq-predict.svg  \n",
            "  inflating: tensorflow/img/pooling.svg  \n",
            "  inflating: tensorflow/img/mask-rcnn.svg  \n",
            "  inflating: tensorflow/img/kaggle-cifar10.png  \n",
            "  inflating: tensorflow/img/elmo-gpt-bert.svg  \n",
            "   creating: tensorflow/img/frontpage/\n",
            "  inflating: tensorflow/img/frontpage/jd-190715-zh.png  \n",
            "  inflating: tensorflow/img/frontpage/jd-190715-en.png  \n",
            "  inflating: tensorflow/img/rnn.svg  \n",
            "  inflating: tensorflow/img/cat2.jpg  \n",
            "  inflating: tensorflow/img/sum-order.svg  \n",
            "  inflating: tensorflow/img/dog2.jpg  \n",
            "  inflating: tensorflow/img/ml-loop.svg  \n",
            "  inflating: tensorflow/img/statistical-significance.svg  \n",
            "  inflating: tensorflow/img/bert-tagging.svg  \n",
            "  inflating: tensorflow/img/mobo-symbol.svg  \n",
            "  inflating: tensorflow/img/lstm-2.svg  \n",
            "  inflating: tensorflow/img/chain-net2.svg  \n",
            "  inflating: tensorflow/img/git-newpr.png  \n",
            "  inflating: tensorflow/img/splitting.svg  \n",
            "  inflating: tensorflow/img/stackedanimals.png  \n",
            "  inflating: tensorflow/img/eye-coffee.png  \n",
            "  inflating: tensorflow/img/speech.png  \n",
            "  inflating: tensorflow/img/residual-block.svg  \n",
            "  inflating: tensorflow/img/tensorcore.jpg  \n",
            "  inflating: tensorflow/img/cat3.jpg  \n",
            "  inflating: tensorflow/img/p2x.png  \n",
            "  inflating: tensorflow/img/sagemaker-create.png  \n",
            "  inflating: tensorflow/img/frontends.png  \n",
            "  inflating: tensorflow/img/house-pricing.png  \n",
            "  inflating: tensorflow/img/seq2seq-attention.svg  \n",
            "  inflating: tensorflow/img/multi-head-attention.svg  \n",
            "  inflating: tensorflow/img/data-parallel.svg  \n",
            "  inflating: tensorflow/img/rec-neumf.svg  \n",
            "  inflating: tensorflow/img/lstm-0.svg  \n",
            "  inflating: tensorflow/img/turing.png  \n",
            "  inflating: tensorflow/img/beam-search.svg  \n",
            "  inflating: tensorflow/img/hi-softmax.svg  \n",
            "  inflating: tensorflow/img/nlp-map-pretrain.svg  \n",
            "  inflating: tensorflow/img/popvssoda.png  \n",
            "  inflating: tensorflow/img/kaggle-submit2.png  \n",
            "  inflating: tensorflow/img/polygon-circle.svg  \n",
            "  inflating: tensorflow/img/iou.svg  \n",
            "  inflating: tensorflow/img/sagemaker.png  \n",
            "  inflating: tensorflow/img/vgg.svg  \n",
            "  inflating: tensorflow/img/ec2.png  \n",
            "  inflating: tensorflow/img/inception-full.svg  \n",
            "  inflating: tensorflow/img/anchor-label.svg  \n",
            "  inflating: tensorflow/img/par-vec.svg  \n",
            "  inflating: tensorflow/img/conv-stride.svg  \n",
            "  inflating: tensorflow/img/twogpu.svg  \n",
            "  inflating: tensorflow/img/mlp.svg  \n",
            "  inflating: tensorflow/img/negSecDer.svg  \n",
            "  inflating: tensorflow/img/pikachu.jpg  \n",
            "  inflating: tensorflow/img/cat1.jpg  \n",
            "  inflating: tensorflow/img/self-attention.svg  \n",
            "  inflating: tensorflow/img/a77.svg  \n",
            "  inflating: tensorflow/img/neon128.svg  \n",
            "  inflating: tensorflow/img/finetune.svg  \n",
            "  inflating: tensorflow/img/chmod.png  \n",
            "  inflating: tensorflow/img/where-wally-walker-books.jpg  \n",
            "  inflating: tensorflow/img/cnn-rnn-self-attention.svg  \n",
            "  inflating: tensorflow/img/segmentation.svg  \n",
            "  inflating: tensorflow/img/kaggle.png  \n",
            "  inflating: tensorflow/img/nin.svg  \n",
            "  inflating: tensorflow/img/jupyter06.png  \n",
            "  inflating: tensorflow/img/Marginal.svg  \n",
            "  inflating: tensorflow/img/wattvsprice.svg  \n",
            "  inflating: tensorflow/img/alexnet.svg  \n",
            "  inflating: tensorflow/img/waldo-mask.jpg  \n",
            "  inflating: tensorflow/img/ubuntu-new.png  \n",
            "  inflating: tensorflow/img/truncated-bptt.svg  \n",
            "  inflating: tensorflow/img/rec-seq-data.svg  \n",
            "  inflating: tensorflow/img/ps-multips.svg  \n",
            "  inflating: tensorflow/img/birnn.svg  \n",
            "  inflating: tensorflow/img/seq2seq-details.svg  \n",
            "  inflating: tensorflow/img/r-cnn.svg  \n",
            "  inflating: tensorflow/img/convex-intersect.svg  \n",
            "  inflating: tensorflow/img/supervised-learning.svg  \n",
            "  inflating: tensorflow/img/jupyter01.png  \n",
            "  inflating: tensorflow/img/attention.svg  \n",
            "  inflating: tensorflow/img/nlp-map-nli-attention.svg  \n",
            "  inflating: tensorflow/img/rnn-train.svg  \n",
            "  inflating: tensorflow/img/resnet-block.svg  \n",
            "  inflating: tensorflow/img/bert-two-seqs.svg  \n",
            "  inflating: tensorflow/img/conv1d-channel.svg  \n",
            "  inflating: tensorflow/img/sagemaker-stop.png  \n",
            "  inflating: tensorflow/img/gru-3.svg  \n",
            "  inflating: tensorflow/img/sagemaker-open.png  \n",
            "  inflating: tensorflow/img/alexnet-original.svg  \n",
            "  inflating: tensorflow/img/softmaxreg.svg  \n",
            "  inflating: tensorflow/img/ringsync.svg  \n",
            "  inflating: tensorflow/img/jupyter00.png  \n",
            "  inflating: tensorflow/img/conv-1x1.svg  \n",
            "  inflating: tensorflow/img/rec-intro.svg  \n",
            "  inflating: tensorflow/img/sequence-model.svg  \n",
            "  inflating: tensorflow/img/singleneuron.svg  \n",
            "  inflating: tensorflow/img/ps.svg   \n",
            "  inflating: tensorflow/img/asyncgraph.svg  \n",
            "  inflating: tensorflow/img/jupyter02.png  \n",
            "  inflating: tensorflow/img/frontends.svg  \n",
            "  inflating: tensorflow/img/jupyter03.png  \n",
            "  inflating: tensorflow/img/cuda101.png  \n",
            "  inflating: tensorflow/img/bert-input.svg  \n",
            "  inflating: tensorflow/img/colab-2.png  \n",
            "  inflating: tensorflow/img/faster-rcnn.svg  \n",
            "  inflating: tensorflow/img/resnet18.svg  \n",
            "  inflating: tensorflow/img/gru-2.svg  \n",
            "  inflating: tensorflow/img/turing-processing-block.png  \n",
            "  inflating: tensorflow/img/trans-conv.svg  \n",
            "  inflating: tensorflow/img/rec-caser.svg  \n",
            "  inflating: tensorflow/img/neural-style.svg  \n",
            "  inflating: tensorflow/img/cbow.svg  \n",
            "  inflating: tensorflow/img/rec-ranking.svg  \n",
            "  inflating: tensorflow/img/dog1.jpg  \n",
            "  inflating: tensorflow/img/roi.svg  \n",
            "  inflating: tensorflow/img/lstm-3.svg  \n",
            "  inflating: tensorflow/img/style-transfer.svg  \n",
            "  inflating: tensorflow/img/bert-one-seq.svg  \n",
            "  inflating: tensorflow/img/vec-angle.svg  \n",
            "  inflating: tensorflow/img/edit-file.png  \n",
            "  inflating: tensorflow/img/posSecDer.svg  \n",
            "  inflating: tensorflow/img/death-cap.jpg  \n",
            "  inflating: tensorflow/img/aws.png  \n",
            "  inflating: tensorflow/img/lenet.svg  \n",
            "  inflating: tensorflow/img/ssd.svg  \n",
            "  inflating: tensorflow/img/neural-style.jpg  \n",
            "  inflating: tensorflow/img/ftse100.png  \n",
            "  inflating: tensorflow/img/cat-dog-train.svg  \n",
            "  inflating: tensorflow/img/rainier.jpg  \n",
            "  inflating: tensorflow/img/filters.png  \n",
            "  inflating: tensorflow/img/densenet-block.svg  \n",
            "  inflating: tensorflow/img/bw-hierarchy.svg  \n",
            "  inflating: tensorflow/img/sagemaker-jupyter.png  \n",
            "  inflating: tensorflow/img/ps-distributed.svg  \n",
            "  inflating: tensorflow/img/lenet-vert.svg  \n",
            "  inflating: tensorflow/img/git-createpr.png  \n",
            "  inflating: tensorflow/img/disk.png  \n",
            "  inflating: tensorflow/img/rect-trans.svg  \n",
            "  inflating: tensorflow/img/jupyter05.png  \n",
            "  inflating: tensorflow/img/conv1d-2d.svg  \n",
            "  inflating: tensorflow/img/cat-dog-pixels.png  \n",
            "  inflating: tensorflow/img/conv1d.svg  \n",
            "  inflating: tensorflow/img/nlp-map-app.svg  \n",
            "  inflating: tensorflow/img/deep-rnn.svg  \n",
            "  inflating: tensorflow/img/kaggle-dog.jpg  \n",
            "  inflating: tensorflow/img/neuron.svg  \n",
            "  inflating: tensorflow/img/data-collection.svg  \n",
            "  inflating: tensorflow/img/rl-environment.svg  \n",
            "  inflating: tensorflow/img/qkv.svg  \n",
            "  inflating: tensorflow/img/jupyter04.png  \n",
            "  inflating: tensorflow/img/cat-dog-test.svg  \n",
            "  inflating: tensorflow/img/deeplearning-amazon.jpg  \n",
            "  inflating: tensorflow/img/miniconda.png  \n",
            "  inflating: tensorflow/img/grid-points.svg  \n",
            "  inflating: tensorflow/img/contribute.svg  \n",
            "  inflating: tensorflow/img/git-forked.png  \n",
            "  inflating: tensorflow/img/limits.png  \n",
            "  inflating: tensorflow/img/gan.svg  \n",
            "  inflating: tensorflow/img/seq2seq.svg  \n",
            "  inflating: tensorflow/img/nvlink-twoloop.svg  \n",
            "  inflating: tensorflow/img/nlp-map-sa-cnn.svg  \n",
            "  inflating: tensorflow/img/skylake.svg  \n",
            "  inflating: tensorflow/img/jupyter.png  \n",
            "  inflating: tensorflow/img/autumn-oak.jpg  \n",
            "  inflating: tensorflow/img/fit-linreg.svg  \n",
            "  inflating: tensorflow/img/eye-book.png  \n",
            "  inflating: tensorflow/img/keypair.png  \n",
            "  inflating: tensorflow/img/sagemaker-create-2.png  \n",
            "  inflating: tensorflow/img/sagemaker-terminal.png  \n",
            "  inflating: tensorflow/img/proj-vec.svg  \n",
            "  inflating: tensorflow/img/nvlink.svg  \n",
            "  inflating: tensorflow/img/eye-book.svg  \n",
            "  inflating: tensorflow/img/sub-area.svg  \n",
            "  inflating: tensorflow/img/copyto.svg  \n",
            "  inflating: tensorflow/img/threading.svg  \n",
            "   creating: tensorflow/chapter_convolutional-neural-networks/\n",
            "  inflating: tensorflow/chapter_convolutional-neural-networks/pooling.ipynb  \n",
            "  inflating: tensorflow/chapter_convolutional-neural-networks/conv-layer.ipynb  \n",
            "  inflating: tensorflow/chapter_convolutional-neural-networks/lenet.ipynb  \n",
            "  inflating: tensorflow/chapter_convolutional-neural-networks/padding-and-strides.ipynb  \n",
            "  inflating: tensorflow/chapter_convolutional-neural-networks/channels.ipynb  \n",
            " extracting: tensorflow/chapter_convolutional-neural-networks/why-conv.ipynb  \n",
            " extracting: tensorflow/chapter_convolutional-neural-networks/index.ipynb  \n",
            "  inflating: tensorflow/d2l.bib      \n",
            "   creating: tensorflow/chapter_attention-mechanisms/\n",
            " extracting: tensorflow/chapter_attention-mechanisms/bahdanau-attention.ipynb  \n",
            " extracting: tensorflow/chapter_attention-mechanisms/attention-scoring-functions.ipynb  \n",
            " extracting: tensorflow/chapter_attention-mechanisms/self-attention-and-positional-encoding.ipynb  \n",
            "  inflating: tensorflow/chapter_attention-mechanisms/attention-cues.ipynb  \n",
            " extracting: tensorflow/chapter_attention-mechanisms/multihead-attention.ipynb  \n",
            " extracting: tensorflow/chapter_attention-mechanisms/nadaraya-waston.ipynb  \n",
            " extracting: tensorflow/chapter_attention-mechanisms/index.ipynb  \n",
            " extracting: tensorflow/chapter_attention-mechanisms/transformer.ipynb  \n",
            "   creating: tensorflow/chapter_installation/\n",
            "  inflating: tensorflow/chapter_installation/index.ipynb  \n",
            " extracting: tensorflow/TERMINOLOGY.ipynb  \n",
            "   creating: tensorflow/chapter_computational-performance/\n",
            " extracting: tensorflow/chapter_computational-performance/parameterserver.ipynb  \n",
            " extracting: tensorflow/chapter_computational-performance/auto-parallelism.ipynb  \n",
            " extracting: tensorflow/chapter_computational-performance/async-computation.ipynb  \n",
            " extracting: tensorflow/chapter_computational-performance/multiple-gpus-concise.ipynb  \n",
            "  inflating: tensorflow/chapter_computational-performance/hybridize.ipynb  \n",
            "   creating: tensorflow/chapter_computational-performance/my_mlp/\n",
            "  inflating: tensorflow/chapter_computational-performance/my_mlp/saved_model.pb  \n",
            "   creating: tensorflow/chapter_computational-performance/my_mlp/assets/\n",
            "   creating: tensorflow/chapter_computational-performance/my_mlp/variables/\n",
            "  inflating: tensorflow/chapter_computational-performance/my_mlp/variables/variables.data-00000-of-00001  \n",
            "  inflating: tensorflow/chapter_computational-performance/my_mlp/variables/variables.index  \n",
            " extracting: tensorflow/chapter_computational-performance/hardware.ipynb  \n",
            " extracting: tensorflow/chapter_computational-performance/multiple-gpus.ipynb  \n",
            " extracting: tensorflow/chapter_computational-performance/index.ipynb  \n",
            "   creating: tensorflow/chapter_optimization/\n",
            "  inflating: tensorflow/chapter_optimization/optimization-intro.ipynb  \n",
            " extracting: tensorflow/chapter_optimization/index.ipynb  \n",
            "   creating: tensorflow/chapter_recurrent-neural-networks/\n",
            " extracting: tensorflow/chapter_recurrent-neural-networks/bptt.ipynb  \n",
            "  inflating: tensorflow/chapter_recurrent-neural-networks/rnn.ipynb  \n",
            " extracting: tensorflow/chapter_recurrent-neural-networks/rnn-concise.ipynb  \n",
            "  inflating: tensorflow/chapter_recurrent-neural-networks/sequence.ipynb  \n",
            "  inflating: tensorflow/chapter_recurrent-neural-networks/language-models-and-dataset.ipynb  \n",
            "  inflating: tensorflow/chapter_recurrent-neural-networks/text-preprocessing.ipynb  \n",
            "  inflating: tensorflow/chapter_recurrent-neural-networks/rnn-scratch.ipynb  \n",
            " extracting: tensorflow/chapter_recurrent-neural-networks/index.ipynb  \n",
            "   creating: tensorflow/chapter_recurrent-modern/\n",
            " extracting: tensorflow/chapter_recurrent-modern/encoder-decoder.ipynb  \n",
            " extracting: tensorflow/chapter_recurrent-modern/deep-rnn.ipynb  \n",
            " extracting: tensorflow/chapter_recurrent-modern/gru.ipynb  \n",
            " extracting: tensorflow/chapter_recurrent-modern/beam-search.ipynb  \n",
            " extracting: tensorflow/chapter_recurrent-modern/lstm.ipynb  \n",
            " extracting: tensorflow/chapter_recurrent-modern/bi-rnn.ipynb  \n",
            "  inflating: tensorflow/chapter_recurrent-modern/machine-translation-and-dataset.ipynb  \n",
            " extracting: tensorflow/chapter_recurrent-modern/index.ipynb  \n",
            " extracting: tensorflow/chapter_recurrent-modern/seq2seq.ipynb  \n",
            " extracting: tensorflow/index.ipynb  \n",
            "   creating: tensorflow/chapter_deep-learning-computation/\n",
            "  inflating: tensorflow/chapter_deep-learning-computation/custom-layer.ipynb  \n",
            "  inflating: tensorflow/chapter_deep-learning-computation/read-write.ipynb  \n",
            "  inflating: tensorflow/chapter_deep-learning-computation/mlp.params.index  \n",
            "  inflating: tensorflow/chapter_deep-learning-computation/checkpoint  \n",
            "  inflating: tensorflow/chapter_deep-learning-computation/model-construction.ipynb  \n",
            "  inflating: tensorflow/chapter_deep-learning-computation/xy-files.npy  \n",
            "  inflating: tensorflow/chapter_deep-learning-computation/mydict.npy  \n",
            "  inflating: tensorflow/chapter_deep-learning-computation/mlp.params.data-00000-of-00001  \n",
            "  inflating: tensorflow/chapter_deep-learning-computation/deferred-init.ipynb  \n",
            "  inflating: tensorflow/chapter_deep-learning-computation/parameters.ipynb  \n",
            "  inflating: tensorflow/chapter_deep-learning-computation/use-gpu.ipynb  \n",
            "  inflating: tensorflow/chapter_deep-learning-computation/x-file.npy  \n",
            " extracting: tensorflow/chapter_deep-learning-computation/index.ipynb  \n"
          ],
          "name": "stdout"
        }
      ]
    },
    {
      "cell_type": "code",
      "metadata": {
        "colab": {
          "base_uri": "https://localhost:8080/"
        },
        "id": "2YgUBhqfG_58",
        "outputId": "1bfebfd3-2174-4dbd-8f9d-93524b7ae9f1"
      },
      "source": [
        "ls"
      ],
      "execution_count": null,
      "outputs": [
        {
          "output_type": "stream",
          "text": [
            "d2l-zh.zip  \u001b[0m\u001b[01;34mdrive\u001b[0m/  \u001b[01;34mmxnet\u001b[0m/  \u001b[01;34mpytorch\u001b[0m/  \u001b[01;34msample_data\u001b[0m/  \u001b[01;34mtensorflow\u001b[0m/\n"
          ],
          "name": "stdout"
        }
      ]
    },
    {
      "cell_type": "code",
      "metadata": {
        "colab": {
          "base_uri": "https://localhost:8080/"
        },
        "id": "bXuSXYcIHBy-",
        "outputId": "263c1d9f-ab4e-4b5d-b19b-d6e135730b44"
      },
      "source": [
        "cd pytorch/"
      ],
      "execution_count": null,
      "outputs": [
        {
          "output_type": "stream",
          "text": [
            "/content/pytorch\n"
          ],
          "name": "stdout"
        }
      ]
    },
    {
      "cell_type": "code",
      "metadata": {
        "colab": {
          "base_uri": "https://localhost:8080/"
        },
        "id": "6kfrhYcdHEWl",
        "outputId": "ca3780c6-fd14-47b8-86c0-d7aeaeb87e12"
      },
      "source": [
        "ls"
      ],
      "execution_count": null,
      "outputs": [
        {
          "output_type": "stream",
          "text": [
            "\u001b[0m\u001b[01;34mchapter_attention-mechanisms\u001b[0m/           \u001b[01;34mchapter_preface\u001b[0m/\n",
            "\u001b[01;34mchapter_computational-performance\u001b[0m/      \u001b[01;34mchapter_preliminaries\u001b[0m/\n",
            "\u001b[01;34mchapter_computer-vision\u001b[0m/                \u001b[01;34mchapter_recurrent-modern\u001b[0m/\n",
            "\u001b[01;34mchapter_convolutional-modern\u001b[0m/           \u001b[01;34mchapter_recurrent-neural-networks\u001b[0m/\n",
            "\u001b[01;34mchapter_convolutional-neural-networks\u001b[0m/  \u001b[01;34mchapter_references\u001b[0m/\n",
            "\u001b[01;34mchapter_deep-learning-computation\u001b[0m/      d2l.bib\n",
            "\u001b[01;34mchapter_installation\u001b[0m/                   \u001b[01;34mimg\u001b[0m/\n",
            "\u001b[01;34mchapter_introduction\u001b[0m/                   index.ipynb\n",
            "\u001b[01;34mchapter_linear-networks\u001b[0m/                index_origin.ipynb\n",
            "\u001b[01;34mchapter_multilayer-perceptrons\u001b[0m/         setup.py\n",
            "\u001b[01;34mchapter_notation\u001b[0m/                       TERMINOLOGY.ipynb\n",
            "\u001b[01;34mchapter_optimization\u001b[0m/\n"
          ],
          "name": "stdout"
        }
      ]
    },
    {
      "cell_type": "code",
      "metadata": {
        "colab": {
          "base_uri": "https://localhost:8080/"
        },
        "id": "xJFN6s1RHFPI",
        "outputId": "46e7e883-bed2-4099-c8bb-302942bc5b1f"
      },
      "source": [
        "!git clone https://github.com/d2l-ai/d2l-zh-pytorch-slides"
      ],
      "execution_count": null,
      "outputs": [
        {
          "output_type": "stream",
          "text": [
            "Cloning into 'd2l-zh-pytorch-slides'...\n",
            "remote: Enumerating objects: 2505, done.\u001b[K\n",
            "remote: Counting objects: 100% (313/313), done.\u001b[K\n",
            "remote: Compressing objects: 100% (230/230), done.\u001b[K\n",
            "remote: Total 2505 (delta 166), reused 154 (delta 83), pack-reused 2192\u001b[K\n",
            "Receiving objects: 100% (2505/2505), 3.81 MiB | 23.35 MiB/s, done.\n",
            "Resolving deltas: 100% (1830/1830), done.\n"
          ],
          "name": "stdout"
        }
      ]
    },
    {
      "cell_type": "code",
      "metadata": {
        "colab": {
          "base_uri": "https://localhost:8080/",
          "height": 131
        },
        "id": "RWkcQ3HGHJo4",
        "outputId": "30d4db0f-435d-4ae2-91d8-c9517ec8af28"
      },
      "source": [
        "jupyter notebook"
      ],
      "execution_count": null,
      "outputs": [
        {
          "output_type": "error",
          "ename": "SyntaxError",
          "evalue": "ignored",
          "traceback": [
            "\u001b[0;36m  File \u001b[0;32m\"<ipython-input-14-ba6c65dc902f>\"\u001b[0;36m, line \u001b[0;32m1\u001b[0m\n\u001b[0;31m    jupyter notebook\u001b[0m\n\u001b[0m                   ^\u001b[0m\n\u001b[0;31mSyntaxError\u001b[0m\u001b[0;31m:\u001b[0m invalid syntax\n"
          ]
        }
      ]
    },
    {
      "cell_type": "code",
      "metadata": {
        "colab": {
          "base_uri": "https://localhost:8080/"
        },
        "id": "4SZzrin_HR6b",
        "outputId": "0bc2db16-c5d4-4645-9294-ec831089a4ed"
      },
      "source": [
        "!jupyter notebook"
      ],
      "execution_count": null,
      "outputs": [
        {
          "output_type": "stream",
          "text": [
            "Traceback (most recent call last):\n",
            "  File \"/usr/local/bin/jupyter-notebook\", line 8, in <module>\n",
            "    sys.exit(main())\n",
            "  File \"/usr/local/lib/python2.7/dist-packages/jupyter_core/application.py\", line 267, in launch_instance\n",
            "    return super(JupyterApp, cls).launch_instance(argv=argv, **kwargs)\n",
            "  File \"/usr/local/lib/python2.7/dist-packages/traitlets/config/application.py\", line 657, in launch_instance\n",
            "    app.initialize(argv)\n",
            "  File \"</usr/local/lib/python2.7/dist-packages/decorator.pyc:decorator-gen-7>\", line 2, in initialize\n",
            "  File \"/usr/local/lib/python2.7/dist-packages/traitlets/config/application.py\", line 87, in catch_config_error\n",
            "    return method(app, *args, **kwargs)\n",
            "  File \"/usr/local/lib/python2.7/dist-packages/notebook/notebookapp.py\", line 1368, in initialize\n",
            "    self.init_webapp()\n",
            "  File \"/usr/local/lib/python2.7/dist-packages/notebook/notebookapp.py\", line 1188, in init_webapp\n",
            "    self.http_server.listen(port, self.ip)\n",
            "  File \"/usr/local/lib/python2.7/dist-packages/tornado/tcpserver.py\", line 142, in listen\n",
            "    sockets = bind_sockets(port, address=address)\n",
            "  File \"/usr/local/lib/python2.7/dist-packages/tornado/netutil.py\", line 197, in bind_sockets\n",
            "    sock.bind(sockaddr)\n",
            "  File \"/usr/lib/python2.7/socket.py\", line 228, in meth\n",
            "    return getattr(self._sock,name)(*args)\n",
            "socket.error: [Errno 99] Cannot assign requested address\n"
          ],
          "name": "stdout"
        }
      ]
    },
    {
      "cell_type": "code",
      "metadata": {
        "colab": {
          "base_uri": "https://localhost:8080/"
        },
        "id": "9Rf-oFIwHYh6",
        "outputId": "90495873-352f-406e-dbaa-ebcd7d3ae517"
      },
      "source": [
        "!import torch"
      ],
      "execution_count": null,
      "outputs": [
        {
          "output_type": "stream",
          "text": [
            "/bin/bash: import: command not found\n"
          ],
          "name": "stdout"
        }
      ]
    },
    {
      "cell_type": "code",
      "metadata": {
        "colab": {
          "base_uri": "https://localhost:8080/",
          "height": 166
        },
        "id": "tLxkH0fpNiVH",
        "outputId": "90a272cd-7cf3-4889-bbc9-75ccb2c876fd"
      },
      "source": [
        "x=torch.arange(12)"
      ],
      "execution_count": null,
      "outputs": [
        {
          "output_type": "error",
          "ename": "NameError",
          "evalue": "ignored",
          "traceback": [
            "\u001b[0;31m---------------------------------------------------------------------------\u001b[0m",
            "\u001b[0;31mNameError\u001b[0m                                 Traceback (most recent call last)",
            "\u001b[0;32m<ipython-input-17-2622abe79695>\u001b[0m in \u001b[0;36m<module>\u001b[0;34m()\u001b[0m\n\u001b[0;32m----> 1\u001b[0;31m \u001b[0mx\u001b[0m\u001b[0;34m=\u001b[0m\u001b[0mtorch\u001b[0m\u001b[0;34m.\u001b[0m\u001b[0marange\u001b[0m\u001b[0;34m(\u001b[0m\u001b[0;36m12\u001b[0m\u001b[0;34m)\u001b[0m\u001b[0;34m\u001b[0m\u001b[0;34m\u001b[0m\u001b[0m\n\u001b[0m",
            "\u001b[0;31mNameError\u001b[0m: name 'torch' is not defined"
          ]
        }
      ]
    },
    {
      "cell_type": "code",
      "metadata": {
        "colab": {
          "base_uri": "https://localhost:8080/"
        },
        "id": "FZZm5b0_OKJt",
        "outputId": "d0cae9a2-756d-49db-b88a-d04418be488f"
      },
      "source": [
        "pip install torch torchvision"
      ],
      "execution_count": null,
      "outputs": [
        {
          "output_type": "stream",
          "text": [
            "Requirement already satisfied: torch in /usr/local/lib/python3.7/dist-packages (1.8.1+cu101)\n",
            "Requirement already satisfied: torchvision in /usr/local/lib/python3.7/dist-packages (0.9.1+cu101)\n",
            "Requirement already satisfied: numpy in /usr/local/lib/python3.7/dist-packages (from torch) (1.19.5)\n",
            "Requirement already satisfied: typing-extensions in /usr/local/lib/python3.7/dist-packages (from torch) (3.7.4.3)\n",
            "Requirement already satisfied: pillow>=4.1.1 in /usr/local/lib/python3.7/dist-packages (from torchvision) (7.1.2)\n"
          ],
          "name": "stdout"
        }
      ]
    },
    {
      "cell_type": "code",
      "metadata": {
        "id": "-X7A9xAJOceW"
      },
      "source": [
        "import torch"
      ],
      "execution_count": null,
      "outputs": []
    },
    {
      "cell_type": "code",
      "metadata": {
        "id": "834VMWNbOx-Q"
      },
      "source": [
        "x= torch.arange(12)"
      ],
      "execution_count": null,
      "outputs": []
    },
    {
      "cell_type": "code",
      "metadata": {
        "colab": {
          "base_uri": "https://localhost:8080/",
          "height": 131
        },
        "id": "2yaNzEHgO3_r",
        "outputId": "754e5fdf-3ffe-4dae-cd03-d9006f456d4f"
      },
      "source": [
        "print x"
      ],
      "execution_count": null,
      "outputs": [
        {
          "output_type": "error",
          "ename": "SyntaxError",
          "evalue": "ignored",
          "traceback": [
            "\u001b[0;36m  File \u001b[0;32m\"<ipython-input-22-0b640320f694>\"\u001b[0;36m, line \u001b[0;32m1\u001b[0m\n\u001b[0;31m    print x\u001b[0m\n\u001b[0m          ^\u001b[0m\n\u001b[0;31mSyntaxError\u001b[0m\u001b[0;31m:\u001b[0m Missing parentheses in call to 'print'. Did you mean print(x)?\n"
          ]
        }
      ]
    },
    {
      "cell_type": "code",
      "metadata": {
        "colab": {
          "base_uri": "https://localhost:8080/"
        },
        "id": "H1aiFVemO8dP",
        "outputId": "c165566f-a2e6-4ce7-bc4e-f6fc4006cf32"
      },
      "source": [
        "print(x)"
      ],
      "execution_count": null,
      "outputs": [
        {
          "output_type": "stream",
          "text": [
            "tensor([ 0,  1,  2,  3,  4,  5,  6,  7,  8,  9, 10, 11])\n"
          ],
          "name": "stdout"
        }
      ]
    },
    {
      "cell_type": "code",
      "metadata": {
        "colab": {
          "base_uri": "https://localhost:8080/",
          "height": 166
        },
        "id": "lPRJCEHSO_3x",
        "outputId": "f5c59219-018b-4d19-9971-059081b46ffd"
      },
      "source": [
        "Y=torch.arange(12).shape(3,4)"
      ],
      "execution_count": null,
      "outputs": [
        {
          "output_type": "error",
          "ename": "NameError",
          "evalue": "ignored",
          "traceback": [
            "\u001b[0;31m---------------------------------------------------------------------------\u001b[0m",
            "\u001b[0;31mNameError\u001b[0m                                 Traceback (most recent call last)",
            "\u001b[0;32m<ipython-input-1-57f3d9e99006>\u001b[0m in \u001b[0;36m<module>\u001b[0;34m()\u001b[0m\n\u001b[0;32m----> 1\u001b[0;31m \u001b[0mY\u001b[0m\u001b[0;34m=\u001b[0m\u001b[0mtorch\u001b[0m\u001b[0;34m.\u001b[0m\u001b[0marange\u001b[0m\u001b[0;34m(\u001b[0m\u001b[0;36m12\u001b[0m\u001b[0;34m)\u001b[0m\u001b[0;34m.\u001b[0m\u001b[0mshape\u001b[0m\u001b[0;34m(\u001b[0m\u001b[0;36m3\u001b[0m\u001b[0;34m,\u001b[0m\u001b[0;36m4\u001b[0m\u001b[0;34m)\u001b[0m\u001b[0;34m\u001b[0m\u001b[0;34m\u001b[0m\u001b[0m\n\u001b[0m",
            "\u001b[0;31mNameError\u001b[0m: name 'torch' is not defined"
          ]
        }
      ]
    },
    {
      "cell_type": "code",
      "metadata": {
        "colab": {
          "base_uri": "https://localhost:8080/",
          "height": 166
        },
        "id": "jQjzGh-wsinv",
        "outputId": "5ddbbdf9-6006-4d85-eaff-18dfbce14259"
      },
      "source": [
        "Y= torch.arange(12).shape(3,4)"
      ],
      "execution_count": null,
      "outputs": [
        {
          "output_type": "error",
          "ename": "NameError",
          "evalue": "ignored",
          "traceback": [
            "\u001b[0;31m---------------------------------------------------------------------------\u001b[0m",
            "\u001b[0;31mNameError\u001b[0m                                 Traceback (most recent call last)",
            "\u001b[0;32m<ipython-input-2-274ceae929d4>\u001b[0m in \u001b[0;36m<module>\u001b[0;34m()\u001b[0m\n\u001b[0;32m----> 1\u001b[0;31m \u001b[0mY\u001b[0m\u001b[0;34m=\u001b[0m \u001b[0mtorch\u001b[0m\u001b[0;34m.\u001b[0m\u001b[0marange\u001b[0m\u001b[0;34m(\u001b[0m\u001b[0;36m12\u001b[0m\u001b[0;34m)\u001b[0m\u001b[0;34m.\u001b[0m\u001b[0mshape\u001b[0m\u001b[0;34m(\u001b[0m\u001b[0;36m3\u001b[0m\u001b[0;34m,\u001b[0m\u001b[0;36m4\u001b[0m\u001b[0;34m)\u001b[0m\u001b[0;34m\u001b[0m\u001b[0;34m\u001b[0m\u001b[0m\n\u001b[0m",
            "\u001b[0;31mNameError\u001b[0m: name 'torch' is not defined"
          ]
        }
      ]
    },
    {
      "cell_type": "code",
      "metadata": {
        "id": "Hu6aHzspsorO"
      },
      "source": [
        "import torch"
      ],
      "execution_count": null,
      "outputs": []
    },
    {
      "cell_type": "code",
      "metadata": {
        "colab": {
          "base_uri": "https://localhost:8080/",
          "height": 166
        },
        "id": "bV2fobT7su3Z",
        "outputId": "ed609062-248a-4433-daf2-35e4f5c522fb"
      },
      "source": [
        "Y=torch.arange(12).shape(3,4)"
      ],
      "execution_count": null,
      "outputs": [
        {
          "output_type": "error",
          "ename": "TypeError",
          "evalue": "ignored",
          "traceback": [
            "\u001b[0;31m---------------------------------------------------------------------------\u001b[0m",
            "\u001b[0;31mTypeError\u001b[0m                                 Traceback (most recent call last)",
            "\u001b[0;32m<ipython-input-4-57f3d9e99006>\u001b[0m in \u001b[0;36m<module>\u001b[0;34m()\u001b[0m\n\u001b[0;32m----> 1\u001b[0;31m \u001b[0mY\u001b[0m\u001b[0;34m=\u001b[0m\u001b[0mtorch\u001b[0m\u001b[0;34m.\u001b[0m\u001b[0marange\u001b[0m\u001b[0;34m(\u001b[0m\u001b[0;36m12\u001b[0m\u001b[0;34m)\u001b[0m\u001b[0;34m.\u001b[0m\u001b[0mshape\u001b[0m\u001b[0;34m(\u001b[0m\u001b[0;36m3\u001b[0m\u001b[0;34m,\u001b[0m\u001b[0;36m4\u001b[0m\u001b[0;34m)\u001b[0m\u001b[0;34m\u001b[0m\u001b[0;34m\u001b[0m\u001b[0m\n\u001b[0m",
            "\u001b[0;31mTypeError\u001b[0m: 'torch.Size' object is not callable"
          ]
        }
      ]
    },
    {
      "cell_type": "code",
      "metadata": {
        "id": "UQTaU-PGswga"
      },
      "source": [
        "Y=torch.arange(12)"
      ],
      "execution_count": null,
      "outputs": []
    },
    {
      "cell_type": "code",
      "metadata": {
        "colab": {
          "base_uri": "https://localhost:8080/"
        },
        "id": "00DROoi4s0Pp",
        "outputId": "7fe26524-bb03-4473-9261-e3bf913587f4"
      },
      "source": [
        "Y.reshape(3,4)"
      ],
      "execution_count": null,
      "outputs": [
        {
          "output_type": "execute_result",
          "data": {
            "text/plain": [
              "tensor([[ 0,  1,  2,  3],\n",
              "        [ 4,  5,  6,  7],\n",
              "        [ 8,  9, 10, 11]])"
            ]
          },
          "metadata": {
            "tags": []
          },
          "execution_count": 6
        }
      ]
    },
    {
      "cell_type": "code",
      "metadata": {
        "colab": {
          "base_uri": "https://localhost:8080/"
        },
        "id": "N6IiAfUPs5lb",
        "outputId": "f07931e8-d01c-4819-b94e-9a5b1dbcd1ab"
      },
      "source": [
        "before = id(Y)\n",
        "before"
      ],
      "execution_count": null,
      "outputs": [
        {
          "output_type": "execute_result",
          "data": {
            "text/plain": [
              "139745040414592"
            ]
          },
          "metadata": {
            "tags": []
          },
          "execution_count": 7
        }
      ]
    },
    {
      "cell_type": "code",
      "metadata": {
        "colab": {
          "base_uri": "https://localhost:8080/"
        },
        "id": "LZtQL7sotBFk",
        "outputId": "99122b29-87c0-48fb-d69a-f125124b45c1"
      },
      "source": [
        "x = torch.zeros(3,1)\n",
        "before == x+Y"
      ],
      "execution_count": null,
      "outputs": [
        {
          "output_type": "execute_result",
          "data": {
            "text/plain": [
              "tensor([[False, False, False, False, False, False, False, False, False, False,\n",
              "         False, False],\n",
              "        [False, False, False, False, False, False, False, False, False, False,\n",
              "         False, False],\n",
              "        [False, False, False, False, False, False, False, False, False, False,\n",
              "         False, False]])"
            ]
          },
          "metadata": {
            "tags": []
          },
          "execution_count": 8
        }
      ]
    },
    {
      "cell_type": "code",
      "metadata": {
        "colab": {
          "base_uri": "https://localhost:8080/"
        },
        "id": "GFGuhiq-tRYw",
        "outputId": "fc4916d5-213d-40db-8422-4f784afb8c98"
      },
      "source": [
        "Y=x+Y\n",
        "before == Y"
      ],
      "execution_count": null,
      "outputs": [
        {
          "output_type": "execute_result",
          "data": {
            "text/plain": [
              "tensor([[False, False, False, False, False, False, False, False, False, False,\n",
              "         False, False],\n",
              "        [False, False, False, False, False, False, False, False, False, False,\n",
              "         False, False],\n",
              "        [False, False, False, False, False, False, False, False, False, False,\n",
              "         False, False]])"
            ]
          },
          "metadata": {
            "tags": []
          },
          "execution_count": 9
        }
      ]
    },
    {
      "cell_type": "code",
      "metadata": {
        "colab": {
          "base_uri": "https://localhost:8080/"
        },
        "id": "O9glvX-_tgCk",
        "outputId": "92324641-4025-4de0-b643-77d540cb593d"
      },
      "source": [
        "id(Y)"
      ],
      "execution_count": null,
      "outputs": [
        {
          "output_type": "execute_result",
          "data": {
            "text/plain": [
              "139745039821152"
            ]
          },
          "metadata": {
            "tags": []
          },
          "execution_count": 10
        }
      ]
    },
    {
      "cell_type": "code",
      "metadata": {
        "colab": {
          "base_uri": "https://localhost:8080/"
        },
        "id": "6jkoPightl8Y",
        "outputId": "14710461-3e49-4da2-f8a9-7605be8ed1de"
      },
      "source": [
        "Z = torch.zeros_like(Y)\n",
        "print('id(Z)', id(Z))"
      ],
      "execution_count": null,
      "outputs": [
        {
          "output_type": "stream",
          "text": [
            "id(Z) 139745040165536\n"
          ],
          "name": "stdout"
        }
      ]
    },
    {
      "cell_type": "code",
      "metadata": {
        "id": "w_-U8268t1PD"
      },
      "source": [
        "after = id(x)"
      ],
      "execution_count": null,
      "outputs": []
    },
    {
      "cell_type": "code",
      "metadata": {
        "colab": {
          "base_uri": "https://localhost:8080/",
          "height": 166
        },
        "id": "VoWswdMWOKKY",
        "outputId": "c0d5a091-a39c-4b55-837a-a9b3d2c89495"
      },
      "source": [
        "after = id(x)"
      ],
      "execution_count": null,
      "outputs": [
        {
          "output_type": "error",
          "ename": "NameError",
          "evalue": "ignored",
          "traceback": [
            "\u001b[0;31m---------------------------------------------------------------------------\u001b[0m",
            "\u001b[0;31mNameError\u001b[0m                                 Traceback (most recent call last)",
            "\u001b[0;32m<ipython-input-1-fc1dad6be1c0>\u001b[0m in \u001b[0;36m<module>\u001b[0;34m()\u001b[0m\n\u001b[0;32m----> 1\u001b[0;31m \u001b[0mafter\u001b[0m \u001b[0;34m=\u001b[0m \u001b[0mid\u001b[0m\u001b[0;34m(\u001b[0m\u001b[0mx\u001b[0m\u001b[0;34m)\u001b[0m\u001b[0;34m\u001b[0m\u001b[0;34m\u001b[0m\u001b[0m\n\u001b[0m",
            "\u001b[0;31mNameError\u001b[0m: name 'x' is not defined"
          ]
        }
      ]
    },
    {
      "cell_type": "code",
      "metadata": {
        "colab": {
          "base_uri": "https://localhost:8080/"
        },
        "id": "GQSa6DYuOU4Y",
        "outputId": "a7af25fa-7f1d-4f39-f4e4-cd5bc7b36a5d"
      },
      "source": [
        "import torch\n",
        "Y = torch.arange(12).reshape(3,4)\n",
        "X = torch.zeros (1,4)\n",
        "before = id (Y)\n",
        "Y"
      ],
      "execution_count": null,
      "outputs": [
        {
          "output_type": "execute_result",
          "data": {
            "text/plain": [
              "tensor([[ 0,  1,  2,  3],\n",
              "        [ 4,  5,  6,  7],\n",
              "        [ 8,  9, 10, 11]])"
            ]
          },
          "metadata": {
            "tags": []
          },
          "execution_count": 2
        }
      ]
    },
    {
      "cell_type": "code",
      "metadata": {
        "colab": {
          "base_uri": "https://localhost:8080/"
        },
        "id": "SJWHpzO1O00z",
        "outputId": "8ffa4ba6-428b-4e48-c4fb-8d12f03f172b"
      },
      "source": [
        "before"
      ],
      "execution_count": null,
      "outputs": [
        {
          "output_type": "execute_result",
          "data": {
            "text/plain": [
              "140439099385648"
            ]
          },
          "metadata": {
            "tags": []
          },
          "execution_count": 3
        }
      ]
    },
    {
      "cell_type": "code",
      "metadata": {
        "id": "2DhMpCTyO4P_"
      },
      "source": [
        "Y = X+Y\n",
        "before = id (Y)"
      ],
      "execution_count": null,
      "outputs": []
    },
    {
      "cell_type": "code",
      "metadata": {
        "colab": {
          "base_uri": "https://localhost:8080/"
        },
        "id": "Qlv8zQluPFbu",
        "outputId": "27cf5788-77e2-4b8c-eff6-deac88fe55e1"
      },
      "source": [
        "before"
      ],
      "execution_count": null,
      "outputs": [
        {
          "output_type": "execute_result",
          "data": {
            "text/plain": [
              "140439088334560"
            ]
          },
          "metadata": {
            "tags": []
          },
          "execution_count": 5
        }
      ]
    },
    {
      "cell_type": "code",
      "metadata": {
        "id": "sSDX5v8-PKlh"
      },
      "source": [
        "before = id (X)"
      ],
      "execution_count": null,
      "outputs": []
    },
    {
      "cell_type": "code",
      "metadata": {
        "colab": {
          "base_uri": "https://localhost:8080/"
        },
        "id": "W188Vj8hPRu9",
        "outputId": "02998502-ba0c-4fd9-f651-c956873e56b1"
      },
      "source": [
        "before"
      ],
      "execution_count": null,
      "outputs": [
        {
          "output_type": "execute_result",
          "data": {
            "text/plain": [
              "140440446393872"
            ]
          },
          "metadata": {
            "tags": []
          },
          "execution_count": 7
        }
      ]
    },
    {
      "cell_type": "code",
      "metadata": {
        "colab": {
          "base_uri": "https://localhost:8080/",
          "height": 183
        },
        "id": "F3H3HyvTPT3E",
        "outputId": "31174bdf-6b1c-4c71-edb5-56dda876686b"
      },
      "source": [
        "X += Y\n",
        "before == id (x)"
      ],
      "execution_count": null,
      "outputs": [
        {
          "output_type": "error",
          "ename": "RuntimeError",
          "evalue": "ignored",
          "traceback": [
            "\u001b[0;31m---------------------------------------------------------------------------\u001b[0m",
            "\u001b[0;31mRuntimeError\u001b[0m                              Traceback (most recent call last)",
            "\u001b[0;32m<ipython-input-8-79dbd17261b6>\u001b[0m in \u001b[0;36m<module>\u001b[0;34m()\u001b[0m\n\u001b[0;32m----> 1\u001b[0;31m \u001b[0mX\u001b[0m \u001b[0;34m+=\u001b[0m \u001b[0mY\u001b[0m\u001b[0;34m\u001b[0m\u001b[0;34m\u001b[0m\u001b[0m\n\u001b[0m\u001b[1;32m      2\u001b[0m \u001b[0mbefore\u001b[0m \u001b[0;34m==\u001b[0m \u001b[0mid\u001b[0m \u001b[0;34m(\u001b[0m\u001b[0mx\u001b[0m\u001b[0;34m)\u001b[0m\u001b[0;34m\u001b[0m\u001b[0;34m\u001b[0m\u001b[0m\n",
            "\u001b[0;31mRuntimeError\u001b[0m: output with shape [1, 4] doesn't match the broadcast shape [3, 4]"
          ]
        }
      ]
    },
    {
      "cell_type": "code",
      "metadata": {
        "id": "96g-ug1cPcyt"
      },
      "source": [
        "a = X+Y"
      ],
      "execution_count": null,
      "outputs": []
    },
    {
      "cell_type": "code",
      "metadata": {
        "colab": {
          "base_uri": "https://localhost:8080/"
        },
        "id": "zH8xTSsQPo2l",
        "outputId": "045a92a4-2e08-418c-89ee-88ea920e9590"
      },
      "source": [
        "a"
      ],
      "execution_count": null,
      "outputs": [
        {
          "output_type": "execute_result",
          "data": {
            "text/plain": [
              "tensor([[ 0.,  1.,  2.,  3.],\n",
              "        [ 4.,  5.,  6.,  7.],\n",
              "        [ 8.,  9., 10., 11.]])"
            ]
          },
          "metadata": {
            "tags": []
          },
          "execution_count": 10
        }
      ]
    },
    {
      "cell_type": "code",
      "metadata": {
        "colab": {
          "base_uri": "https://localhost:8080/"
        },
        "id": "4OjxtyhDPsYh",
        "outputId": "c00a89c4-17b3-4904-c1b9-f6e3b3cf70fd"
      },
      "source": [
        "X = torch.zeros(3,4)\n",
        "after = id (X)\n",
        "after"
      ],
      "execution_count": null,
      "outputs": [
        {
          "output_type": "execute_result",
          "data": {
            "text/plain": [
              "140439088011296"
            ]
          },
          "metadata": {
            "tags": []
          },
          "execution_count": 11
        }
      ]
    },
    {
      "cell_type": "code",
      "metadata": {
        "colab": {
          "base_uri": "https://localhost:8080/"
        },
        "id": "gmh6FlYwQcst",
        "outputId": "f7515c68-dbef-436e-978b-1a818e1dd8ad"
      },
      "source": [
        "X += Y\n",
        "id (X)"
      ],
      "execution_count": null,
      "outputs": [
        {
          "output_type": "execute_result",
          "data": {
            "text/plain": [
              "140439088011296"
            ]
          },
          "metadata": {
            "tags": []
          },
          "execution_count": 12
        }
      ]
    },
    {
      "cell_type": "code",
      "metadata": {
        "colab": {
          "base_uri": "https://localhost:8080/"
        },
        "id": "gvoBlzfcQl1Y",
        "outputId": "e69849b5-a776-4b5f-c8b6-486d94d3d789"
      },
      "source": [
        "id (Y)"
      ],
      "execution_count": null,
      "outputs": [
        {
          "output_type": "execute_result",
          "data": {
            "text/plain": [
              "140439088334560"
            ]
          },
          "metadata": {
            "tags": []
          },
          "execution_count": 13
        }
      ]
    },
    {
      "cell_type": "code",
      "metadata": {
        "colab": {
          "base_uri": "https://localhost:8080/"
        },
        "id": "Gvz07ch4QuwW",
        "outputId": "2918706d-a6a4-448c-d6ca-30b480891a58"
      },
      "source": [
        "Y = X+Y\n",
        "id (Y)"
      ],
      "execution_count": null,
      "outputs": [
        {
          "output_type": "execute_result",
          "data": {
            "text/plain": [
              "140439088696208"
            ]
          },
          "metadata": {
            "tags": []
          },
          "execution_count": 14
        }
      ]
    },
    {
      "cell_type": "code",
      "metadata": {
        "colab": {
          "base_uri": "https://localhost:8080/"
        },
        "id": "sPZX8iPeQ0O3",
        "outputId": "b4af301f-19b2-4f73-fef7-3da25e20b658"
      },
      "source": [
        "id (X)"
      ],
      "execution_count": null,
      "outputs": [
        {
          "output_type": "execute_result",
          "data": {
            "text/plain": [
              "140439088011296"
            ]
          },
          "metadata": {
            "tags": []
          },
          "execution_count": 15
        }
      ]
    },
    {
      "cell_type": "code",
      "metadata": {
        "colab": {
          "base_uri": "https://localhost:8080/"
        },
        "id": "9udNJBWKQ6az",
        "outputId": "02bd9d74-c386-4a85-a370-95c0cf70a72c"
      },
      "source": [
        "X = X+Y\n",
        "id (X)"
      ],
      "execution_count": null,
      "outputs": [
        {
          "output_type": "execute_result",
          "data": {
            "text/plain": [
              "140439087802960"
            ]
          },
          "metadata": {
            "tags": []
          },
          "execution_count": 16
        }
      ]
    },
    {
      "cell_type": "code",
      "metadata": {
        "colab": {
          "base_uri": "https://localhost:8080/",
          "height": 183
        },
        "id": "ls7v7lZyRAF6",
        "outputId": "9be7325d-8785-4111-ce3d-6700876b3cb4"
      },
      "source": [
        "a = torch.tensor([[1, 2, 3, 4][5, 6, 7, 8]])\n",
        "a"
      ],
      "execution_count": null,
      "outputs": [
        {
          "output_type": "error",
          "ename": "TypeError",
          "evalue": "ignored",
          "traceback": [
            "\u001b[0;31m---------------------------------------------------------------------------\u001b[0m",
            "\u001b[0;31mTypeError\u001b[0m                                 Traceback (most recent call last)",
            "\u001b[0;32m<ipython-input-17-1d865118cde1>\u001b[0m in \u001b[0;36m<module>\u001b[0;34m()\u001b[0m\n\u001b[0;32m----> 1\u001b[0;31m \u001b[0ma\u001b[0m \u001b[0;34m=\u001b[0m \u001b[0mtorch\u001b[0m\u001b[0;34m.\u001b[0m\u001b[0mtensor\u001b[0m\u001b[0;34m(\u001b[0m\u001b[0;34m[\u001b[0m\u001b[0;34m[\u001b[0m\u001b[0;36m1\u001b[0m\u001b[0;34m,\u001b[0m \u001b[0;36m2\u001b[0m\u001b[0;34m,\u001b[0m \u001b[0;36m3\u001b[0m\u001b[0;34m,\u001b[0m \u001b[0;36m4\u001b[0m\u001b[0;34m]\u001b[0m\u001b[0;34m[\u001b[0m\u001b[0;36m5\u001b[0m\u001b[0;34m,\u001b[0m \u001b[0;36m6\u001b[0m\u001b[0;34m,\u001b[0m \u001b[0;36m7\u001b[0m\u001b[0;34m,\u001b[0m \u001b[0;36m8\u001b[0m\u001b[0;34m]\u001b[0m\u001b[0;34m]\u001b[0m\u001b[0;34m)\u001b[0m\u001b[0;34m\u001b[0m\u001b[0;34m\u001b[0m\u001b[0m\n\u001b[0m\u001b[1;32m      2\u001b[0m \u001b[0ma\u001b[0m\u001b[0;34m\u001b[0m\u001b[0;34m\u001b[0m\u001b[0m\n",
            "\u001b[0;31mTypeError\u001b[0m: list indices must be integers or slices, not tuple"
          ]
        }
      ]
    },
    {
      "cell_type": "code",
      "metadata": {
        "colab": {
          "base_uri": "https://localhost:8080/"
        },
        "id": "179XeUeZY7AQ",
        "outputId": "e1318571-e25e-40fc-993b-d36eb65c64d4"
      },
      "source": [
        "a = torch.tensor([[1, 2, 3, 4],[5, 6, 7, 8]])\n",
        "a"
      ],
      "execution_count": null,
      "outputs": [
        {
          "output_type": "execute_result",
          "data": {
            "text/plain": [
              "tensor([[1, 2, 3, 4],\n",
              "        [5, 6, 7, 8]])"
            ]
          },
          "metadata": {
            "tags": []
          },
          "execution_count": 18
        }
      ]
    },
    {
      "cell_type": "code",
      "metadata": {
        "id": "FGs6ahGPZE1F"
      },
      "source": [
        "import os"
      ],
      "execution_count": null,
      "outputs": []
    },
    {
      "cell_type": "code",
      "metadata": {
        "colab": {
          "base_uri": "https://localhost:8080/",
          "height": 35
        },
        "id": "rrFH5OzvkPt0",
        "outputId": "918ec1d3-689b-4586-d9a0-5cba76994fed"
      },
      "source": [
        "os.getcwd()"
      ],
      "execution_count": null,
      "outputs": [
        {
          "output_type": "execute_result",
          "data": {
            "application/vnd.google.colaboratory.intrinsic+json": {
              "type": "string"
            },
            "text/plain": [
              "'/content'"
            ]
          },
          "metadata": {
            "tags": []
          },
          "execution_count": 20
        }
      ]
    },
    {
      "cell_type": "code",
      "metadata": {
        "colab": {
          "base_uri": "https://localhost:8080/",
          "height": 166
        },
        "id": "QpTbZvHNkdbN",
        "outputId": "99630fc7-fca7-4f99-b1d5-b417281757fe"
      },
      "source": [
        "os.name"
      ],
      "execution_count": null,
      "outputs": [
        {
          "output_type": "error",
          "ename": "NameError",
          "evalue": "ignored",
          "traceback": [
            "\u001b[0;31m---------------------------------------------------------------------------\u001b[0m",
            "\u001b[0;31mNameError\u001b[0m                                 Traceback (most recent call last)",
            "\u001b[0;32m<ipython-input-1-2d8dd36a91b6>\u001b[0m in \u001b[0;36m<module>\u001b[0;34m()\u001b[0m\n\u001b[0;32m----> 1\u001b[0;31m \u001b[0mos\u001b[0m\u001b[0;34m.\u001b[0m\u001b[0mname\u001b[0m\u001b[0;34m\u001b[0m\u001b[0;34m\u001b[0m\u001b[0m\n\u001b[0m",
            "\u001b[0;31mNameError\u001b[0m: name 'os' is not defined"
          ]
        }
      ]
    },
    {
      "cell_type": "code",
      "metadata": {
        "colab": {
          "base_uri": "https://localhost:8080/",
          "height": 35
        },
        "id": "u9nIPTIEa3iC",
        "outputId": "bf7c6347-d25c-4392-a26e-7954a720307e"
      },
      "source": [
        "import os\n",
        "os.name"
      ],
      "execution_count": null,
      "outputs": [
        {
          "output_type": "execute_result",
          "data": {
            "application/vnd.google.colaboratory.intrinsic+json": {
              "type": "string"
            },
            "text/plain": [
              "'posix'"
            ]
          },
          "metadata": {
            "tags": []
          },
          "execution_count": 2
        }
      ]
    },
    {
      "cell_type": "code",
      "metadata": {
        "id": "jU4V3yREa7Aa"
      },
      "source": [
        "os.makedirs(os.path.join('..','data'), exist_ok=True)\n",
        "data_file = os.path.join('..', 'data', 'house_tiny.csv')\n",
        "with open(data_file, 'w') as f:\n",
        "  f.write('NumRooms, Alley, Price\\n')\n",
        "  f.write('NA, Pave, 127508\\n')\n",
        "  f.write('2, NA, 106000\\n')\n",
        "  f.write('4, NA, 178100\\n')\n",
        "  f.write('NA, NA, 140000\\n')"
      ],
      "execution_count": null,
      "outputs": []
    },
    {
      "cell_type": "code",
      "metadata": {
        "id": "wUr7HU_oiRe9"
      },
      "source": [
        "import pandas as pd\n",
        "data = pd.read_csv(data_file)"
      ],
      "execution_count": null,
      "outputs": []
    },
    {
      "cell_type": "code",
      "metadata": {
        "colab": {
          "base_uri": "https://localhost:8080/",
          "height": 175
        },
        "id": "IgDvWRAGifV3",
        "outputId": "3fba819e-f0c5-4249-ec08-00685b94da87"
      },
      "source": [
        "data"
      ],
      "execution_count": null,
      "outputs": [
        {
          "output_type": "execute_result",
          "data": {
            "text/html": [
              "<div>\n",
              "<style scoped>\n",
              "    .dataframe tbody tr th:only-of-type {\n",
              "        vertical-align: middle;\n",
              "    }\n",
              "\n",
              "    .dataframe tbody tr th {\n",
              "        vertical-align: top;\n",
              "    }\n",
              "\n",
              "    .dataframe thead th {\n",
              "        text-align: right;\n",
              "    }\n",
              "</style>\n",
              "<table border=\"1\" class=\"dataframe\">\n",
              "  <thead>\n",
              "    <tr style=\"text-align: right;\">\n",
              "      <th></th>\n",
              "      <th>NumRooms</th>\n",
              "      <th>Alley</th>\n",
              "      <th>Price</th>\n",
              "    </tr>\n",
              "  </thead>\n",
              "  <tbody>\n",
              "    <tr>\n",
              "      <th>0</th>\n",
              "      <td>NaN</td>\n",
              "      <td>Pave</td>\n",
              "      <td>127508</td>\n",
              "    </tr>\n",
              "    <tr>\n",
              "      <th>1</th>\n",
              "      <td>2.0</td>\n",
              "      <td>NA</td>\n",
              "      <td>106000</td>\n",
              "    </tr>\n",
              "    <tr>\n",
              "      <th>2</th>\n",
              "      <td>4.0</td>\n",
              "      <td>NA</td>\n",
              "      <td>178100</td>\n",
              "    </tr>\n",
              "    <tr>\n",
              "      <th>3</th>\n",
              "      <td>NaN</td>\n",
              "      <td>NA</td>\n",
              "      <td>140000</td>\n",
              "    </tr>\n",
              "  </tbody>\n",
              "</table>\n",
              "</div>"
            ],
            "text/plain": [
              "   NumRooms  Alley   Price\n",
              "0       NaN   Pave  127508\n",
              "1       2.0     NA  106000\n",
              "2       4.0     NA  178100\n",
              "3       NaN     NA  140000"
            ]
          },
          "metadata": {
            "tags": []
          },
          "execution_count": 5
        }
      ]
    },
    {
      "cell_type": "code",
      "metadata": {
        "colab": {
          "base_uri": "https://localhost:8080/",
          "height": 175
        },
        "id": "CiwkaQXYigfp",
        "outputId": "36cbb9d0-04e2-4cb0-e976-543a083a1861"
      },
      "source": [
        "data"
      ],
      "execution_count": null,
      "outputs": [
        {
          "output_type": "execute_result",
          "data": {
            "text/html": [
              "<div>\n",
              "<style scoped>\n",
              "    .dataframe tbody tr th:only-of-type {\n",
              "        vertical-align: middle;\n",
              "    }\n",
              "\n",
              "    .dataframe tbody tr th {\n",
              "        vertical-align: top;\n",
              "    }\n",
              "\n",
              "    .dataframe thead th {\n",
              "        text-align: right;\n",
              "    }\n",
              "</style>\n",
              "<table border=\"1\" class=\"dataframe\">\n",
              "  <thead>\n",
              "    <tr style=\"text-align: right;\">\n",
              "      <th></th>\n",
              "      <th>NumRooms</th>\n",
              "      <th>Alley</th>\n",
              "      <th>Price</th>\n",
              "    </tr>\n",
              "  </thead>\n",
              "  <tbody>\n",
              "    <tr>\n",
              "      <th>0</th>\n",
              "      <td>NaN</td>\n",
              "      <td>Pave</td>\n",
              "      <td>127508</td>\n",
              "    </tr>\n",
              "    <tr>\n",
              "      <th>1</th>\n",
              "      <td>2.0</td>\n",
              "      <td>NA</td>\n",
              "      <td>106000</td>\n",
              "    </tr>\n",
              "    <tr>\n",
              "      <th>2</th>\n",
              "      <td>4.0</td>\n",
              "      <td>NA</td>\n",
              "      <td>178100</td>\n",
              "    </tr>\n",
              "    <tr>\n",
              "      <th>3</th>\n",
              "      <td>NaN</td>\n",
              "      <td>NA</td>\n",
              "      <td>140000</td>\n",
              "    </tr>\n",
              "  </tbody>\n",
              "</table>\n",
              "</div>"
            ],
            "text/plain": [
              "   NumRooms  Alley   Price\n",
              "0       NaN   Pave  127508\n",
              "1       2.0     NA  106000\n",
              "2       4.0     NA  178100\n",
              "3       NaN     NA  140000"
            ]
          },
          "metadata": {
            "tags": []
          },
          "execution_count": 6
        }
      ]
    },
    {
      "cell_type": "code",
      "metadata": {
        "colab": {
          "base_uri": "https://localhost:8080/",
          "height": 131
        },
        "id": "9rW7UxpGiuHG",
        "outputId": "d7a94784-fd60-4de8-af48-7bdb5ff1e43b"
      },
      "source": [
        "inputs, outputs = data.iloc[:, 0:2], data.iloc[;, 2]\n",
        "inputs = inputs.fillna(inputs.mean())\n",
        "inputs"
      ],
      "execution_count": null,
      "outputs": [
        {
          "output_type": "error",
          "ename": "SyntaxError",
          "evalue": "ignored",
          "traceback": [
            "\u001b[0;36m  File \u001b[0;32m\"<ipython-input-7-3228b5554442>\"\u001b[0;36m, line \u001b[0;32m1\u001b[0m\n\u001b[0;31m    inputs, outputs = data.iloc[:, 0:2], data.iloc[;, 2]\u001b[0m\n\u001b[0m                                                   ^\u001b[0m\n\u001b[0;31mSyntaxError\u001b[0m\u001b[0;31m:\u001b[0m invalid syntax\n"
          ]
        }
      ]
    },
    {
      "cell_type": "code",
      "metadata": {
        "colab": {
          "base_uri": "https://localhost:8080/",
          "height": 175
        },
        "id": "63ewQpA9rVZd",
        "outputId": "f34f9cd9-8bad-4442-e9ec-4459c159a284"
      },
      "source": [
        "inputs, outputs = data.iloc[:, 0:2], data.iloc[:, 2]\n",
        "inputs = inputs.fillna(inputs.mean())\n",
        "inputs"
      ],
      "execution_count": null,
      "outputs": [
        {
          "output_type": "execute_result",
          "data": {
            "text/html": [
              "<div>\n",
              "<style scoped>\n",
              "    .dataframe tbody tr th:only-of-type {\n",
              "        vertical-align: middle;\n",
              "    }\n",
              "\n",
              "    .dataframe tbody tr th {\n",
              "        vertical-align: top;\n",
              "    }\n",
              "\n",
              "    .dataframe thead th {\n",
              "        text-align: right;\n",
              "    }\n",
              "</style>\n",
              "<table border=\"1\" class=\"dataframe\">\n",
              "  <thead>\n",
              "    <tr style=\"text-align: right;\">\n",
              "      <th></th>\n",
              "      <th>NumRooms</th>\n",
              "      <th>Alley</th>\n",
              "    </tr>\n",
              "  </thead>\n",
              "  <tbody>\n",
              "    <tr>\n",
              "      <th>0</th>\n",
              "      <td>3.0</td>\n",
              "      <td>Pave</td>\n",
              "    </tr>\n",
              "    <tr>\n",
              "      <th>1</th>\n",
              "      <td>2.0</td>\n",
              "      <td>NA</td>\n",
              "    </tr>\n",
              "    <tr>\n",
              "      <th>2</th>\n",
              "      <td>4.0</td>\n",
              "      <td>NA</td>\n",
              "    </tr>\n",
              "    <tr>\n",
              "      <th>3</th>\n",
              "      <td>3.0</td>\n",
              "      <td>NA</td>\n",
              "    </tr>\n",
              "  </tbody>\n",
              "</table>\n",
              "</div>"
            ],
            "text/plain": [
              "   NumRooms  Alley\n",
              "0       3.0   Pave\n",
              "1       2.0     NA\n",
              "2       4.0     NA\n",
              "3       3.0     NA"
            ]
          },
          "metadata": {
            "tags": []
          },
          "execution_count": 8
        }
      ]
    },
    {
      "cell_type": "code",
      "metadata": {
        "id": "Yk6Dyek3raio"
      },
      "source": [
        "os.makedirs(os.path.join('..','data'), exist_ok=True)\n",
        "data_file = os.path.join('..', 'data', 'house_tiny.csv')\n",
        "with open(data_file, 'w') as f:\n",
        "  f.write('NumRooms, Alley, Price\\n')\n",
        "  f.write('NA, Pave, 127508\\n')\n",
        "  f.write('2,NA, 106000\\n')\n",
        "  f.write('4,NA, 178100\\n')\n",
        "  f.write('NA,NA, 140000\\n')"
      ],
      "execution_count": null,
      "outputs": []
    },
    {
      "cell_type": "code",
      "metadata": {
        "colab": {
          "base_uri": "https://localhost:8080/",
          "height": 35
        },
        "id": "43922TVesjFi",
        "outputId": "ade0b41e-07b2-4d90-fccf-beda067fdfa9"
      },
      "source": [
        "data_file"
      ],
      "execution_count": null,
      "outputs": [
        {
          "output_type": "execute_result",
          "data": {
            "application/vnd.google.colaboratory.intrinsic+json": {
              "type": "string"
            },
            "text/plain": [
              "'../data/house_tiny.csv'"
            ]
          },
          "metadata": {
            "tags": []
          },
          "execution_count": 10
        }
      ]
    },
    {
      "cell_type": "code",
      "metadata": {
        "id": "tF2ICFBjslzj"
      },
      "source": [
        "data = pd.read_csv(data_file)"
      ],
      "execution_count": null,
      "outputs": []
    },
    {
      "cell_type": "code",
      "metadata": {
        "colab": {
          "base_uri": "https://localhost:8080/",
          "height": 175
        },
        "id": "W3m5gM3hswo4",
        "outputId": "ad5b3918-969d-4adc-90b5-254cbd081194"
      },
      "source": [
        "data\n"
      ],
      "execution_count": null,
      "outputs": [
        {
          "output_type": "execute_result",
          "data": {
            "text/html": [
              "<div>\n",
              "<style scoped>\n",
              "    .dataframe tbody tr th:only-of-type {\n",
              "        vertical-align: middle;\n",
              "    }\n",
              "\n",
              "    .dataframe tbody tr th {\n",
              "        vertical-align: top;\n",
              "    }\n",
              "\n",
              "    .dataframe thead th {\n",
              "        text-align: right;\n",
              "    }\n",
              "</style>\n",
              "<table border=\"1\" class=\"dataframe\">\n",
              "  <thead>\n",
              "    <tr style=\"text-align: right;\">\n",
              "      <th></th>\n",
              "      <th>NumRooms</th>\n",
              "      <th>Alley</th>\n",
              "      <th>Price</th>\n",
              "    </tr>\n",
              "  </thead>\n",
              "  <tbody>\n",
              "    <tr>\n",
              "      <th>0</th>\n",
              "      <td>NaN</td>\n",
              "      <td>Pave</td>\n",
              "      <td>127508</td>\n",
              "    </tr>\n",
              "    <tr>\n",
              "      <th>1</th>\n",
              "      <td>2.0</td>\n",
              "      <td>NaN</td>\n",
              "      <td>106000</td>\n",
              "    </tr>\n",
              "    <tr>\n",
              "      <th>2</th>\n",
              "      <td>4.0</td>\n",
              "      <td>NaN</td>\n",
              "      <td>178100</td>\n",
              "    </tr>\n",
              "    <tr>\n",
              "      <th>3</th>\n",
              "      <td>NaN</td>\n",
              "      <td>NaN</td>\n",
              "      <td>140000</td>\n",
              "    </tr>\n",
              "  </tbody>\n",
              "</table>\n",
              "</div>"
            ],
            "text/plain": [
              "   NumRooms  Alley   Price\n",
              "0       NaN   Pave  127508\n",
              "1       2.0    NaN  106000\n",
              "2       4.0    NaN  178100\n",
              "3       NaN    NaN  140000"
            ]
          },
          "metadata": {
            "tags": []
          },
          "execution_count": 12
        }
      ]
    },
    {
      "cell_type": "code",
      "metadata": {
        "id": "4d25RBfws0GN"
      },
      "source": [
        "import numpy as np\n",
        "df = pd.DataFrame({'key': ['b', 'b', 'a', 'c', 'a', 'b'], 'data1': np.arange(6)})"
      ],
      "execution_count": null,
      "outputs": []
    },
    {
      "cell_type": "code",
      "metadata": {
        "colab": {
          "base_uri": "https://localhost:8080/",
          "height": 237
        },
        "id": "3qU80p-26MBo",
        "outputId": "511ed9d3-37d5-46d3-c8d2-53b16419b8d8"
      },
      "source": [
        "df"
      ],
      "execution_count": null,
      "outputs": [
        {
          "output_type": "execute_result",
          "data": {
            "text/html": [
              "<div>\n",
              "<style scoped>\n",
              "    .dataframe tbody tr th:only-of-type {\n",
              "        vertical-align: middle;\n",
              "    }\n",
              "\n",
              "    .dataframe tbody tr th {\n",
              "        vertical-align: top;\n",
              "    }\n",
              "\n",
              "    .dataframe thead th {\n",
              "        text-align: right;\n",
              "    }\n",
              "</style>\n",
              "<table border=\"1\" class=\"dataframe\">\n",
              "  <thead>\n",
              "    <tr style=\"text-align: right;\">\n",
              "      <th></th>\n",
              "      <th>key</th>\n",
              "      <th>data1</th>\n",
              "    </tr>\n",
              "  </thead>\n",
              "  <tbody>\n",
              "    <tr>\n",
              "      <th>0</th>\n",
              "      <td>b</td>\n",
              "      <td>0</td>\n",
              "    </tr>\n",
              "    <tr>\n",
              "      <th>1</th>\n",
              "      <td>b</td>\n",
              "      <td>1</td>\n",
              "    </tr>\n",
              "    <tr>\n",
              "      <th>2</th>\n",
              "      <td>a</td>\n",
              "      <td>2</td>\n",
              "    </tr>\n",
              "    <tr>\n",
              "      <th>3</th>\n",
              "      <td>c</td>\n",
              "      <td>3</td>\n",
              "    </tr>\n",
              "    <tr>\n",
              "      <th>4</th>\n",
              "      <td>a</td>\n",
              "      <td>4</td>\n",
              "    </tr>\n",
              "    <tr>\n",
              "      <th>5</th>\n",
              "      <td>b</td>\n",
              "      <td>5</td>\n",
              "    </tr>\n",
              "  </tbody>\n",
              "</table>\n",
              "</div>"
            ],
            "text/plain": [
              "  key  data1\n",
              "0   b      0\n",
              "1   b      1\n",
              "2   a      2\n",
              "3   c      3\n",
              "4   a      4\n",
              "5   b      5"
            ]
          },
          "metadata": {
            "tags": []
          },
          "execution_count": 14
        }
      ]
    },
    {
      "cell_type": "code",
      "metadata": {
        "colab": {
          "base_uri": "https://localhost:8080/",
          "height": 237
        },
        "id": "kxggdl7V6Nvu",
        "outputId": "5293dd35-8a27-42e5-b689-84228ff873e9"
      },
      "source": [
        "pd.get_dummies(df['key'])"
      ],
      "execution_count": null,
      "outputs": [
        {
          "output_type": "execute_result",
          "data": {
            "text/html": [
              "<div>\n",
              "<style scoped>\n",
              "    .dataframe tbody tr th:only-of-type {\n",
              "        vertical-align: middle;\n",
              "    }\n",
              "\n",
              "    .dataframe tbody tr th {\n",
              "        vertical-align: top;\n",
              "    }\n",
              "\n",
              "    .dataframe thead th {\n",
              "        text-align: right;\n",
              "    }\n",
              "</style>\n",
              "<table border=\"1\" class=\"dataframe\">\n",
              "  <thead>\n",
              "    <tr style=\"text-align: right;\">\n",
              "      <th></th>\n",
              "      <th>a</th>\n",
              "      <th>b</th>\n",
              "      <th>c</th>\n",
              "    </tr>\n",
              "  </thead>\n",
              "  <tbody>\n",
              "    <tr>\n",
              "      <th>0</th>\n",
              "      <td>0</td>\n",
              "      <td>1</td>\n",
              "      <td>0</td>\n",
              "    </tr>\n",
              "    <tr>\n",
              "      <th>1</th>\n",
              "      <td>0</td>\n",
              "      <td>1</td>\n",
              "      <td>0</td>\n",
              "    </tr>\n",
              "    <tr>\n",
              "      <th>2</th>\n",
              "      <td>1</td>\n",
              "      <td>0</td>\n",
              "      <td>0</td>\n",
              "    </tr>\n",
              "    <tr>\n",
              "      <th>3</th>\n",
              "      <td>0</td>\n",
              "      <td>0</td>\n",
              "      <td>1</td>\n",
              "    </tr>\n",
              "    <tr>\n",
              "      <th>4</th>\n",
              "      <td>1</td>\n",
              "      <td>0</td>\n",
              "      <td>0</td>\n",
              "    </tr>\n",
              "    <tr>\n",
              "      <th>5</th>\n",
              "      <td>0</td>\n",
              "      <td>1</td>\n",
              "      <td>0</td>\n",
              "    </tr>\n",
              "  </tbody>\n",
              "</table>\n",
              "</div>"
            ],
            "text/plain": [
              "   a  b  c\n",
              "0  0  1  0\n",
              "1  0  1  0\n",
              "2  1  0  0\n",
              "3  0  0  1\n",
              "4  1  0  0\n",
              "5  0  1  0"
            ]
          },
          "metadata": {
            "tags": []
          },
          "execution_count": 15
        }
      ]
    },
    {
      "cell_type": "code",
      "metadata": {
        "colab": {
          "base_uri": "https://localhost:8080/",
          "height": 175
        },
        "id": "Lz9sIeIx6hE7",
        "outputId": "0ec817b4-5048-4ce2-c261-5d97bd62f346"
      },
      "source": [
        "inputs = pd.get_dummies(inputs, dummy_na=True)\n",
        "inputs"
      ],
      "execution_count": null,
      "outputs": [
        {
          "output_type": "execute_result",
          "data": {
            "text/html": [
              "<div>\n",
              "<style scoped>\n",
              "    .dataframe tbody tr th:only-of-type {\n",
              "        vertical-align: middle;\n",
              "    }\n",
              "\n",
              "    .dataframe tbody tr th {\n",
              "        vertical-align: top;\n",
              "    }\n",
              "\n",
              "    .dataframe thead th {\n",
              "        text-align: right;\n",
              "    }\n",
              "</style>\n",
              "<table border=\"1\" class=\"dataframe\">\n",
              "  <thead>\n",
              "    <tr style=\"text-align: right;\">\n",
              "      <th></th>\n",
              "      <th>NumRooms</th>\n",
              "      <th>Alley_ NA</th>\n",
              "      <th>Alley_ Pave</th>\n",
              "      <th>Alley_nan</th>\n",
              "    </tr>\n",
              "  </thead>\n",
              "  <tbody>\n",
              "    <tr>\n",
              "      <th>0</th>\n",
              "      <td>3.0</td>\n",
              "      <td>0</td>\n",
              "      <td>1</td>\n",
              "      <td>0</td>\n",
              "    </tr>\n",
              "    <tr>\n",
              "      <th>1</th>\n",
              "      <td>2.0</td>\n",
              "      <td>1</td>\n",
              "      <td>0</td>\n",
              "      <td>0</td>\n",
              "    </tr>\n",
              "    <tr>\n",
              "      <th>2</th>\n",
              "      <td>4.0</td>\n",
              "      <td>1</td>\n",
              "      <td>0</td>\n",
              "      <td>0</td>\n",
              "    </tr>\n",
              "    <tr>\n",
              "      <th>3</th>\n",
              "      <td>3.0</td>\n",
              "      <td>1</td>\n",
              "      <td>0</td>\n",
              "      <td>0</td>\n",
              "    </tr>\n",
              "  </tbody>\n",
              "</table>\n",
              "</div>"
            ],
            "text/plain": [
              "   NumRooms   Alley_ NA   Alley_ Pave   Alley_nan\n",
              "0       3.0           0             1           0\n",
              "1       2.0           1             0           0\n",
              "2       4.0           1             0           0\n",
              "3       3.0           1             0           0"
            ]
          },
          "metadata": {
            "tags": []
          },
          "execution_count": 16
        }
      ]
    },
    {
      "cell_type": "code",
      "metadata": {
        "id": "nrGRn9Vo8IHV",
        "colab": {
          "base_uri": "https://localhost:8080/"
        },
        "outputId": "011d2808-5256-4540-8e3e-b2058ae22dd9"
      },
      "source": [
        "import torch\n",
        "X = torch.tensor(3.6)\n",
        "X"
      ],
      "execution_count": null,
      "outputs": [
        {
          "output_type": "execute_result",
          "data": {
            "text/plain": [
              "tensor(3.6000)"
            ]
          },
          "metadata": {
            "tags": []
          },
          "execution_count": 1
        }
      ]
    },
    {
      "cell_type": "code",
      "metadata": {
        "id": "dO2wRL8RKNlO"
      },
      "source": [
        "X = torch.tensor([3.6])"
      ],
      "execution_count": null,
      "outputs": []
    },
    {
      "cell_type": "code",
      "metadata": {
        "colab": {
          "base_uri": "https://localhost:8080/"
        },
        "id": "3naO6N3eKVQu",
        "outputId": "fe20c77f-78cc-4fd4-8bd5-b7cecbfa4dee"
      },
      "source": [
        "X"
      ],
      "execution_count": null,
      "outputs": [
        {
          "output_type": "execute_result",
          "data": {
            "text/plain": [
              "tensor([3.6000])"
            ]
          },
          "metadata": {
            "tags": []
          },
          "execution_count": 3
        }
      ]
    },
    {
      "cell_type": "code",
      "metadata": {
        "colab": {
          "base_uri": "https://localhost:8080/"
        },
        "id": "ZCsLWDWkKWhE",
        "outputId": "cc49e7b1-697e-4f7a-b59a-32bae053bd47"
      },
      "source": [
        "X.shape"
      ],
      "execution_count": null,
      "outputs": [
        {
          "output_type": "execute_result",
          "data": {
            "text/plain": [
              "torch.Size([1])"
            ]
          },
          "metadata": {
            "tags": []
          },
          "execution_count": 4
        }
      ]
    },
    {
      "cell_type": "code",
      "metadata": {
        "colab": {
          "base_uri": "https://localhost:8080/",
          "height": 183
        },
        "id": "ctafKEmTKutZ",
        "outputId": "3d2cd353-5782-46e6-e112-9dbbd7dd2c0d"
      },
      "source": [
        "Y = torch.tensor(3)\n",
        "Y.shappe"
      ],
      "execution_count": null,
      "outputs": [
        {
          "output_type": "error",
          "ename": "AttributeError",
          "evalue": "ignored",
          "traceback": [
            "\u001b[0;31m---------------------------------------------------------------------------\u001b[0m",
            "\u001b[0;31mAttributeError\u001b[0m                            Traceback (most recent call last)",
            "\u001b[0;32m<ipython-input-5-93c4a3e8cbb9>\u001b[0m in \u001b[0;36m<module>\u001b[0;34m()\u001b[0m\n\u001b[1;32m      1\u001b[0m \u001b[0mY\u001b[0m \u001b[0;34m=\u001b[0m \u001b[0mtorch\u001b[0m\u001b[0;34m.\u001b[0m\u001b[0mtensor\u001b[0m\u001b[0;34m(\u001b[0m\u001b[0;36m3\u001b[0m\u001b[0;34m)\u001b[0m\u001b[0;34m\u001b[0m\u001b[0;34m\u001b[0m\u001b[0m\n\u001b[0;32m----> 2\u001b[0;31m \u001b[0mY\u001b[0m\u001b[0;34m.\u001b[0m\u001b[0mshappe\u001b[0m\u001b[0;34m\u001b[0m\u001b[0;34m\u001b[0m\u001b[0m\n\u001b[0m",
            "\u001b[0;31mAttributeError\u001b[0m: 'Tensor' object has no attribute 'shappe'"
          ]
        }
      ]
    },
    {
      "cell_type": "code",
      "metadata": {
        "colab": {
          "base_uri": "https://localhost:8080/"
        },
        "id": "015wK8_FK0Vb",
        "outputId": "2b93a886-6f6d-426a-b3a9-f6dddda455e6"
      },
      "source": [
        "Y = torch.tensor(3)\n",
        "Y.shape"
      ],
      "execution_count": null,
      "outputs": [
        {
          "output_type": "execute_result",
          "data": {
            "text/plain": [
              "torch.Size([])"
            ]
          },
          "metadata": {
            "tags": []
          },
          "execution_count": 6
        }
      ]
    },
    {
      "cell_type": "code",
      "metadata": {
        "colab": {
          "base_uri": "https://localhost:8080/"
        },
        "id": "3j2wnzFyK3Qu",
        "outputId": "986d5a75-12a5-43e3-afc3-2f33c79ce3c6"
      },
      "source": [
        "A = torch.arange(20).reshape(2, 2, 5)\n",
        "A_sum_axis0 = A.sum(axis=0)\n",
        "A_sum_axis0, A_sum_axis0.shape"
      ],
      "execution_count": null,
      "outputs": [
        {
          "output_type": "execute_result",
          "data": {
            "text/plain": [
              "(tensor([[10, 12, 14, 16, 18],\n",
              "         [20, 22, 24, 26, 28]]), torch.Size([2, 5]))"
            ]
          },
          "metadata": {
            "tags": []
          },
          "execution_count": 7
        }
      ]
    },
    {
      "cell_type": "code",
      "metadata": {
        "colab": {
          "base_uri": "https://localhost:8080/"
        },
        "id": "tF48VkccQH8v",
        "outputId": "849b1a1e-5c7e-4836-98a5-a16e2d369c3f"
      },
      "source": [
        "A"
      ],
      "execution_count": null,
      "outputs": [
        {
          "output_type": "execute_result",
          "data": {
            "text/plain": [
              "tensor([[[ 0,  1,  2,  3,  4],\n",
              "         [ 5,  6,  7,  8,  9]],\n",
              "\n",
              "        [[10, 11, 12, 13, 14],\n",
              "         [15, 16, 17, 18, 19]]])"
            ]
          },
          "metadata": {
            "tags": []
          },
          "execution_count": 8
        }
      ]
    },
    {
      "cell_type": "code",
      "metadata": {
        "colab": {
          "base_uri": "https://localhost:8080/"
        },
        "id": "GZz49rSHQLeI",
        "outputId": "04a894c3-f4a1-41de-f9ab-e37facb95a0f"
      },
      "source": [
        "A_sum_axis1 = A.sum(axis=1)\n",
        "A_sum_axis1, A_sum_axis1.shape"
      ],
      "execution_count": null,
      "outputs": [
        {
          "output_type": "execute_result",
          "data": {
            "text/plain": [
              "(tensor([[ 5,  7,  9, 11, 13],\n",
              "         [25, 27, 29, 31, 33]]), torch.Size([2, 5]))"
            ]
          },
          "metadata": {
            "tags": []
          },
          "execution_count": 9
        }
      ]
    },
    {
      "cell_type": "code",
      "metadata": {
        "colab": {
          "base_uri": "https://localhost:8080/",
          "height": 183
        },
        "id": "gWJxDStMRkP0",
        "outputId": "738b88bf-53b5-462d-9dee-ccdf6c251e33"
      },
      "source": [
        "A_sum_axix2 = A.sum(axis=2)\n",
        "A_sum_axis2, A_sum_axis2.shape"
      ],
      "execution_count": null,
      "outputs": [
        {
          "output_type": "error",
          "ename": "NameError",
          "evalue": "ignored",
          "traceback": [
            "\u001b[0;31m---------------------------------------------------------------------------\u001b[0m",
            "\u001b[0;31mNameError\u001b[0m                                 Traceback (most recent call last)",
            "\u001b[0;32m<ipython-input-10-cace33b88029>\u001b[0m in \u001b[0;36m<module>\u001b[0;34m()\u001b[0m\n\u001b[1;32m      1\u001b[0m \u001b[0mA_sum_axix2\u001b[0m \u001b[0;34m=\u001b[0m \u001b[0mA\u001b[0m\u001b[0;34m.\u001b[0m\u001b[0msum\u001b[0m\u001b[0;34m(\u001b[0m\u001b[0maxis\u001b[0m\u001b[0;34m=\u001b[0m\u001b[0;36m2\u001b[0m\u001b[0;34m)\u001b[0m\u001b[0;34m\u001b[0m\u001b[0;34m\u001b[0m\u001b[0m\n\u001b[0;32m----> 2\u001b[0;31m \u001b[0mA_sum_axis2\u001b[0m\u001b[0;34m,\u001b[0m \u001b[0mA_sum_axis2\u001b[0m\u001b[0;34m.\u001b[0m\u001b[0mshape\u001b[0m\u001b[0;34m\u001b[0m\u001b[0;34m\u001b[0m\u001b[0m\n\u001b[0m",
            "\u001b[0;31mNameError\u001b[0m: name 'A_sum_axis2' is not defined"
          ]
        }
      ]
    },
    {
      "cell_type": "code",
      "metadata": {
        "colab": {
          "base_uri": "https://localhost:8080/"
        },
        "id": "kzS5BKC1RxFD",
        "outputId": "4176e295-70d1-4171-84eb-795a60f3c629"
      },
      "source": [
        "A_sum_axis2 = A.sum(axis=2)\n",
        "A_sum_axis2, A_sum_axis2.shape"
      ],
      "execution_count": null,
      "outputs": [
        {
          "output_type": "execute_result",
          "data": {
            "text/plain": [
              "(tensor([[10, 35],\n",
              "         [60, 85]]), torch.Size([2, 2]))"
            ]
          },
          "metadata": {
            "tags": []
          },
          "execution_count": 11
        }
      ]
    },
    {
      "cell_type": "code",
      "metadata": {
        "colab": {
          "base_uri": "https://localhost:8080/"
        },
        "id": "XLmNc-osR2Mj",
        "outputId": "7ae0af97-ab6b-4138-e849-122f40adb5c8"
      },
      "source": [
        "A_sum_axis1 = A.sum(axis=1, keepdim=True)\n",
        "A_sum_axis1, A_sum_axis1.shape"
      ],
      "execution_count": null,
      "outputs": [
        {
          "output_type": "execute_result",
          "data": {
            "text/plain": [
              "(tensor([[[ 5,  7,  9, 11, 13]],\n",
              " \n",
              "         [[25, 27, 29, 31, 33]]]), torch.Size([2, 1, 5]))"
            ]
          },
          "metadata": {
            "tags": []
          },
          "execution_count": 12
        }
      ]
    },
    {
      "cell_type": "code",
      "metadata": {
        "colab": {
          "base_uri": "https://localhost:8080/"
        },
        "id": "Lqdwv8kATys9",
        "outputId": "49890663-8b11-483f-b85a-28157a9ca5ef"
      },
      "source": [
        "A.cumsum(axis=0)"
      ],
      "execution_count": null,
      "outputs": [
        {
          "output_type": "execute_result",
          "data": {
            "text/plain": [
              "tensor([[[ 0,  1,  2,  3,  4],\n",
              "         [ 5,  6,  7,  8,  9]],\n",
              "\n",
              "        [[10, 12, 14, 16, 18],\n",
              "         [20, 22, 24, 26, 28]]])"
            ]
          },
          "metadata": {
            "tags": []
          },
          "execution_count": 13
        }
      ]
    },
    {
      "cell_type": "code",
      "metadata": {
        "colab": {
          "base_uri": "https://localhost:8080/"
        },
        "id": "-LDPFuwTd_0_",
        "outputId": "e154b3be-e803-4647-fcd8-831a00a342b1"
      },
      "source": [
        "  A"
      ],
      "execution_count": null,
      "outputs": [
        {
          "output_type": "execute_result",
          "data": {
            "text/plain": [
              "tensor([[[ 0,  1,  2,  3,  4],\n",
              "         [ 5,  6,  7,  8,  9]],\n",
              "\n",
              "        [[10, 11, 12, 13, 14],\n",
              "         [15, 16, 17, 18, 19]]])"
            ]
          },
          "metadata": {
            "tags": []
          },
          "execution_count": 14
        }
      ]
    },
    {
      "cell_type": "code",
      "metadata": {
        "colab": {
          "base_uri": "https://localhost:8080/"
        },
        "id": "1Ak1zjB5eGg5",
        "outputId": "ff40d487-292a-4155-f1a9-af38e0cb181f"
      },
      "source": [
        "A.cumsum(axis = 1)\n"
      ],
      "execution_count": null,
      "outputs": [
        {
          "output_type": "execute_result",
          "data": {
            "text/plain": [
              "tensor([[[ 0,  1,  2,  3,  4],\n",
              "         [ 5,  7,  9, 11, 13]],\n",
              "\n",
              "        [[10, 11, 12, 13, 14],\n",
              "         [25, 27, 29, 31, 33]]])"
            ]
          },
          "metadata": {
            "tags": []
          },
          "execution_count": 15
        }
      ]
    },
    {
      "cell_type": "code",
      "metadata": {
        "colab": {
          "base_uri": "https://localhost:8080/"
        },
        "id": "jsQ1LotnfBlj",
        "outputId": "058fb806-c70e-4593-ac27-4128f694c018"
      },
      "source": [
        "A.cumsum(axis = 2)"
      ],
      "execution_count": null,
      "outputs": [
        {
          "output_type": "execute_result",
          "data": {
            "text/plain": [
              "tensor([[[ 0,  1,  3,  6, 10],\n",
              "         [ 5, 11, 18, 26, 35]],\n",
              "\n",
              "        [[10, 21, 33, 46, 60],\n",
              "         [15, 31, 48, 66, 85]]])"
            ]
          },
          "metadata": {
            "tags": []
          },
          "execution_count": 16
        }
      ]
    },
    {
      "cell_type": "code",
      "metadata": {
        "colab": {
          "base_uri": "https://localhost:8080/"
        },
        "id": "6WeX37ggfLRy",
        "outputId": "0ac7de3a-c9a6-440c-ff28-4fe350e03554"
      },
      "source": [
        "print ('my name is %s' % 'gyn')"
      ],
      "execution_count": null,
      "outputs": [
        {
          "output_type": "stream",
          "text": [
            "my name is gyn\n"
          ],
          "name": "stdout"
        }
      ]
    },
    {
      "cell_type": "code",
      "metadata": {
        "colab": {
          "base_uri": "https://localhost:8080/",
          "height": 131
        },
        "id": "IfCsGWhfRMYR",
        "outputId": "d58c351f-7eb7-40e7-fc99-d0f88ab6bb48"
      },
      "source": [
        "print ('i am %(name)s age %(age) .2f'% {'name':'gyn', 'age':18})\\n"
      ],
      "execution_count": null,
      "outputs": [
        {
          "output_type": "error",
          "ename": "SyntaxError",
          "evalue": "ignored",
          "traceback": [
            "\u001b[0;36m  File \u001b[0;32m\"<ipython-input-12-de451d117296>\"\u001b[0;36m, line \u001b[0;32m1\u001b[0m\n\u001b[0;31m    print ('i am %(name)s age %(age) .2f'% {'name':'gyn', 'age':18})\\n\u001b[0m\n\u001b[0m                                                                      ^\u001b[0m\n\u001b[0;31mSyntaxError\u001b[0m\u001b[0;31m:\u001b[0m unexpected character after line continuation character\n"
          ]
        }
      ]
    },
    {
      "cell_type": "code",
      "metadata": {
        "colab": {
          "base_uri": "https://localhost:8080/"
        },
        "id": "B7UEkt_UT8BE",
        "outputId": "19028015-7a43-4d7a-b714-32b13f6c04ad"
      },
      "source": [
        "print ('i am {}, age {}, {}'.format('seven', 18, 'alex'))"
      ],
      "execution_count": null,
      "outputs": [
        {
          "output_type": "stream",
          "text": [
            "i am seven, age 18, alex\n"
          ],
          "name": "stdout"
        }
      ]
    },
    {
      "cell_type": "code",
      "metadata": {
        "colab": {
          "base_uri": "https://localhost:8080/"
        },
        "id": "LJJfMHkE7OaV",
        "outputId": "73539efb-6589-45b2-a312-089852147cf2"
      },
      "source": [
        "print ('i am {}, age {}, {}'.format(*['seven', 18, 'alex'])) # 一个星号*代表传的是一个列表，**两个代表万能参数，随便传"
      ],
      "execution_count": null,
      "outputs": [
        {
          "output_type": "stream",
          "text": [
            "i am seven, age 18, alex\n"
          ],
          "name": "stdout"
        }
      ]
    },
    {
      "cell_type": "code",
      "metadata": {
        "colab": {
          "base_uri": "https://localhost:8080/"
        },
        "id": "V-Ssjs6A7fKs",
        "outputId": "9e1a9f30-9ddc-4e10-a403-f2aa3828f7ed"
      },
      "source": [
        "print ('i am {0}, age {1}, really {0}'.format(*['seven', 18]))"
      ],
      "execution_count": null,
      "outputs": [
        {
          "output_type": "stream",
          "text": [
            "i am seven, age 18, really seven\n"
          ],
          "name": "stdout"
        }
      ]
    },
    {
      "cell_type": "code",
      "metadata": {
        "colab": {
          "base_uri": "https://localhost:8080/"
        },
        "id": "TgIpBytR7zA4",
        "outputId": "b5dec592-0be7-4e57-b403-cf8718172f5d"
      },
      "source": [
        "print ('i am {name}, age {age}, really {name}'.format(name = 'seven', age = 18))"
      ],
      "execution_count": null,
      "outputs": [
        {
          "output_type": "stream",
          "text": [
            "i am seven, age 18, really seven\n"
          ],
          "name": "stdout"
        }
      ]
    },
    {
      "cell_type": "code",
      "metadata": {
        "colab": {
          "base_uri": "https://localhost:8080/",
          "height": 149
        },
        "id": "TizOOkAD8JFd",
        "outputId": "5c47a240-c16c-4726-cdfe-ba376e1ff7ab"
      },
      "source": [
        " print ('i am {name}, age {age}, really {name}'.format(**['name':'seven', 'age':18])"
      ],
      "execution_count": null,
      "outputs": [
        {
          "output_type": "error",
          "ename": "SyntaxError",
          "evalue": "ignored",
          "traceback": [
            "\u001b[0;36m  File \u001b[0;32m\"<ipython-input-5-c201c5a3158f>\"\u001b[0;36m, line \u001b[0;32m1\u001b[0m\n\u001b[0;31m    print ('i am {name}, age {age}, really {name}'.format(**['name':'seven', 'age':18])\u001b[0m\n\u001b[0m                                                                   ^\u001b[0m\n\u001b[0;31mSyntaxError\u001b[0m\u001b[0;31m:\u001b[0m invalid syntax\n"
          ]
        }
      ]
    },
    {
      "cell_type": "code",
      "metadata": {
        "colab": {
          "base_uri": "https://localhost:8080/",
          "height": 131
        },
        "id": "AKiLS7UU8nPo",
        "outputId": "8b21152f-5617-4a2f-9dba-4f7db3302ec9"
      },
      "source": [
        "print ('i am {name}, age {age}, really {name}'.format(**{'name':'seven', 'age':18})"
      ],
      "execution_count": null,
      "outputs": [
        {
          "output_type": "error",
          "ename": "SyntaxError",
          "evalue": "ignored",
          "traceback": [
            "\u001b[0;36m  File \u001b[0;32m\"<ipython-input-6-729b911ec3a3>\"\u001b[0;36m, line \u001b[0;32m1\u001b[0m\n\u001b[0;31m    print ('i am {name}, age {age}, really {name}'.format(**{'name':'seven', 'age':18})\u001b[0m\n\u001b[0m                                                                                       ^\u001b[0m\n\u001b[0;31mSyntaxError\u001b[0m\u001b[0;31m:\u001b[0m unexpected EOF while parsing\n"
          ]
        }
      ]
    },
    {
      "cell_type": "code",
      "metadata": {
        "colab": {
          "base_uri": "https://localhost:8080/"
        },
        "id": "PWWmY5cq8vEF",
        "outputId": "2654070a-cac9-45eb-f5f8-a82828bb9b23"
      },
      "source": [
        "print ('i am {name}, age {age}, really {name}'.format(**{'name':'seven', 'age':18}))"
      ],
      "execution_count": null,
      "outputs": [
        {
          "output_type": "stream",
          "text": [
            "i am seven, age 18, really seven\n"
          ],
          "name": "stdout"
        }
      ]
    },
    {
      "cell_type": "code",
      "metadata": {
        "colab": {
          "base_uri": "https://localhost:8080/"
        },
        "id": "VzW_eqNl9A_j",
        "outputId": "fc101cbd-68ad-49b2-f410-d9b8a5f96c5f"
      },
      "source": [
        "print ('i am {:s}, age {:d}, money {:.2f}'.format('seven', 34, 67.99808))"
      ],
      "execution_count": null,
      "outputs": [
        {
          "output_type": "stream",
          "text": [
            "i am seven, age 34, money 68.00\n"
          ],
          "name": "stdout"
        }
      ]
    },
    {
      "cell_type": "code",
      "metadata": {
        "colab": {
          "base_uri": "https://localhost:8080/"
        },
        "id": "tQixVgjh9slf",
        "outputId": "025f63e6-0bb8-4966-f624-52f40a3da003"
      },
      "source": [
        "import numpy as np\n",
        "from IPython import display\n",
        "def f(x):\n",
        "    return 3 * x ** 2 - 4 * x\n",
        "def numerical_lim(f, x, h):\n",
        "    return (f(x + h) - f(x)) / h\n",
        "\n",
        "h = 0.1\n",
        "for i in range(5):\n",
        "    print(f'h={h:.5f}, numerical limit={numerical_lim(f, 1, h):.5f}')\n",
        "    h *= 0.1"
      ],
      "execution_count": null,
      "outputs": [
        {
          "output_type": "stream",
          "text": [
            "h=0.10000, numerical limit=2.30000\n",
            "h=0.01000, numerical limit=2.03000\n",
            "h=0.00100, numerical limit=2.00300\n",
            "h=0.00010, numerical limit=2.00030\n",
            "h=0.00001, numerical limit=2.00003\n"
          ],
          "name": "stdout"
        }
      ]
    },
    {
      "cell_type": "code",
      "metadata": {
        "id": "KrIx91b5AKff"
      },
      "source": [
        "from matplotlib import pyplot as plt"
      ],
      "execution_count": null,
      "outputs": []
    },
    {
      "cell_type": "code",
      "metadata": {
        "id": "34dlmmdFHXhv"
      },
      "source": [
        "def use_svg_dispaly():\n",
        "  display.set_matplotlib_formats('svg')"
      ],
      "execution_count": null,
      "outputs": []
    },
    {
      "cell_type": "code",
      "metadata": {
        "id": "_ckRabOpHhn2"
      },
      "source": [
        "def set_figsize(figsize=(3.5, 2.5)):\n",
        "  use_svg_dispaly()\n",
        "  plt.rcParams['figure.figsize'] = figsize"
      ],
      "execution_count": null,
      "outputs": []
    },
    {
      "cell_type": "code",
      "metadata": {
        "id": "_n3ifE1MIK6C"
      },
      "source": [
        "def set_axes(axes, xlabel, ylabel, xlim, ylim, xsacle, yscale, legend):\n",
        "  axes.set_xlabel(xlabel)\n",
        "  axes.set_ylabel(ylabel)\n",
        "  axes.set_xscale(xscale)\n",
        "  axes.set_yscale(yscale)\n",
        "  axes.set_xlim(xlim)\n",
        "  axes.set_ylim(ylim)\n",
        "  if legend:\n",
        "    axes.legend(legend)\n",
        "  axes.grid()"
      ],
      "execution_count": null,
      "outputs": []
    },
    {
      "cell_type": "code",
      "metadata": {
        "colab": {
          "base_uri": "https://localhost:8080/",
          "height": 52
        },
        "id": "oWXMsbkUJDyT",
        "outputId": "d6e7b61c-6d69-4a78-f721-c04a0245dfd8"
      },
      "source": [
        "fig=plt.figure()\n",
        "fig"
      ],
      "execution_count": null,
      "outputs": [
        {
          "output_type": "execute_result",
          "data": {
            "text/plain": [
              "<Figure size 432x288 with 0 Axes>"
            ]
          },
          "metadata": {
            "tags": []
          },
          "execution_count": 27
        },
        {
          "output_type": "display_data",
          "data": {
            "text/plain": [
              "<Figure size 432x288 with 0 Axes>"
            ]
          },
          "metadata": {
            "tags": []
          }
        }
      ]
    },
    {
      "cell_type": "code",
      "metadata": {
        "colab": {
          "base_uri": "https://localhost:8080/",
          "height": 131
        },
        "id": "qYzSaJD7Mgzg",
        "outputId": "848e7021-2d3e-4127-df9e-e78cf9f7247d"
      },
      "source": [
        "class Bird:\n",
        "    def __init__(self):\n",
        "          self.hungry = True\n",
        "    def eat(self):\n",
        "          if self.hungry:\n",
        "               print ('Ahahahah')\n",
        "          else:\n",
        "               print ('No thanks!')\n",
        "\n",
        "class SongBird(Bird):\n",
        "     def __init__(self):\n",
        "          self.sound = 'Squawk'\n",
        "     def sing(self):\n",
        "          print self.song()\n",
        "sb = SongBird()\n",
        "sb.sing()"
      ],
      "execution_count": null,
      "outputs": [
        {
          "output_type": "error",
          "ename": "SyntaxError",
          "evalue": "ignored",
          "traceback": [
            "\u001b[0;36m  File \u001b[0;32m\"<ipython-input-2-76df83db317b>\"\u001b[0;36m, line \u001b[0;32m14\u001b[0m\n\u001b[0;31m    print self.song()\u001b[0m\n\u001b[0m             ^\u001b[0m\n\u001b[0;31mSyntaxError\u001b[0m\u001b[0;31m:\u001b[0m invalid syntax\n"
          ]
        }
      ]
    },
    {
      "cell_type": "code",
      "metadata": {
        "colab": {
          "base_uri": "https://localhost:8080/"
        },
        "id": "CmvHCFRP6rT3",
        "outputId": "ab7a8b1a-064d-4ddd-b302-ed798a1f6d53"
      },
      "source": [
        "class A:\n",
        "     def add(self, x):\n",
        "         y = x+1\n",
        "         print(y)\n",
        "class B(A):\n",
        "    def add(self, x):\n",
        "        super().add(x)\n",
        "b = B()\n",
        "b.add(2)"
      ],
      "execution_count": null,
      "outputs": [
        {
          "output_type": "stream",
          "text": [
            "3\n"
          ],
          "name": "stdout"
        }
      ]
    },
    {
      "cell_type": "code",
      "metadata": {
        "id": "wu4scfhb8EJf",
        "colab": {
          "base_uri": "https://localhost:8080/"
        },
        "outputId": "9848596b-87cb-4d07-c06d-112660325314"
      },
      "source": [
        "import torch\n",
        "\n",
        "x = torch.arange(4.0)\n",
        "x"
      ],
      "execution_count": 2,
      "outputs": [
        {
          "output_type": "execute_result",
          "data": {
            "text/plain": [
              "tensor([0., 1., 2., 3.])"
            ]
          },
          "metadata": {
            "tags": []
          },
          "execution_count": 2
        }
      ]
    },
    {
      "cell_type": "code",
      "metadata": {
        "id": "6-N2qrHYdNLV"
      },
      "source": [
        "# 在我们计算y关于x的梯度前，需要一个地方来存储梯度。\n",
        "x.requires_grad_(True) \n",
        "x.grad #默认是None"
      ],
      "execution_count": 3,
      "outputs": []
    },
    {
      "cell_type": "code",
      "metadata": {
        "colab": {
          "base_uri": "https://localhost:8080/"
        },
        "id": "rD7Kki-Odjmc",
        "outputId": "935d2d09-8651-40a2-e0a7-9348f83dcc62"
      },
      "source": [
        "y = 2* torch.dot(x, x)\n",
        "y"
      ],
      "execution_count": 4,
      "outputs": [
        {
          "output_type": "execute_result",
          "data": {
            "text/plain": [
              "tensor(28., grad_fn=<MulBackward0>)"
            ]
          },
          "metadata": {
            "tags": []
          },
          "execution_count": 4
        }
      ]
    },
    {
      "cell_type": "code",
      "metadata": {
        "colab": {
          "base_uri": "https://localhost:8080/"
        },
        "id": "5lfhc_6Aeykx",
        "outputId": "1bd2c807-9f56-4dd8-adea-e6c5e7528000"
      },
      "source": [
        "y.backward() #通过调用反向传播函数来自动计算y关于x每个分量的梯度\n",
        "x.grad"
      ],
      "execution_count": 5,
      "outputs": [
        {
          "output_type": "execute_result",
          "data": {
            "text/plain": [
              "tensor([ 0.,  4.,  8., 12.])"
            ]
          },
          "metadata": {
            "tags": []
          },
          "execution_count": 5
        }
      ]
    },
    {
      "cell_type": "code",
      "metadata": {
        "colab": {
          "base_uri": "https://localhost:8080/",
          "height": 201
        },
        "id": "l9FhlL3RfXE7",
        "outputId": "9ed3e815-3f13-4c66-fb6c-44a3d2ab168a"
      },
      "source": [
        "# 默认情况下，pytorch会累积梯度，需要清除之前的值\n",
        "x.grad.zero_()\n",
        "PATH = './drive/MyDrive/Untitled0.ipynb'\n",
        "torch.save(best_model.state_dict(), PATH)"
      ],
      "execution_count": 6,
      "outputs": [
        {
          "output_type": "error",
          "ename": "NameError",
          "evalue": "ignored",
          "traceback": [
            "\u001b[0;31m---------------------------------------------------------------------------\u001b[0m",
            "\u001b[0;31mNameError\u001b[0m                                 Traceback (most recent call last)",
            "\u001b[0;32m<ipython-input-6-2f4cd892250f>\u001b[0m in \u001b[0;36m<module>\u001b[0;34m()\u001b[0m\n\u001b[1;32m      2\u001b[0m \u001b[0mx\u001b[0m\u001b[0;34m.\u001b[0m\u001b[0mgrad\u001b[0m\u001b[0;34m.\u001b[0m\u001b[0mzero_\u001b[0m\u001b[0;34m(\u001b[0m\u001b[0;34m)\u001b[0m\u001b[0;34m\u001b[0m\u001b[0;34m\u001b[0m\u001b[0m\n\u001b[1;32m      3\u001b[0m \u001b[0mPATH\u001b[0m \u001b[0;34m=\u001b[0m \u001b[0;34m'./drive/MyDrive/Untitled0.ipynb'\u001b[0m\u001b[0;34m\u001b[0m\u001b[0;34m\u001b[0m\u001b[0m\n\u001b[0;32m----> 4\u001b[0;31m \u001b[0mtorch\u001b[0m\u001b[0;34m.\u001b[0m\u001b[0msave\u001b[0m\u001b[0;34m(\u001b[0m\u001b[0mbest_model\u001b[0m\u001b[0;34m.\u001b[0m\u001b[0mstate_dict\u001b[0m\u001b[0;34m(\u001b[0m\u001b[0;34m)\u001b[0m\u001b[0;34m,\u001b[0m \u001b[0mPATH\u001b[0m\u001b[0;34m)\u001b[0m\u001b[0;34m\u001b[0m\u001b[0;34m\u001b[0m\u001b[0m\n\u001b[0m",
            "\u001b[0;31mNameError\u001b[0m: name 'best_model' is not defined"
          ]
        }
      ]
    },
    {
      "cell_type": "code",
      "metadata": {
        "id": "y3iiRhvbhZT1"
      },
      "source": [
        ""
      ],
      "execution_count": null,
      "outputs": []
    }
  ]
}